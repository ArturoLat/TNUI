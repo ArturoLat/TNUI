{
 "cells": [
  {
   "cell_type": "markdown",
   "metadata": {},
   "source": [
    "# Naive Bayes i Classificació\n"
   ]
  },
  {
   "cell_type": "markdown",
   "metadata": {},
   "source": [
    "En aquest tercer lliurament es programarà un classificador, que donada una *piulada*, la categoritzarà en una de les possibles classes. En aquesta ocasió, implementareu un classificador amb *piulades* relacionades amb el *cyber bullying*.\n",
    "\n",
    "Recordeu que l'objectiu principal d'aquesta pràctica és desenvolupar un classificador amb una *accuracy* alta. \n",
    "\n",
    "\n",
    "**Què s’ha de fer?**\n",
    "\n",
    "Volem classificar *piulades* segons a quin tipus de *cyber bullying* pertanyen. Així doncs, a partir de tots les *piulades* que tenim, crearem un vector de característiques que ens descrigui cadascuna. A continuació desenvoluparem un classificador probabilístic del tipus **Naive Bayes** que ens permeti identificar a quina classe de *cyber bullying* pertany una *piulada* donada, segons les característiques disenyades.\n",
    "\n",
    "\n",
    "**Quina és la idea del sistema de classificació que s’ha de desenvolupar?**\n",
    "\n",
    "El classificador és un concepte de l'aprenentatge automàtic supervisat. L'objectiu del classificador és donat un vector de característiques que descriuen els objectes que es volen classificar indicar a quina categoria o classe pertanyen d'entre un conjunt predeterminat. \n",
    "\n",
    "El procés de classificació consta de dues parts: \n",
    "\n",
    "+ el procés d'aprenentatge i \n",
    "+ el procés d'explotació o testeig. \n",
    "\n",
    "El procés d'aprenentatge rep exemples de parelles $(x,y)$ on $x$ són les característiques, usualment representades per nombres reals, i $y$ és la categoria a la que pertanyen. \n",
    "Aquest conjunt se'l coneix com a conjunt d'entrenament i ens servirà per trobar una funció $\\hat{y}=f(x)$ que donada una $x$ aconsegueixi que $\\hat{y}$ sigui semblant $y$. \n",
    "\n",
    "Per altra banda el procés de testeig aplica la funció $f(x)$ apresa a l'entrenament a a dades no presents en el conjunt d'aprenentatge per avaluar el classificador.\n",
    "\n",
    "**Classificació i llenguatge natural**\n",
    "\n",
    "La descripció dels exemples en característiques és el punt més crític de tot sistema d'aprenentatge automàtic. \n",
    "Una de les representacions més simples per tal de descriure un text és la representació [\"bag-of-words\"](https://en.wikipedia.org/wiki/Bag-of-words_model).\n",
    "\n",
    "Aquesta representació converteix un text en un vector de $N$ paraules. \n",
    "Primer haurem de seleccionar el conjunt d'$N$ paraules que volem fer servir. Després, per cada paraula comptar quants cops apareix en el text. \n",
    "\n",
    "Una versió alternativa i més simple d'aquest procés pot ser simplement indicar al vector si una determinada paraula apareix o no en el text."
   ]
  },
  {
   "cell_type": "markdown",
   "metadata": {},
   "source": [
    "## Abans de començar\n",
    "\n",
    "\n",
    "**\\+ Durant la pràctica, solament es podran fer servir les següents llibreries**:\n",
    "\n",
    "`Pandas, Numpy, Re` i `NLTK`\n",
    "\n",
    "Python té un paquet integrat anomenat [\"re\"](https://www.w3schools.com/python/python_regex.asp), que es pot utilitzar per treballar amb expressions regulars. És molt aconsellable fer servir aquest paquet per processar les paraules.\n",
    "\n",
    "**\\+ No es poden modificar les definicions de les funcions donades, ni canviar els noms de les variables i paràmetres ja donats**\n",
    "\n",
    "Això no implica però que els hàgiu de fer servir. És a dir, que la funció tingui un paràmetre anomenat `df` no implica que l'hàgiu de fer servir, si no ho trobeu convenient.\n",
    "\n",
    "**\\+ En les funcions, s'especifica que serà i de quin tipus cada un dels paràmetres, cal respectar-ho**\n",
    "\n",
    "Per exemple (ho posarà en el pydoc de la funció), `df` sempre serà indicatiu del `Pandas.DataFrame` de les dades. Durant els testos, els paràmetres (i específicament `df`) no contindran les mateixes dades que en aquest notebook, si bé si seran del mateix tipus! Per tant, no us refieu de què tinguin, per exemple, el mateix nombre de files."
   ]
  },
  {
   "cell_type": "markdown",
   "metadata": {},
   "source": [
    "## Les dades\n",
    "\n",
    "El 15 d'Abril de 2020, UNICEF va llançar una alarma com a resposta de l'augment de risc de *cyber bullying* durant la pandèmia COVID-19. \n",
    "\n",
    "Les estadístiques són prou alarmants: un 36.5% dels estudiants de l'escola fins a l'institut s'han sentit víctimes del *cyber bullying* i un 87% n'han estat testimonis, amb efectes que van des d'una disminució de resultats acadèmics fins a pensaments suïcides.\n",
    "\n",
    "Amb l'objectiu d'ajudar a l'analisis de la situació, s'ha construit un dataset que conté més de 47000 *piulades* etiquetades d'acord amb la classe de *cyber bullying* que s'està donant:\n",
    "\n",
    "1. `age`;\n",
    "2. `ethnicity`;\n",
    "3. `gender`;\n",
    "4. `religion`;\n",
    "5. `other type of cyberbullying`;\n",
    "6. `not cyberbullying`\n",
    "\n",
    "Les dades han estat balancejades per tal de contenir aproximadament 8000 mostres de cada classe."
   ]
  },
  {
   "cell_type": "markdown",
   "metadata": {},
   "source": [
    "# Preparar les dades"
   ]
  },
  {
   "cell_type": "markdown",
   "metadata": {},
   "source": [
    "## Lectura de les dades"
   ]
  },
  {
   "cell_type": "code",
   "execution_count": 1,
   "metadata": {
    "tags": [],
    "ExecuteTime": {
     "end_time": "2023-12-01T07:38:21.104873700Z",
     "start_time": "2023-12-01T07:38:20.703938600Z"
    }
   },
   "outputs": [],
   "source": [
    "import pandas as pd\n",
    "import numpy as np\n",
    "import re"
   ]
  },
  {
   "cell_type": "code",
   "execution_count": 2,
   "metadata": {
    "tags": [],
    "ExecuteTime": {
     "end_time": "2023-12-01T07:38:33.226227800Z",
     "start_time": "2023-12-01T07:38:33.067429Z"
    }
   },
   "outputs": [
    {
     "data": {
      "text/plain": "                                              tweet_text cyberbullying_type\n0      In other words #katandandre, your food was cra...  not_cyberbullying\n1      Why is #aussietv so white? #MKR #theblock #ImA...  not_cyberbullying\n2      @XochitlSuckkks a classy whore? Or more red ve...  not_cyberbullying\n3      @Jason_Gio meh. :P  thanks for the heads up, b...  not_cyberbullying\n4      @RudhoeEnglish This is an ISIS account pretend...  not_cyberbullying\n...                                                  ...                ...\n47687  Black ppl aren't expected to do anything, depe...          ethnicity\n47688  Turner did not withhold his disappointment. Tu...          ethnicity\n47689  I swear to God. This dumb nigger bitch. I have...          ethnicity\n47690  Yea fuck you RT @therealexel: IF YOURE A NIGGE...          ethnicity\n47691  Bro. U gotta chill RT @CHILLShrammy: Dog FUCK ...          ethnicity\n\n[47692 rows x 2 columns]",
      "text/html": "<div>\n<style scoped>\n    .dataframe tbody tr th:only-of-type {\n        vertical-align: middle;\n    }\n\n    .dataframe tbody tr th {\n        vertical-align: top;\n    }\n\n    .dataframe thead th {\n        text-align: right;\n    }\n</style>\n<table border=\"1\" class=\"dataframe\">\n  <thead>\n    <tr style=\"text-align: right;\">\n      <th></th>\n      <th>tweet_text</th>\n      <th>cyberbullying_type</th>\n    </tr>\n  </thead>\n  <tbody>\n    <tr>\n      <th>0</th>\n      <td>In other words #katandandre, your food was cra...</td>\n      <td>not_cyberbullying</td>\n    </tr>\n    <tr>\n      <th>1</th>\n      <td>Why is #aussietv so white? #MKR #theblock #ImA...</td>\n      <td>not_cyberbullying</td>\n    </tr>\n    <tr>\n      <th>2</th>\n      <td>@XochitlSuckkks a classy whore? Or more red ve...</td>\n      <td>not_cyberbullying</td>\n    </tr>\n    <tr>\n      <th>3</th>\n      <td>@Jason_Gio meh. :P  thanks for the heads up, b...</td>\n      <td>not_cyberbullying</td>\n    </tr>\n    <tr>\n      <th>4</th>\n      <td>@RudhoeEnglish This is an ISIS account pretend...</td>\n      <td>not_cyberbullying</td>\n    </tr>\n    <tr>\n      <th>...</th>\n      <td>...</td>\n      <td>...</td>\n    </tr>\n    <tr>\n      <th>47687</th>\n      <td>Black ppl aren't expected to do anything, depe...</td>\n      <td>ethnicity</td>\n    </tr>\n    <tr>\n      <th>47688</th>\n      <td>Turner did not withhold his disappointment. Tu...</td>\n      <td>ethnicity</td>\n    </tr>\n    <tr>\n      <th>47689</th>\n      <td>I swear to God. This dumb nigger bitch. I have...</td>\n      <td>ethnicity</td>\n    </tr>\n    <tr>\n      <th>47690</th>\n      <td>Yea fuck you RT @therealexel: IF YOURE A NIGGE...</td>\n      <td>ethnicity</td>\n    </tr>\n    <tr>\n      <th>47691</th>\n      <td>Bro. U gotta chill RT @CHILLShrammy: Dog FUCK ...</td>\n      <td>ethnicity</td>\n    </tr>\n  </tbody>\n</table>\n<p>47692 rows × 2 columns</p>\n</div>"
     },
     "execution_count": 2,
     "metadata": {},
     "output_type": "execute_result"
    }
   ],
   "source": [
    "df = pd.read_csv('data/cyberbullying_tweets.csv')\n",
    "df"
   ]
  },
  {
   "cell_type": "code",
   "execution_count": 3,
   "metadata": {
    "ExecuteTime": {
     "end_time": "2023-12-01T07:38:34.631549400Z",
     "start_time": "2023-12-01T07:38:34.526873100Z"
    }
   },
   "outputs": [
    {
     "data": {
      "text/plain": "religion               7998\nage                    7992\ngender                 7973\nethnicity              7961\nnot_cyberbullying      7945\nother_cyberbullying    7823\nName: cyberbullying_type, dtype: int64"
     },
     "execution_count": 3,
     "metadata": {},
     "output_type": "execute_result"
    }
   ],
   "source": [
    "df['cyberbullying_type'].value_counts()"
   ]
  },
  {
   "cell_type": "markdown",
   "metadata": {},
   "source": [
    "## Preparació del dataset\n",
    "\n",
    "Dividim les *piulades* en un conjunt d'entrenament, *train*, i en un conjunt de validació, *test*, per tal de poder entrenar i validar el nostre model de classificació."
   ]
  },
  {
   "cell_type": "code",
   "execution_count": 4,
   "metadata": {
    "ExecuteTime": {
     "end_time": "2023-12-01T07:38:38.947022Z",
     "start_time": "2023-12-01T07:38:38.421590500Z"
    }
   },
   "outputs": [],
   "source": [
    "from sklearn.model_selection import train_test_split\n",
    "\n",
    "df_tweets_train, df_tweets_test = train_test_split(df, test_size=0.2)"
   ]
  },
  {
   "cell_type": "markdown",
   "metadata": {},
   "source": [
    "Com les dades estaven balancejades originalment, podem observar que la distribució de cadascuna de les classes es manté:"
   ]
  },
  {
   "cell_type": "code",
   "execution_count": 5,
   "metadata": {
    "ExecuteTime": {
     "end_time": "2023-12-01T07:38:41.955121500Z",
     "start_time": "2023-12-01T07:38:41.940614400Z"
    }
   },
   "outputs": [
    {
     "data": {
      "text/plain": "ethnicity              6398\ngender                 6392\nage                    6387\nreligion               6381\nnot_cyberbullying      6324\nother_cyberbullying    6271\nName: cyberbullying_type, dtype: int64"
     },
     "execution_count": 5,
     "metadata": {},
     "output_type": "execute_result"
    }
   ],
   "source": [
    "df_tweets_train['cyberbullying_type'].value_counts()"
   ]
  },
  {
   "cell_type": "code",
   "execution_count": 6,
   "metadata": {
    "ExecuteTime": {
     "end_time": "2023-12-01T07:38:42.974707700Z",
     "start_time": "2023-12-01T07:38:42.939246900Z"
    }
   },
   "outputs": [
    {
     "data": {
      "text/plain": "not_cyberbullying      1621\nreligion               1617\nage                    1605\ngender                 1581\nethnicity              1563\nother_cyberbullying    1552\nName: cyberbullying_type, dtype: int64"
     },
     "execution_count": 6,
     "metadata": {},
     "output_type": "execute_result"
    }
   ],
   "source": [
    "df_tweets_test['cyberbullying_type'].value_counts()"
   ]
  },
  {
   "cell_type": "markdown",
   "metadata": {},
   "source": [
    "# Implementació\n",
    "\n",
    "Dividirem el notebook en 3 seccions que es complementen una a l'altra:\n",
    "\n",
    "1. Anàlisi exploratòria de les dades: Informació bàsica sobre les *piulades*.\n",
    "2. Processament de les dades: Creació d'un vector de característiques a partir de les *piulades*.\n",
    "3. Desenvolupament d'un classificador *Naive Bayes*. "
   ]
  },
  {
   "cell_type": "markdown",
   "metadata": {},
   "source": [
    "### 1. Anàlisis de dades\n",
    "\n",
    "El primer que haurem de fer és analitzar les dades per veure una mica com són. El que us proposem és fer una sèrie de visualitzacions per observar les dades, com ara:\n",
    "\n",
    "* el nombre de *piulades* que s'estan dirigint a una persona en concret\n",
    "* el nombre de  *hashtags* que hi ha a cada categoria de *piulades*\n",
    "* el nombre de  *piulades* que hi ha de cada categoria de *piulades*\n",
    "* el nombre de  *piulades* de la categoria `not_cyberbullying` que es dirigeixen a un usuari vs totes les altres categories\n",
    "* altres coses que penseu que poden ser rellevants."
   ]
  },
  {
   "cell_type": "code",
   "execution_count": 19,
   "metadata": {
    "ExecuteTime": {
     "end_time": "2023-12-01T08:33:00.006122300Z",
     "start_time": "2023-12-01T08:32:59.927509Z"
    }
   },
   "outputs": [
    {
     "name": "stdout",
     "output_type": "stream",
     "text": [
      "1. Nombre de piulades que se están dirigiendo a una persona en concreto: 39747\n",
      "\n",
      "2. Nombre de hashtags que hay en cada categoría de piulades:\n",
      "          Categoría  Número de Hashtags\n",
      "                age                 743\n",
      "          ethnicity                1118\n",
      "             gender                2722\n",
      "  not_cyberbullying                3285\n",
      "other_cyberbullying                1648\n",
      "           religion                1805\n",
      "\n",
      "3. Nombre de piulades que hay de cada categoría de piulades:\n",
      "          Categoría  Número de Piulades\n",
      "           religion                7998\n",
      "                age                7992\n",
      "             gender                7973\n",
      "          ethnicity                7961\n",
      "  not_cyberbullying                7945\n",
      "other_cyberbullying                7823\n",
      "\n",
      "4. Nombre de piulades de la categoría `not_cyberbullying` que se dirigen a un usuario vs todas las otras categorías:\n",
      "   - Not Cyberbullying a usuario: 4149\n",
      "   - Otras categorías a usuario: 13990\n"
     ]
    }
   ],
   "source": [
    "import matplotlib.pyplot as plt\n",
    "%matplotlib inline\n",
    "\n",
    "# 1. Nombre de *piulades* que se están dirigiendo a una persona en concreto\n",
    "piulades_a_persona = df[df['cyberbullying_type'] != 'not_cyberbullying']['tweet_text']\n",
    "num_piulades_a_persona = len(piulades_a_persona)\n",
    "\n",
    "# 2. Nombre de *hashtags* que hay en cada categoría de *piulades*\n",
    "hashtags_por_categoria = df.groupby('cyberbullying_type')['tweet_text'].apply(lambda x: ' '.join(x).count('#'))\n",
    "hashtags_por_categoria = hashtags_por_categoria.rename_axis('Categoría').reset_index(name='Número de Hashtags')\n",
    "\n",
    "# 3. Nombre de *piulades* que hay de cada categoría de *piulades*\n",
    "num_piulades_por_categoria = df['cyberbullying_type'].value_counts().rename_axis('Categoría').reset_index(name='Número de Piulades')\n",
    "\n",
    "# 4. Nombre de *piulades* de la categoría `not_cyberbullying` que se dirigen a un usuario vs todas las otras categorías\n",
    "piulades_not_cyberbullying = df[df['cyberbullying_type'] == 'not_cyberbullying']['tweet_text']\n",
    "num_piulades_not_cyberbullying_a_usuario = piulades_not_cyberbullying.str.contains('@').sum()\n",
    "num_piulades_not_cyberbullying_otras_categorias = df[df['cyberbullying_type'] != 'not_cyberbullying']['tweet_text'].str.contains('@').sum()\n",
    "\n",
    "# Resultados\n",
    "print(f\"1. Nombre de piulades que se están dirigiendo a una persona en concreto: {num_piulades_a_persona}\\n\")\n",
    "\n",
    "print(\"2. Nombre de hashtags que hay en cada categoría de piulades:\")\n",
    "print(hashtags_por_categoria.to_string(index=False), end='\\n\\n')\n",
    "\n",
    "print(\"3. Nombre de piulades que hay de cada categoría de piulades:\")\n",
    "print(num_piulades_por_categoria.to_string(index=False), end='\\n\\n')\n",
    "\n",
    "print(f\"4. Nombre de piulades de la categoría `not_cyberbullying` que se dirigen a un usuario vs todas las otras categorías:\")\n",
    "print(f\"   - Not Cyberbullying a usuario: {num_piulades_not_cyberbullying_a_usuario}\")\n",
    "print(f\"   - Otras categorías a usuario: {num_piulades_not_cyberbullying_otras_categorias}\")"
   ]
  },
  {
   "cell_type": "code",
   "execution_count": 20,
   "metadata": {
    "tags": [],
    "ExecuteTime": {
     "end_time": "2023-12-01T08:33:01.322919800Z",
     "start_time": "2023-12-01T08:33:01.307291400Z"
    }
   },
   "outputs": [
    {
     "data": {
      "text/plain": "                                              tweet_text   cyberbullying_type\n3034         @eaballesty @tim_geelen No True Scotsman...    not_cyberbullying\n29605       my dragonite brings all the boys to the yard  other_cyberbullying\n11653             @leyna76 In this case, evidently, yes.               gender\n36611  Theyre just doing their best ok also they look...                  age\n4915                            Intelligence &amp; class    not_cyberbullying",
      "text/html": "<div>\n<style scoped>\n    .dataframe tbody tr th:only-of-type {\n        vertical-align: middle;\n    }\n\n    .dataframe tbody tr th {\n        vertical-align: top;\n    }\n\n    .dataframe thead th {\n        text-align: right;\n    }\n</style>\n<table border=\"1\" class=\"dataframe\">\n  <thead>\n    <tr style=\"text-align: right;\">\n      <th></th>\n      <th>tweet_text</th>\n      <th>cyberbullying_type</th>\n    </tr>\n  </thead>\n  <tbody>\n    <tr>\n      <th>3034</th>\n      <td>@eaballesty @tim_geelen No True Scotsman...</td>\n      <td>not_cyberbullying</td>\n    </tr>\n    <tr>\n      <th>29605</th>\n      <td>my dragonite brings all the boys to the yard</td>\n      <td>other_cyberbullying</td>\n    </tr>\n    <tr>\n      <th>11653</th>\n      <td>@leyna76 In this case, evidently, yes.</td>\n      <td>gender</td>\n    </tr>\n    <tr>\n      <th>36611</th>\n      <td>Theyre just doing their best ok also they look...</td>\n      <td>age</td>\n    </tr>\n    <tr>\n      <th>4915</th>\n      <td>Intelligence &amp;amp; class</td>\n      <td>not_cyberbullying</td>\n    </tr>\n  </tbody>\n</table>\n</div>"
     },
     "execution_count": 20,
     "metadata": {},
     "output_type": "execute_result"
    }
   ],
   "source": [
    "df_tweets_train.head()"
   ]
  },
  {
   "cell_type": "markdown",
   "metadata": {},
   "source": [
    "#### **EXERCICI 1:** \n",
    "\n",
    "* Quantes *piulades* estan dirigides a un usuari concret? Diem que una piulada va dirigida a una persona en concret si contenen el patró ``@usuari``. \n",
    "\n",
    "[Restriccions](https://help.twitter.com/en/managing-your-account/change-twitter-handle) que imposa X sobre el patró:\n",
    "+ Nomes són valids aquells patrons amb caràcters alfanumèrics ``[A-z 0-9]`` i el caràcter ``_``\n",
    "+ Els patrons han de començar per ``@`` i han de tenir més de 4 i menys de 16 caràcters.\n",
    "\n",
    "En aquest exercici és extremadament útil l'ús del mòdul ``re``."
   ]
  },
  {
   "cell_type": "code",
   "execution_count": 14,
   "metadata": {
    "ExecuteTime": {
     "end_time": "2023-12-01T08:31:40.754753600Z",
     "start_time": "2023-12-01T08:31:40.739092900Z"
    }
   },
   "outputs": [],
   "source": [
    "def piulades_to_user(df):\n",
    "    \"\"\"\n",
    "    Cuenta cuántas piulades están dirigidas a un usuario concreto en un DataFrame.\n",
    "\n",
    "    Parameters:\n",
    "    - df: DataFrame que contiene la columna 'tweet_text'.\n",
    "\n",
    "    Returns:\n",
    "    - Número de piulades dirigidas a un usuario concreto.\n",
    "    \"\"\"\n",
    "\n",
    "    # Restricciones del patrón de usuario\n",
    "    patron_usuario = re.compile(r'@([A-Za-z0-9_]{4,15})\\b')\n",
    "\n",
    "    # Contar las piulades dirigidas a un usuario concreto\n",
    "    piulades_dirigidas_a_usuario = df['tweet_text'].apply(lambda x: bool(re.search(patron_usuario, x))).sum()\n",
    "\n",
    "    return piulades_dirigidas_a_usuario"
   ]
  },
  {
   "cell_type": "code",
   "execution_count": 24,
   "outputs": [
    {
     "name": "stdout",
     "output_type": "stream",
     "text": [
      "17976\n",
      "17976\n"
     ]
    }
   ],
   "source": [
    "print(piulades_to_user(df))\n",
    "\n",
    "print(piulades_to_user(df_tweets_train) + piulades_to_user(df_tweets_test))"
   ],
   "metadata": {
    "collapsed": false,
    "ExecuteTime": {
     "end_time": "2023-12-01T08:33:55.184557200Z",
     "start_time": "2023-12-01T08:33:55.074229400Z"
    }
   }
  },
  {
   "cell_type": "markdown",
   "metadata": {},
   "source": [
    "+ Quants *hashtags* ``#`` hi ha a cada categoria de *piulades*?\n",
    "\n",
    "Compteu els ``#`` que vagin seguits d'alguna lletra o nombre ja que, com veiem a la [normativa](https://help.twitter.com/en/using-twitter/how-to-use-hashtags) de X, els ``#`` no poden contenir cap mena de signe de puntuació."
   ]
  },
  {
   "cell_type": "code",
   "execution_count": 28,
   "metadata": {
    "ExecuteTime": {
     "end_time": "2023-12-01T08:36:06.714994Z",
     "start_time": "2023-12-01T08:36:06.622817100Z"
    }
   },
   "outputs": [
    {
     "data": {
      "text/plain": "             Categoría  Número de Hashtags\n0                  age                 725\n1            ethnicity                1101\n2               gender                2688\n3    not_cyberbullying                3252\n4  other_cyberbullying                1608\n5             religion                1706",
      "text/html": "<div>\n<style scoped>\n    .dataframe tbody tr th:only-of-type {\n        vertical-align: middle;\n    }\n\n    .dataframe tbody tr th {\n        vertical-align: top;\n    }\n\n    .dataframe thead th {\n        text-align: right;\n    }\n</style>\n<table border=\"1\" class=\"dataframe\">\n  <thead>\n    <tr style=\"text-align: right;\">\n      <th></th>\n      <th>Categoría</th>\n      <th>Número de Hashtags</th>\n    </tr>\n  </thead>\n  <tbody>\n    <tr>\n      <th>0</th>\n      <td>age</td>\n      <td>725</td>\n    </tr>\n    <tr>\n      <th>1</th>\n      <td>ethnicity</td>\n      <td>1101</td>\n    </tr>\n    <tr>\n      <th>2</th>\n      <td>gender</td>\n      <td>2688</td>\n    </tr>\n    <tr>\n      <th>3</th>\n      <td>not_cyberbullying</td>\n      <td>3252</td>\n    </tr>\n    <tr>\n      <th>4</th>\n      <td>other_cyberbullying</td>\n      <td>1608</td>\n    </tr>\n    <tr>\n      <th>5</th>\n      <td>religion</td>\n      <td>1706</td>\n    </tr>\n  </tbody>\n</table>\n</div>"
     },
     "execution_count": 28,
     "metadata": {},
     "output_type": "execute_result"
    }
   ],
   "source": [
    "def count_hashtag(text):\n",
    "    normativa = re.compile(r'#([A-Za-z0-9]+)\\b')\n",
    "    hashtags = re.findall(normativa, text)\n",
    "    return len(hashtags)\n",
    "\n",
    "\n",
    "def hashtag_category(dataFrame):\n",
    "    dataFrame['num_hashtags'] = dataFrame['tweet_text'].apply(count_hashtag)\n",
    "    hashtags_por_categoria = df.groupby('cyberbullying_type')['num_hashtags'].sum().reset_index()\n",
    "    hashtags_por_categoria = hashtags_por_categoria.rename(columns={'cyberbullying_type': 'Categoría', 'num_hashtags': 'Número de Hashtags'})\n",
    "    return hashtags_por_categoria\n",
    "\n",
    "# Obtener el DataFrame con el número de hashtags por categoría\n",
    "resultado_hashtags = hashtag_category(df)\n",
    "\n",
    "resultado_hashtags"
   ]
  },
  {
   "cell_type": "markdown",
   "metadata": {},
   "source": [
    "+ Fes un histograma que representi aquesta distribució?"
   ]
  },
  {
   "cell_type": "code",
   "execution_count": 31,
   "metadata": {
    "ExecuteTime": {
     "end_time": "2023-12-01T08:42:39.861876100Z",
     "start_time": "2023-12-01T08:42:39.725509500Z"
    }
   },
   "outputs": [
    {
     "data": {
      "text/plain": "<Figure size 1000x600 with 1 Axes>",
      "image/png": "[encoded data removed]"
     },
     "metadata": {},
     "output_type": "display_data"
    }
   ],
   "source": [
    "# Configurar el tamaño del gráfico\n",
    "plt.figure(figsize=(10, 6))\n",
    "\n",
    "# Crear el histograma\n",
    "plt.bar(resultado_hashtags['Categoría'], resultado_hashtags['Número de Hashtags'], color='blue')\n",
    "\n",
    "# Configurar el título y etiquetas\n",
    "plt.title('Distribución del Número de Hashtags por Categoría')\n",
    "plt.xlabel('Categoría')\n",
    "\n",
    "# Rotar las etiquetas del eje x para evitar solapamientos\n",
    "plt.xticks(rotation=45, ha=\"right\")\n",
    "\n",
    "plt.ylabel('Número de Hashtags')\n",
    "\n",
    "# Mostrar el histograma\n",
    "plt.show()"
   ]
  },
  {
   "cell_type": "markdown",
   "metadata": {},
   "source": [
    "+ Comproveu a continuació quantes vegades hi ha un ús invàlid dels ``#``, per exemple ``##`` o ``#@``, on, si no tinguessim en compte la restriccio imposada, hauriem contat 2 ``#`` a ``##`` o 1 ``#`` a ``#@``, quan en realitat son 1 i 0 respectivament."
   ]
  },
  {
   "cell_type": "code",
   "execution_count": 36,
   "metadata": {
    "ExecuteTime": {
     "end_time": "2023-12-01T08:45:53.409634300Z",
     "start_time": "2023-12-01T08:45:53.385401300Z"
    }
   },
   "outputs": [],
   "source": [
    "def count_invalid_uses(text):\n",
    "    uses_invalid_restriction = re.compile(r'#\\W*#|#@')\n",
    "    uses_invalid = re.findall(uses_invalid_restriction, text)\n",
    "    return len(uses_invalid)\n",
    "\n",
    "def count_invalid(dataFrame):\n",
    "    dataFrame['num_usos_invalidos'] = dataFrame['tweet_text'].apply(count_invalid_uses)\n",
    "\n",
    "    # Mostrar el número total de usos inválidos de '#' en el conjunto de datos\n",
    "    return dataFrame['num_usos_invalidos'].sum()"
   ]
  },
  {
   "cell_type": "code",
   "execution_count": 39,
   "outputs": [
    {
     "data": {
      "text/plain": "9"
     },
     "execution_count": 39,
     "metadata": {},
     "output_type": "execute_result"
    }
   ],
   "source": [
    "total_uses_invalid = count_invalid(df)\n",
    "total_uses_invalid"
   ],
   "metadata": {
    "collapsed": false,
    "ExecuteTime": {
     "end_time": "2023-12-01T08:46:30.390092500Z",
     "start_time": "2023-12-01T08:46:30.310208300Z"
    }
   }
  },
  {
   "cell_type": "markdown",
   "metadata": {},
   "source": [
    "+ Quantes *piulades* vàlides hi ha de cada categoria?"
   ]
  },
  {
   "cell_type": "code",
   "execution_count": 42,
   "metadata": {
    "ExecuteTime": {
     "end_time": "2023-12-01T08:49:19.614876600Z",
     "start_time": "2023-12-01T08:49:19.583552600Z"
    }
   },
   "outputs": [],
   "source": [
    "def valid_hashtag(dataFrame):\n",
    "    dataFrame['num_hashtags'] = dataFrame['tweet_text'].apply(count_hashtag)\n",
    "    dataFrame['num_usos_invalidos'] = dataFrame['tweet_text'].apply(count_invalid_uses)\n",
    "\n",
    "    # Calcular el número de piulades válidas por categoría\n",
    "    dataFrame['num_piulades_validas'] = dataFrame.groupby('cyberbullying_type')['tweet_text'].transform('count') - dataFrame['num_usos_invalidos']\n",
    "\n",
    "    # Obtener el DataFrame con el número de hashtags por categoría\n",
    "    hashtags_por_categoria = dataFrame.groupby('cyberbullying_type')[['num_hashtags', 'num_piulades_validas']].sum().reset_index()\n",
    "    hashtags_por_categoria = hashtags_por_categoria.rename(columns={'cyberbullying_type': 'Categoría', 'num_hashtags': 'Número de Hashtags', 'num_piulades_validas': 'Número de Piulades Válidas'})\n",
    "\n",
    "    return hashtags_por_categoria\n"
   ]
  },
  {
   "cell_type": "code",
   "execution_count": 43,
   "outputs": [
    {
     "data": {
      "text/plain": "             Categoría  Número de Hashtags  Número de Piulades Válidas\n0                  age                 725                    63872062\n1            ethnicity                1101                    63377517\n2               gender                2688                    63568728\n3    not_cyberbullying                3252                    63123023\n4  other_cyberbullying                1608                    61199329\n5             religion                1706                    63968004",
      "text/html": "<div>\n<style scoped>\n    .dataframe tbody tr th:only-of-type {\n        vertical-align: middle;\n    }\n\n    .dataframe tbody tr th {\n        vertical-align: top;\n    }\n\n    .dataframe thead th {\n        text-align: right;\n    }\n</style>\n<table border=\"1\" class=\"dataframe\">\n  <thead>\n    <tr style=\"text-align: right;\">\n      <th></th>\n      <th>Categoría</th>\n      <th>Número de Hashtags</th>\n      <th>Número de Piulades Válidas</th>\n    </tr>\n  </thead>\n  <tbody>\n    <tr>\n      <th>0</th>\n      <td>age</td>\n      <td>725</td>\n      <td>63872062</td>\n    </tr>\n    <tr>\n      <th>1</th>\n      <td>ethnicity</td>\n      <td>1101</td>\n      <td>63377517</td>\n    </tr>\n    <tr>\n      <th>2</th>\n      <td>gender</td>\n      <td>2688</td>\n      <td>63568728</td>\n    </tr>\n    <tr>\n      <th>3</th>\n      <td>not_cyberbullying</td>\n      <td>3252</td>\n      <td>63123023</td>\n    </tr>\n    <tr>\n      <th>4</th>\n      <td>other_cyberbullying</td>\n      <td>1608</td>\n      <td>61199329</td>\n    </tr>\n    <tr>\n      <th>5</th>\n      <td>religion</td>\n      <td>1706</td>\n      <td>63968004</td>\n    </tr>\n  </tbody>\n</table>\n</div>"
     },
     "execution_count": 43,
     "metadata": {},
     "output_type": "execute_result"
    }
   ],
   "source": [
    "valid_hashtag = valid_hashtag(df)\n",
    "valid_hashtag"
   ],
   "metadata": {
    "collapsed": false,
    "ExecuteTime": {
     "end_time": "2023-12-01T08:49:20.697410100Z",
     "start_time": "2023-12-01T08:49:20.477797Z"
    }
   }
  },
  {
   "cell_type": "markdown",
   "metadata": {},
   "source": [
    "+ Quantes *piulades* de la categoria `not_cyberbullying` és dirigeixen a un usuari?\n",
    "+ Quantes *piulades* de totes les altres categories és dirigeixen a un usuari?"
   ]
  },
  {
   "cell_type": "code",
   "execution_count": 44,
   "metadata": {
    "ExecuteTime": {
     "end_time": "2023-12-01T08:53:42.651726400Z",
     "start_time": "2023-12-01T08:53:42.576896500Z"
    }
   },
   "outputs": [
    {
     "name": "stdout",
     "output_type": "stream",
     "text": [
      "Número de piulades de la categoría 'not_cyberbullying' dirigidas a un usuario: 4124\n",
      "Número de piulades de otras categorías dirigidas a un usuario: 13852\n"
     ]
    }
   ],
   "source": [
    "# Obtener el número de piulades de la categoría `not_cyberbullying` dirigidas a un usuario\n",
    "piulades_not_cyberbullying_to_user = piulades_to_user(df[df['cyberbullying_type'] == 'not_cyberbullying'])\n",
    "\n",
    "# Obtener el número de piulades de todas las demás categorías dirigidas a un usuario\n",
    "piulades_other_categories_to_user = piulades_to_user(df[df['cyberbullying_type'] != 'not_cyberbullying'])\n",
    "\n",
    "# Mostrar los resultados\n",
    "print(f\"Número de piulades de la categoría 'not_cyberbullying' dirigidas a un usuario: {piulades_not_cyberbullying_to_user}\")\n",
    "print(f\"Número de piulades de otras categorías dirigidas a un usuario: {piulades_other_categories_to_user}\")"
   ]
  },
  {
   "cell_type": "markdown",
   "metadata": {},
   "source": [
    "+ Calculeu altres coses que penseu que poden ser rellevants (usuaris més mencionats, *hashtags* més comuns per cada categoria, etc.)."
   ]
  },
  {
   "cell_type": "code",
   "execution_count": 70,
   "metadata": {
    "ExecuteTime": {
     "end_time": "2023-12-01T09:11:15.513734Z",
     "start_time": "2023-12-01T09:11:15.495031200Z"
    }
   },
   "outputs": [],
   "source": [
    "def more_users(text):\n",
    "    \"\"\"\n",
    "    Extrae los usuarios mencionados en un texto.\n",
    "\n",
    "    Parameters:\n",
    "    - text: Cadena de texto.\n",
    "\n",
    "    Returns:\n",
    "    - Lista de usuarios mencionados.\n",
    "    \"\"\"\n",
    "    user = re.compile(r'@([A-Za-z0-9_]{4,15})\\b')\n",
    "    user_mention = re.findall(user, text)\n",
    "    return user_mention\n",
    "\n",
    "def hashtag_count(text):\n",
    "    \"\"\"\n",
    "    Extrae los hashtags en un texto.\n",
    "\n",
    "    Parameters:\n",
    "    - text: Cadena de texto.\n",
    "\n",
    "    Returns:\n",
    "    - Lista de hashtags.\n",
    "    \"\"\"\n",
    "    hashtag_valid = re.compile(r'#([A-Za-z0-9]+)\\b')\n",
    "    hashtags = re.findall(hashtag_valid, text)\n",
    "    return hashtags\n",
    "\n"
   ]
  },
  {
   "cell_type": "code",
   "execution_count": 91,
   "outputs": [
    {
     "name": "stdout",
     "output_type": "stream",
     "text": [
      "Usuarios más mencionados por cada categoría:\n"
     ]
    },
    {
     "data": {
      "text/plain": "                               Usuario    0\ncyberbullying_type                         \nage                 0  realDonaldTrump   15\n                    1           Change   14\n                    2            POTUS    7\n                    3           CDCgov    6\n                    4   HouseDemocrats    5\nethnicity           0        tayyoung_  958\n                    1     Colton_Zappe   33\n                    2   MikeSimsWalker   22\n                    3      goshawty123   18\n                    4  AntiDARKSKINNED   16\ngender              0            MT8_9   89\n                    1   YesYoureSexist   57\n                    2       RepTedYoho   37\n                    3   mykitchenrules   30\n                    4   Feminazi_Front   20\nnot_cyberbullying   0      freebsdgirl   75\n                    1   mykitchenrules   67\n                    2    greenlinerzjm   45\n                    3    MaxBlumenthal   41\n                    4       halalflaws   41\nother_cyberbullying 0      freebsdgirl  151\n                    1  TheQuinnspiracy   76\n                    2    ChrisWarcraft   69\n                    3      Spacekatgal   63\n                    4   a_man_in_black   55\nreligion            0    MaxBlumenthal  119\n                    1    IsraeliRegime   82\n                    2    sajid_fairooz   65\n                    3       Vandaliser   57\n                    4  realDonaldTrump   50",
      "text/html": "<div>\n<style scoped>\n    .dataframe tbody tr th:only-of-type {\n        vertical-align: middle;\n    }\n\n    .dataframe tbody tr th {\n        vertical-align: top;\n    }\n\n    .dataframe thead th {\n        text-align: right;\n    }\n</style>\n<table border=\"1\" class=\"dataframe\">\n  <thead>\n    <tr style=\"text-align: right;\">\n      <th></th>\n      <th></th>\n      <th>Usuario</th>\n      <th>0</th>\n    </tr>\n    <tr>\n      <th>cyberbullying_type</th>\n      <th></th>\n      <th></th>\n      <th></th>\n    </tr>\n  </thead>\n  <tbody>\n    <tr>\n      <th rowspan=\"5\" valign=\"top\">age</th>\n      <th>0</th>\n      <td>realDonaldTrump</td>\n      <td>15</td>\n    </tr>\n    <tr>\n      <th>1</th>\n      <td>Change</td>\n      <td>14</td>\n    </tr>\n    <tr>\n      <th>2</th>\n      <td>POTUS</td>\n      <td>7</td>\n    </tr>\n    <tr>\n      <th>3</th>\n      <td>CDCgov</td>\n      <td>6</td>\n    </tr>\n    <tr>\n      <th>4</th>\n      <td>HouseDemocrats</td>\n      <td>5</td>\n    </tr>\n    <tr>\n      <th rowspan=\"5\" valign=\"top\">ethnicity</th>\n      <th>0</th>\n      <td>tayyoung_</td>\n      <td>958</td>\n    </tr>\n    <tr>\n      <th>1</th>\n      <td>Colton_Zappe</td>\n      <td>33</td>\n    </tr>\n    <tr>\n      <th>2</th>\n      <td>MikeSimsWalker</td>\n      <td>22</td>\n    </tr>\n    <tr>\n      <th>3</th>\n      <td>goshawty123</td>\n      <td>18</td>\n    </tr>\n    <tr>\n      <th>4</th>\n      <td>AntiDARKSKINNED</td>\n      <td>16</td>\n    </tr>\n    <tr>\n      <th rowspan=\"5\" valign=\"top\">gender</th>\n      <th>0</th>\n      <td>MT8_9</td>\n      <td>89</td>\n    </tr>\n    <tr>\n      <th>1</th>\n      <td>YesYoureSexist</td>\n      <td>57</td>\n    </tr>\n    <tr>\n      <th>2</th>\n      <td>RepTedYoho</td>\n      <td>37</td>\n    </tr>\n    <tr>\n      <th>3</th>\n      <td>mykitchenrules</td>\n      <td>30</td>\n    </tr>\n    <tr>\n      <th>4</th>\n      <td>Feminazi_Front</td>\n      <td>20</td>\n    </tr>\n    <tr>\n      <th rowspan=\"5\" valign=\"top\">not_cyberbullying</th>\n      <th>0</th>\n      <td>freebsdgirl</td>\n      <td>75</td>\n    </tr>\n    <tr>\n      <th>1</th>\n      <td>mykitchenrules</td>\n      <td>67</td>\n    </tr>\n    <tr>\n      <th>2</th>\n      <td>greenlinerzjm</td>\n      <td>45</td>\n    </tr>\n    <tr>\n      <th>3</th>\n      <td>MaxBlumenthal</td>\n      <td>41</td>\n    </tr>\n    <tr>\n      <th>4</th>\n      <td>halalflaws</td>\n      <td>41</td>\n    </tr>\n    <tr>\n      <th rowspan=\"5\" valign=\"top\">other_cyberbullying</th>\n      <th>0</th>\n      <td>freebsdgirl</td>\n      <td>151</td>\n    </tr>\n    <tr>\n      <th>1</th>\n      <td>TheQuinnspiracy</td>\n      <td>76</td>\n    </tr>\n    <tr>\n      <th>2</th>\n      <td>ChrisWarcraft</td>\n      <td>69</td>\n    </tr>\n    <tr>\n      <th>3</th>\n      <td>Spacekatgal</td>\n      <td>63</td>\n    </tr>\n    <tr>\n      <th>4</th>\n      <td>a_man_in_black</td>\n      <td>55</td>\n    </tr>\n    <tr>\n      <th rowspan=\"5\" valign=\"top\">religion</th>\n      <th>0</th>\n      <td>MaxBlumenthal</td>\n      <td>119</td>\n    </tr>\n    <tr>\n      <th>1</th>\n      <td>IsraeliRegime</td>\n      <td>82</td>\n    </tr>\n    <tr>\n      <th>2</th>\n      <td>sajid_fairooz</td>\n      <td>65</td>\n    </tr>\n    <tr>\n      <th>3</th>\n      <td>Vandaliser</td>\n      <td>57</td>\n    </tr>\n    <tr>\n      <th>4</th>\n      <td>realDonaldTrump</td>\n      <td>50</td>\n    </tr>\n  </tbody>\n</table>\n</div>"
     },
     "execution_count": 91,
     "metadata": {},
     "output_type": "execute_result"
    }
   ],
   "source": [
    "# Obtener usuarios más mencionados por cada categoría (limitado a los 5 más comunes)\n",
    "df['mention'] = df['tweet_text'].apply(more_users)\n",
    "usuarios_mencionados_por_categoria = df.groupby('cyberbullying_type')['mention'].apply(lambda x: pd.Series([item for sublist in x for item in sublist]).value_counts().head(5).reset_index())\n",
    "usuarios_mencionados_por_categoria = usuarios_mencionados_por_categoria.rename(columns={'index': 'Usuario'})\n",
    "\n",
    "# Mostrar los resultados\n",
    "print(\"Usuarios más mencionados por cada categoría:\")\n",
    "usuarios_mencionados_por_categoria"
   ],
   "metadata": {
    "collapsed": false,
    "ExecuteTime": {
     "end_time": "2023-12-01T09:18:10.641377500Z",
     "start_time": "2023-12-01T09:18:10.421676200Z"
    }
   }
  },
  {
   "cell_type": "code",
   "execution_count": 92,
   "outputs": [
    {
     "name": "stdout",
     "output_type": "stream",
     "text": [
      "\n",
      "Hashtags más comunes por cada categoría:\n"
     ]
    },
    {
     "data": {
      "text/plain": "                              Hashtag    0\ncyberbullying_type                        \nage                 0          SFFpit   16\n                    1              MG   15\n                    2        bullying   13\n                    3     TheBachelor   10\n                    4           bully    8\nethnicity           0          racism   22\n                    1            coon   19\n                    2          nigger   15\n                    3         niggers   14\n                    4          Racism   11\ngender              0             mkr  319\n                    1             MKR  312\n                    2       notsexist  103\n                    3      MileyCyrus   68\n                    4       NotSexist   56\nnot_cyberbullying   0             MKR  821\n                    1             mkr  770\n                    2         MKR2015   43\n                    3         mkr2015   39\n                    4            ISIS   36\nother_cyberbullying 0             MKR  182\n                    1             mkr  103\n                    2  BlameOneNotAll  100\n                    3            coon   54\n                    4  stopwadhwa2015   30\nreligion            0           Islam  124\n                    1            ISIS   54\n                    2           Jihad   30\n                    3      Terrorists   18\n                    4        Pakistan   16",
      "text/html": "<div>\n<style scoped>\n    .dataframe tbody tr th:only-of-type {\n        vertical-align: middle;\n    }\n\n    .dataframe tbody tr th {\n        vertical-align: top;\n    }\n\n    .dataframe thead th {\n        text-align: right;\n    }\n</style>\n<table border=\"1\" class=\"dataframe\">\n  <thead>\n    <tr style=\"text-align: right;\">\n      <th></th>\n      <th></th>\n      <th>Hashtag</th>\n      <th>0</th>\n    </tr>\n    <tr>\n      <th>cyberbullying_type</th>\n      <th></th>\n      <th></th>\n      <th></th>\n    </tr>\n  </thead>\n  <tbody>\n    <tr>\n      <th rowspan=\"5\" valign=\"top\">age</th>\n      <th>0</th>\n      <td>SFFpit</td>\n      <td>16</td>\n    </tr>\n    <tr>\n      <th>1</th>\n      <td>MG</td>\n      <td>15</td>\n    </tr>\n    <tr>\n      <th>2</th>\n      <td>bullying</td>\n      <td>13</td>\n    </tr>\n    <tr>\n      <th>3</th>\n      <td>TheBachelor</td>\n      <td>10</td>\n    </tr>\n    <tr>\n      <th>4</th>\n      <td>bully</td>\n      <td>8</td>\n    </tr>\n    <tr>\n      <th rowspan=\"5\" valign=\"top\">ethnicity</th>\n      <th>0</th>\n      <td>racism</td>\n      <td>22</td>\n    </tr>\n    <tr>\n      <th>1</th>\n      <td>coon</td>\n      <td>19</td>\n    </tr>\n    <tr>\n      <th>2</th>\n      <td>nigger</td>\n      <td>15</td>\n    </tr>\n    <tr>\n      <th>3</th>\n      <td>niggers</td>\n      <td>14</td>\n    </tr>\n    <tr>\n      <th>4</th>\n      <td>Racism</td>\n      <td>11</td>\n    </tr>\n    <tr>\n      <th rowspan=\"5\" valign=\"top\">gender</th>\n      <th>0</th>\n      <td>mkr</td>\n      <td>319</td>\n    </tr>\n    <tr>\n      <th>1</th>\n      <td>MKR</td>\n      <td>312</td>\n    </tr>\n    <tr>\n      <th>2</th>\n      <td>notsexist</td>\n      <td>103</td>\n    </tr>\n    <tr>\n      <th>3</th>\n      <td>MileyCyrus</td>\n      <td>68</td>\n    </tr>\n    <tr>\n      <th>4</th>\n      <td>NotSexist</td>\n      <td>56</td>\n    </tr>\n    <tr>\n      <th rowspan=\"5\" valign=\"top\">not_cyberbullying</th>\n      <th>0</th>\n      <td>MKR</td>\n      <td>821</td>\n    </tr>\n    <tr>\n      <th>1</th>\n      <td>mkr</td>\n      <td>770</td>\n    </tr>\n    <tr>\n      <th>2</th>\n      <td>MKR2015</td>\n      <td>43</td>\n    </tr>\n    <tr>\n      <th>3</th>\n      <td>mkr2015</td>\n      <td>39</td>\n    </tr>\n    <tr>\n      <th>4</th>\n      <td>ISIS</td>\n      <td>36</td>\n    </tr>\n    <tr>\n      <th rowspan=\"5\" valign=\"top\">other_cyberbullying</th>\n      <th>0</th>\n      <td>MKR</td>\n      <td>182</td>\n    </tr>\n    <tr>\n      <th>1</th>\n      <td>mkr</td>\n      <td>103</td>\n    </tr>\n    <tr>\n      <th>2</th>\n      <td>BlameOneNotAll</td>\n      <td>100</td>\n    </tr>\n    <tr>\n      <th>3</th>\n      <td>coon</td>\n      <td>54</td>\n    </tr>\n    <tr>\n      <th>4</th>\n      <td>stopwadhwa2015</td>\n      <td>30</td>\n    </tr>\n    <tr>\n      <th rowspan=\"5\" valign=\"top\">religion</th>\n      <th>0</th>\n      <td>Islam</td>\n      <td>124</td>\n    </tr>\n    <tr>\n      <th>1</th>\n      <td>ISIS</td>\n      <td>54</td>\n    </tr>\n    <tr>\n      <th>2</th>\n      <td>Jihad</td>\n      <td>30</td>\n    </tr>\n    <tr>\n      <th>3</th>\n      <td>Terrorists</td>\n      <td>18</td>\n    </tr>\n    <tr>\n      <th>4</th>\n      <td>Pakistan</td>\n      <td>16</td>\n    </tr>\n  </tbody>\n</table>\n</div>"
     },
     "execution_count": 92,
     "metadata": {},
     "output_type": "execute_result"
    }
   ],
   "source": [
    "# Obtener hashtags más comunes por cada categoría (limitado a los 5 más comunes)\n",
    "df['hashtags'] = df['tweet_text'].apply(hashtag_count)\n",
    "hashtags_por_categoria = df.groupby('cyberbullying_type')['hashtags'].apply(lambda x: pd.Series([item for sublist in x for item in sublist]).value_counts().head(5).reset_index())\n",
    "hashtags_por_categoria = hashtags_por_categoria.rename(columns={'index': 'Hashtag'})\n",
    "\n",
    "\n",
    "print(\"\\nHashtags más comunes por cada categoría:\")\n",
    "hashtags_por_categoria"
   ],
   "metadata": {
    "collapsed": false,
    "ExecuteTime": {
     "end_time": "2023-12-01T09:18:11.674695200Z",
     "start_time": "2023-12-01T09:18:11.540493600Z"
    }
   }
  },
  {
   "cell_type": "markdown",
   "metadata": {},
   "source": [
    "### 2. Comptar paraules"
   ]
  },
  {
   "cell_type": "code",
   "execution_count": null,
   "metadata": {
    "tags": []
   },
   "outputs": [],
   "source": [
    "# No modificar aquesta cel·la, s'encarrega de fer el procés més eficient.\n",
    "# Intenteu entendre quà fa aquesta cel·la\n",
    "\n",
    "def memo(f):\n",
    "    class memodict(dict):\n",
    "        def __init__(self, f):\n",
    "            self.f = f\n",
    "        def __call__(self, *args):\n",
    "            return self[args]\n",
    "        def __missing__(self, key):\n",
    "            ret = self[key] = self.f(*key)\n",
    "            return ret\n",
    "    return memodict(f)"
   ]
  },
  {
   "cell_type": "markdown",
   "metadata": {},
   "source": [
    "El primer que haurem d'implementar és la funció ``standardize`` que estandaritzarà les paraules."
   ]
  },
  {
   "cell_type": "markdown",
   "metadata": {},
   "source": [
    "#### **EXERCICI 2:** \n",
    "\n",
    "+ Empleneu la funció següent que, donada una paraula, la estandaritzi les paraules passant tots els caràcters a minúscules.\n",
    "\n",
    "**Observació:** Podeu considerar diverses possibilitats per aquesta funció:\n",
    "* Només canviar les lletres majúscules per minúscules\n",
    "* Eliminar tots els símbols que no siguin @, # i _ (i substituïr-los per un espai)\n",
    "* Eliminar tots els símbols (i substituïr-los per un espai)\n",
    "* etc.\n",
    "\n",
    "El mòdul `re` de Python és especialment útil en aquest punt. \n",
    "\n",
    "Trieu aquella possibilitat que dóna millor resultats a l'exercici 7!"
   ]
  },
  {
   "cell_type": "code",
   "execution_count": null,
   "metadata": {
    "tags": []
   },
   "outputs": [],
   "source": [
    "@memo    \n",
    "def standardize(word):\n",
    "    \"\"\"\n",
    "    :param word: paraula a estandaritzar\n",
    "    :return : paraula estandaritzada\n",
    "    \"\"\"\n",
    "    \n",
    "    # El vostre codi aquí\n"
   ]
  },
  {
   "cell_type": "code",
   "execution_count": null,
   "metadata": {},
   "outputs": [],
   "source": [
    "standardize(\"Taller DELS noUS USOS\")"
   ]
  },
  {
   "cell_type": "markdown",
   "metadata": {},
   "source": [
    "#### **EXERCICI 3:** \n",
    "\n",
    "+ Feu una funció ``count_words`` que construeixi un diccionari que contingui totes les paraules que s'han trobat al dataset, tot indicant el total de cops que ha aparegut cadascuna i el nombre de piulades on apareix. \n",
    "\n",
    "El resultat ha de ser un diccionari d'aquest tipus (no necessàriament amb aquest valors):\n",
    "\n",
    "```python\n",
    "{\n",
    "    'memory' : {'n_ocur': 88, 'n_piu': 76},\n",
    "    'best': {'n_ocur': 123, 'n_piu': 65},\n",
    "    ...\n",
    "}\n",
    "```"
   ]
  },
  {
   "cell_type": "code",
   "execution_count": null,
   "metadata": {
    "scrolled": true,
    "tags": []
   },
   "outputs": [],
   "source": [
    "def count_words(df):\n",
    "    \"\"\"\n",
    "    :param df: DataFrame amb les piulades i la informació associada\n",
    "    :return : Diccionari amb el format {word : {n_ocur: valor, n_tweets: valor}, ...}\n",
    "    \"\"\"\n",
    "\n",
    "    # El vostre codi aquí\n",
    "    \n",
    "    return dicc"
   ]
  },
  {
   "cell_type": "code",
   "execution_count": null,
   "metadata": {},
   "outputs": [],
   "source": [
    "dicc_text = count_words(df_tweets_train)\n",
    "print (len(dicc_text))\n",
    "print(\"'rape':\",dicc_text['rape'])"
   ]
  },
  {
   "cell_type": "markdown",
   "metadata": {},
   "source": [
    "### 3. Comptar paraules per cada categoria de piulada"
   ]
  },
  {
   "cell_type": "code",
   "execution_count": null,
   "metadata": {},
   "outputs": [],
   "source": [
    "df_tweets_train.head()"
   ]
  },
  {
   "cell_type": "markdown",
   "metadata": {},
   "source": [
    "#### **EXERCICI 4:** \n",
    "\n",
    "+ Fent servir la funció que se us dona a continuació (`eachTopic`), apliqueu-la per tal de comptar les paraules que s'han trobat i la seva ocurrència segregant ara per categoria.\n",
    "\n",
    "El resultat ha de ser un diccionari d'aquest tipus (no necessàriament amb aquest valors):\n",
    "\n",
    "```python\n",
    "{\n",
    "    'ethnicity': {\n",
    "        'race' : {'n_ocur': 88, 'n_piu': 76},\n",
    "        'what': {'n_ocur': 123, 'n_piu': 65}\n",
    "        ...\n",
    "    },\n",
    "    ...\n",
    "    'gender': {\n",
    "        'jokes' : {'n_ocur': 18, 'n_piu': 17},\n",
    "        'you': {'n_ocur': 154, 'n_piu': 66}\n",
    "    }\n",
    "    ...\n",
    "}\n",
    "```"
   ]
  },
  {
   "cell_type": "code",
   "execution_count": null,
   "metadata": {
    "tags": []
   },
   "outputs": [],
   "source": [
    "def count_words_categories(df):\n",
    "    \"\"\"\n",
    "    Funció que ha de constuir un diccionari que conté la freqüència de les \n",
    "    paraules i el número de piulades on ha aparegut. \n",
    "    Aquesta informació ha de ser dividida per diferents categories de cyberbullying.\n",
    "    \n",
    "    :param df: DataFrame amb les piulades i la informació associada\n",
    "    :return : Diccionari amb el format {label : {word : {n_ocur: valor, n_news: valor} } }\n",
    "    \"\"\"\n",
    "    words_topic = {}\n",
    "    \n",
    "    def eachTopic(group):\n",
    "        # Count words on this topic and save to dictionary\n",
    "        words_topic[group['cyberbullying_type'].iloc[0]] = count_words(group)\n",
    "        \n",
    "    # El vostre codi aquí\n",
    "\n",
    "    return words_topic\n"
   ]
  },
  {
   "cell_type": "code",
   "execution_count": null,
   "metadata": {},
   "outputs": [],
   "source": [
    "words_categories = count_words_categories(df_tweets_train)\n",
    "print (\"Categories:\", len(words_categories))\n",
    "print (\"La paraula 'muslims' a la categoria 'religion':\", words_categories[\"religion\"]['muslims'])"
   ]
  },
  {
   "cell_type": "markdown",
   "metadata": {},
   "source": [
    "### 4. Paraules més freqüents a les piulades\n",
    "\n",
    "\n",
    "**El problema de com escollir el vector de carecterístiques**\n",
    "\n",
    "L'elecció de les paraules que formen el vector de característiques és un pas crític. En funció de com de bona sigui aquesta descripció, millor funcionarà el sistema. Tot i que us deixem a vosaltres la política de creació del vector de característiques us donem una pista: una possible estratègia és agafar aquelles paraules que apareixen entre en un 10 i un 50 percent del total de piludades (sense tenir en compte la categoria). És a dir, paraules que no són ni massa freqüents ni massa poc. Podeu experimentar variant aquests valors.\n",
    "\n",
    "Una altra estratègia interessant és eliminar \"stop words\"."
   ]
  },
  {
   "cell_type": "markdown",
   "metadata": {},
   "source": [
    "#### **EXERCICI 5:** \n",
    "\n",
    "+ Feu una funció ``topNwords`` que crei un diccionari amb les N paraules més representatives (les que apareixen amb més freqüència) de cadascuna de les categories de *cyberbullying* (Tenint en compte que haureu tret aquelles paraules que apareixen en la majoria de piulades, així com també, les que únicament apareixen en un conjunt molt petit de piulades). Una pista de que aneu ben encaminats es que per cadascuna de les categories de *cyberbullying* obtingueu paraules rellevants per aquesta. Si no es així, vol dir que heu d'incrementar el nombre de paraules a saltar (*skip_top*).\n",
    "\n",
    "El resultat serà un diccionari tipus (no necessàriament amb aquest valors):\n",
    "\n",
    "```python\n",
    "{\n",
    "    'age': ['school', 'high', ...],\n",
    "    ...\n",
    "    'religion': ['muslims', 'christian',...]\n",
    "    ...\n",
    "}\n",
    "```\n",
    "\n",
    "+ Experimenteu omplint la llista `skip_top` amb aquelles paraules que penseu no tenen significat o relevancia per definir cada categoria. Podeu buscar informació sobre **stop words** a internet i definir varies llistes fins que penseu que obteniu una bona representació de paraules per categoria de `cyberbullying`."
   ]
  },
  {
   "cell_type": "code",
   "execution_count": null,
   "metadata": {
    "tags": []
   },
   "outputs": [],
   "source": [
    "def topNwords(df, words, N, skip=[]):\n",
    "    \"\"\"\n",
    "    :param df: DataFrame amb les piulades i la informació associada\n",
    "    :param words: diccionari amb les paraules i la seva frequencia\n",
    "    :param N: número de paraules més representatives que volem considerar\n",
    "    :return : Diccionari amb el format {categoria1: llista_top_words_cat_1,  \n",
    "                                        categoria2: llista_top_words_cat_2, ...} \n",
    "    \"\"\"\n",
    "    top_words=dict()\n",
    "    \n",
    "    #el vostre codi aquí\n",
    "    \n",
    "    return top_words"
   ]
  },
  {
   "cell_type": "markdown",
   "metadata": {},
   "source": [
    "### 5. Vector de Característiques\n",
    "\n",
    "#### **EXERCICI 6:** \n",
    "\n",
    "Creeu el vector de característiques necessari per a fer l’entrenament del Naïve Bayes amb la funció ``create_features``.\n",
    "\n",
    "El resultat serà un diccionari tipus (no necessàriament amb aquest valors):\n",
    "\n",
    "```python\n",
    "{\n",
    "    0: np.array([0, 1, 1, 0, ...]),\n",
    "    1: np.array([0, 1, 1, 1, ...]),\n",
    "    ...\n",
    "}\n",
    "```"
   ]
  },
  {
   "cell_type": "code",
   "execution_count": null,
   "metadata": {
    "tags": []
   },
   "outputs": [],
   "source": [
    "def create_features(df, top_words): \n",
    "    \"\"\"\n",
    "    :params df: DataFrame amb les piulades i la informació associada\n",
    "    :params top_words: ha de ser el diccionari que retorna topNWords\n",
    "    :return : diccionari o pd.Series que conté un np.array per a \n",
    "        cadascuna de les piulades amb el vector de característiques corresponent.\n",
    "    \"\"\"\n",
    "    \n",
    "    # el vostre codi aquí\n",
    "    \n",
    "    return dict_feat_vector"
   ]
  },
  {
   "cell_type": "code",
   "execution_count": null,
   "metadata": {
    "tags": []
   },
   "outputs": [],
   "source": [
    "N = 30 # Aquest parametre el podem canviar i fer proves per avaluar quin és el millor valor. \n",
    "words_categories = count_words_categories(df_tweets_train)\n",
    "top_words = topNwords(df_tweets_train, words_categories, N, skip_top)\n",
    "dict_feat_vector = create_features(df_tweets_train, top_words)"
   ]
  },
  {
   "cell_type": "code",
   "execution_count": null,
   "metadata": {},
   "outputs": [],
   "source": [
    "len(dict_feat_vector)"
   ]
  },
  {
   "cell_type": "markdown",
   "metadata": {},
   "source": [
    "### 6. El classificador Naïve Bayes\n",
    "\n",
    "Un cop tenim una representació necessitem un procés d'aprenentatge que ens permeti passar de la descripció a una categoria. \n",
    "En aquest lliurament farem servir el classificador Naïve Bayes. \n",
    "Aquest classificador forma part de la família de classificadors probabilístics. \n",
    "La sortida d'un classificador probabilístic és un valor de probabilitat donat un exemple per cadascuna de les categories. \n",
    "La decisió final correspon a la categoria amb més probabilitat. \n",
    "\n",
    "\n",
    "Els classificadors probabilistics Bayesians es basen en el teorema de Bayes per realitzar els càlculs per estimar la probabilitat condicionada $p(y|x)$, on $y$ és la categoria i $\\mathbf x$ les característiques de l'exemple.\n",
    "\n",
    "La fòrmula de Bayes és fàcil de deduir. Sabem que:\n",
    "\n",
    "$$ p(\\mathbf x,y) = p(\\mathbf x|y)p(y) = p(y|\\mathbf x)p(\\mathbf x)$$\n",
    "d'on podem extreure que: \n",
    "$$ p(y|\\mathbf x) = \\frac{p(\\mathbf x|y)p(y)}{p(\\mathbf x)}$$\n",
    "\n",
    "\n",
    "La millor categoria serà la que fa màxima la probabilitat $ p(y|\\mathbf x)$ i per comparar aquests valors i saber quin és el màxim no cal calcular $p(\\mathbf x)$ (que és constant). Per tant, considerarem que:\n",
    "$$ p(y|\\mathbf x) \\approx p(y) · p(\\mathbf x|y)$$\n",
    "\n",
    "\n",
    "Les deduccions fins a aquest punt són vàlides per la majoria de classificadors Bayesians. \n",
    "Naïve Bayes es distingeix de la resta perquè imposa una condició encara més restrictiva. \n",
    "Considerem $\\mathbf x=(x_1, \\cdots, x_n)$ un conjunt d'$N$ variables aleatòries (en el nostre cas, les paraules seleccionades). \n",
    "Naïve Bayes assumeix que la probabilitat de la presència d'una paraula en una piulada és independent de la presència d'una altra i per tant podem escriure:\n",
    "$$p(x_1,x_2,...,x_N | y) = p(x_1|y)p(x_2|y)...p(x_N|y)$$\n",
    "\n",
    "\n",
    "Podem interpretar l'anterior equació de la següent forma: La probabilitat de que una piuldad descrita pel vector de característiques (0,1,0,1,1,1) sigui de la classe \"gender\" és proporcional al producte de la probabilitat que la primera paraula del vector no aparegui en les piulades sobre \"gender\" per la probabilitat que la segona paraula sí que hi aparegui, etc.\n",
    "\n",
    "\n",
    "**Estimant les probabilitats marginals condicionades**\n",
    "\n",
    "L'últim pas que ens queda és trobar el valor de les probabilitats condicionades. \n",
    "Farem servir la representació de $0$'s i $1$'s indicant que la paraula no apareix (0) o sí apareix (1) a la piulada. \n",
    "\n",
    "Per trobar el valor de la probabilitat condicionada farem servir una aproximació freqüentista a la probabilitat. \n",
    "Això vol dir que calcularem la freqüència d'aparició de cada paraula per a cada categoria. \n",
    "Aquest càlcul es fa dividint el nombre de piulades de la categoria en que apareix la paraula pel nombre total de piulades d'aquella categoria. \n",
    "\n",
    "En general:\n",
    "$$p(x = \\text{\"school\"} | y = C)= \\frac{A}{B} $$\n",
    "on $A$ és el número de piulades de la categoria $C$ on hi apareix la paraula 'school' i $B$ és el número total de piulades de la categoria $C$.\n",
    "\n",
    "\n",
    "#### Punts delicats a tenir en compte.\n",
    "\n",
    "**El problema de la probabilitat 0**\n",
    "\n",
    "Si us hi fixeu bé, la probabilitat pot ser 0!!  Això vol dir, que si en una piulada no hi apareix una paraula, no pot ser classificada com cap tipus de *cyber bullying* (la presència del 0 al producte fa que el resultat sigui 0).\n",
    "\n",
    "No sembla raonable que s'assigni o no en aquesta categoria segons si en la piulada hi apareix o no una única paraula. \n",
    "Per tant, el que s'acostuma a fer és donar una baixa probabilitat en comptes de zero. \n",
    "\n",
    "Una de les possibles solucions es fer servir la correcció de Laplace. Seguint l'exemple anterior la correcció de Laplace és:\n",
    "\n",
    "$$p(x= \\text{\"school\"} | y = 'C' ) = \\frac{A+1}{B+M}$$ \n",
    "\n",
    "on $M$ és el nombre de categories.\n",
    "\n",
    "**El problema de l'\"underflow\"**\n",
    "\n",
    "La valor que hem de calcular en el Naive Bayes és el resultat d'un producte. \n",
    "El nombre de caractéristiques del vector és el nombre de termes del producte. \n",
    "Aquests nombres són iguals o menors a 1 i n'hi ha molts, si els multipliquem entre ells el resultat serà massa petit per a representar-lo en un nombre de punt flotant i el càlcul acabarà sent reduït a zero. \n",
    "\n",
    "Per solucionar aquest problema en comptes d'operar fent multiplicacions, se sol passar a l'escala logarítmica i allà operar fent servir sumes en comptes de multiplicacions."
   ]
  },
  {
   "cell_type": "markdown",
   "metadata": {},
   "source": [
    "#### **EXERCICI 7:** \n",
    "\n",
    "+ Implementeu la funció d'aprenentatge del classificador Naïve Bayes (funció ``naive_bayes_learn()``) que retorni un diccionari amb estructura `{categoria: [P0, ..., PN]}` on la llista representa la probabilitat\n",
    "marginal condicionada de cada paraula del vector de característiques per la categoria corresponent. \n",
    "\n",
    "+ Implementeu la funció ``naive_bayes`` que implementa el classificador. Noteu que aquesta funció está guiada i només haureu d'emplenar els espais on hem posat tres punts suspensius \"#···\".  "
   ]
  },
  {
   "cell_type": "code",
   "execution_count": null,
   "metadata": {},
   "outputs": [],
   "source": [
    "def naive_bayes_learn(df, feats):\n",
    "    \"\"\"\n",
    "    :params df: DataFrame amb les piulades i la informació associada\n",
    "    :params feats: vector de característiques de cada piulada\n",
    "    :return : probabilitats marginals condicionades\n",
    "    \"\"\"\n",
    "    \n",
    "    # El vostre codi aquí\n",
    "      \n",
    "    \n",
    "    return probs"
   ]
  },
  {
   "cell_type": "code",
   "execution_count": null,
   "metadata": {},
   "outputs": [],
   "source": [
    "import sys\n",
    "from IPython import embed\n",
    "def naive_bayes(df_train, feat_train, feat_test=None, df_test=None):\n",
    "    \"\"\"\n",
    "    Funció que implementa el clasificador Naive_Bayes.\n",
    "    \n",
    "    Si df_test no és None, ha de calcular l'encert sobre les dades de test. És a dir,\n",
    "    després de classificar feat_test ha de comparar la classificació amb la classe\n",
    "    real i dir (print) quin percentatge d'encert ha obtingut.\n",
    "    \n",
    "    :param df_train: DataFrame amb les piulades que s'utilitzaran per l'entrenament\n",
    "    :param feat_train: Diccionari amb els vectors de caracteristiques de cada tweet de l'entrenament\n",
    "    :param feat_test: Diccionari amb els vectors de caracteristiques de cada tweet de test\n",
    "    :param df_test: DataFrame amb les piulades que s'utilitzaran pel test\n",
    "    \n",
    "    :return : Una serie on l'index correspon amb els indexos de df_test i els valors són la\n",
    "              classificació retornada per Naive Bayes\n",
    "    \"\"\"\n",
    "    probs = naive_bayes_learn(df_train, feat_train)\n",
    "    p_of_cat = count_words_categories(df_train)\n",
    "    p_total = len(p_of_cat.keys())\n",
    "    \n",
    "    def eachFeats(row):\n",
    "        id, feat = row\n",
    "        p_max = float('-inf')\n",
    "        p_cat = 0\n",
    "\n",
    "        for category in probs:\n",
    "            # Speed up by using numpy\n",
    "            # inv is the inverse of features, 0 where 1 and 1 where 0\n",
    "            # ...\n",
    "            \n",
    "            # Probs * feats is the probability of being there, while\n",
    "            # inv - inv * feat = 1 - (0, 1, 0... inverses) * probs, probability of not being there\n",
    "            # ...\n",
    "            \n",
    "            # Sum of logs [vs] underflow caused by mul of probs\n",
    "            # ...\n",
    "\n",
    "            # Take the max, do it now to avoid extra-loops\n",
    "            # ...    \n",
    "        return id, p_cat\n",
    "    \n",
    "    data = map(eachFeats, feat_test.items())\n",
    "    data = pd.Series(dict(data))\n",
    "    correct = data == df_test['cyberbullying_type']\n",
    "    print(\"Accuracy: {}\".format(correct.sum() / correct.size))\n",
    "    \n",
    "    return correct.sum() / correct.size"
   ]
  },
  {
   "cell_type": "code",
   "execution_count": null,
   "metadata": {},
   "outputs": [],
   "source": [
    "N = 20 # Aquest parametre el podeu canviar i fer proves per avaluar quin és el millor valor. \n",
    "\n",
    "words_topics = count_words_categories(df_tweets_train)\n",
    "top_words = topNwords(df_tweets_train, words_topics, N, skip_top)\n",
    "\n",
    "feat_train = create_features(df_tweets_train, top_words)\n",
    "feat_test = create_features(df_tweets_test, top_words)"
   ]
  },
  {
   "cell_type": "code",
   "execution_count": null,
   "metadata": {},
   "outputs": [],
   "source": [
    "accuracy = naive_bayes(df_tweets_train, feat_train, feat_test, df_tweets_test)"
   ]
  },
  {
   "cell_type": "markdown",
   "metadata": {},
   "source": [
    "Haurieu d'obtenir una precisió del 67-70%. "
   ]
  },
  {
   "cell_type": "markdown",
   "metadata": {},
   "source": [
    "#### **EXERCICI 8:** "
   ]
  },
  {
   "cell_type": "markdown",
   "metadata": {},
   "source": [
    "El possible procediment per tal d'aconseguir una major precisió seria el següent:\n",
    "+ Es poden implementar diverses maneres d'escollir quines *stopwords* volem eliminar en les piuldades per a que no formin part dels vectors de característiques.\n",
    "+ Avaluar quin conjunt d'*stopwords* retorna una precisió major per a N=40. \n",
    "+ Un cop tinguem el vector d'*stopwords* amb millors resultats, el testejarem per a diferents $N$'s per a veure quina és el nombre de *stopwords* òptim.\n",
    "\n",
    "Feu una cerca a Intenet per trobar més estratègies i intenteu millorar l'*accuracy* que heu acosneguit fins ara.\n",
    "\n",
    "Amb això podeu arribar a precisions superiors al 80%."
   ]
  }
 ],
 "metadata": {
  "kernelspec": {
   "display_name": "Python 3 (ipykernel)",
   "language": "python",
   "name": "python3"
  },
  "language_info": {
   "codemirror_mode": {
    "name": "ipython",
    "version": 3
   },
   "file_extension": ".py",
   "mimetype": "text/x-python",
   "name": "python",
   "nbconvert_exporter": "python",
   "pygments_lexer": "ipython3",
   "version": "3.8.15"
  }
 },
 "nbformat": 4,
 "nbformat_minor": 4
}

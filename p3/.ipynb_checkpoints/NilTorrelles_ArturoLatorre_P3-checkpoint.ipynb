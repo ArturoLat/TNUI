{
 "cells": [
  {
   "cell_type": "markdown",
   "metadata": {},
   "source": [
    "# Naive Bayes i Classificació\n"
   ]
  },
  {
   "cell_type": "markdown",
   "metadata": {},
   "source": [
    "En aquest tercer lliurament es programarà un classificador, que donada una *piulada*, la categoritzarà en una de les possibles classes. En aquesta ocasió, implementareu un classificador amb *piulades* relacionades amb el *cyber bullying*.\n",
    "\n",
    "Recordeu que l'objectiu principal d'aquesta pràctica és desenvolupar un classificador amb una *accuracy* alta. \n",
    "\n",
    "\n",
    "**Què s’ha de fer?**\n",
    "\n",
    "Volem classificar *piulades* segons a quin tipus de *cyber bullying* pertanyen. Així doncs, a partir de tots les *piulades* que tenim, crearem un vector de característiques que ens descrigui cadascuna. A continuació desenvoluparem un classificador probabilístic del tipus **Naive Bayes** que ens permeti identificar a quina classe de *cyber bullying* pertany una *piulada* donada, segons les característiques disenyades.\n",
    "\n",
    "\n",
    "**Quina és la idea del sistema de classificació que s’ha de desenvolupar?**\n",
    "\n",
    "El classificador és un concepte de l'aprenentatge automàtic supervisat. L'objectiu del classificador és donat un vector de característiques que descriuen els objectes que es volen classificar indicar a quina categoria o classe pertanyen d'entre un conjunt predeterminat. \n",
    "\n",
    "El procés de classificació consta de dues parts: \n",
    "\n",
    "+ el procés d'aprenentatge i \n",
    "+ el procés d'explotació o testeig. \n",
    "\n",
    "El procés d'aprenentatge rep exemples de parelles $(x,y)$ on $x$ són les característiques, usualment representades per nombres reals, i $y$ és la categoria a la que pertanyen. \n",
    "Aquest conjunt se'l coneix com a conjunt d'entrenament i ens servirà per trobar una funció $\\hat{y}=f(x)$ que donada una $x$ aconsegueixi que $\\hat{y}$ sigui semblant $y$. \n",
    "\n",
    "Per altra banda el procés de testeig aplica la funció $f(x)$ apresa a l'entrenament a a dades no presents en el conjunt d'aprenentatge per avaluar el classificador.\n",
    "\n",
    "**Classificació i llenguatge natural**\n",
    "\n",
    "La descripció dels exemples en característiques és el punt més crític de tot sistema d'aprenentatge automàtic. \n",
    "Una de les representacions més simples per tal de descriure un text és la representació [\"bag-of-words\"](https://en.wikipedia.org/wiki/Bag-of-words_model).\n",
    "\n",
    "Aquesta representació converteix un text en un vector de $N$ paraules. \n",
    "Primer haurem de seleccionar el conjunt d'$N$ paraules que volem fer servir. Després, per cada paraula comptar quants cops apareix en el text. \n",
    "\n",
    "Una versió alternativa i més simple d'aquest procés pot ser simplement indicar al vector si una determinada paraula apareix o no en el text."
   ]
  },
  {
   "cell_type": "markdown",
   "metadata": {},
   "source": [
    "## Abans de començar\n",
    "\n",
    "\n",
    "**\\+ Durant la pràctica, solament es podran fer servir les següents llibreries**:\n",
    "\n",
    "`Pandas, Numpy, Re` i `NLTK`\n",
    "\n",
    "Python té un paquet integrat anomenat [\"re\"](https://www.w3schools.com/python/python_regex.asp), que es pot utilitzar per treballar amb expressions regulars. És molt aconsellable fer servir aquest paquet per processar les paraules.\n",
    "\n",
    "**\\+ No es poden modificar les definicions de les funcions donades, ni canviar els noms de les variables i paràmetres ja donats**\n",
    "\n",
    "Això no implica però que els hàgiu de fer servir. És a dir, que la funció tingui un paràmetre anomenat `df` no implica que l'hàgiu de fer servir, si no ho trobeu convenient.\n",
    "\n",
    "**\\+ En les funcions, s'especifica que serà i de quin tipus cada un dels paràmetres, cal respectar-ho**\n",
    "\n",
    "Per exemple (ho posarà en el pydoc de la funció), `df` sempre serà indicatiu del `Pandas.DataFrame` de les dades. Durant els testos, els paràmetres (i específicament `df`) no contindran les mateixes dades que en aquest notebook, si bé si seran del mateix tipus! Per tant, no us refieu de què tinguin, per exemple, el mateix nombre de files."
   ]
  },
  {
   "cell_type": "markdown",
   "metadata": {},
   "source": [
    "## Les dades\n",
    "\n",
    "El 15 d'Abril de 2020, UNICEF va llançar una alarma com a resposta de l'augment de risc de *cyber bullying* durant la pandèmia COVID-19. \n",
    "\n",
    "Les estadístiques són prou alarmants: un 36.5% dels estudiants de l'escola fins a l'institut s'han sentit víctimes del *cyber bullying* i un 87% n'han estat testimonis, amb efectes que van des d'una disminució de resultats acadèmics fins a pensaments suïcides.\n",
    "\n",
    "Amb l'objectiu d'ajudar a l'analisis de la situació, s'ha construit un dataset que conté més de 47000 *piulades* etiquetades d'acord amb la classe de *cyber bullying* que s'està donant:\n",
    "\n",
    "1. `age`;\n",
    "2. `ethnicity`;\n",
    "3. `gender`;\n",
    "4. `religion`;\n",
    "5. `other type of cyberbullying`;\n",
    "6. `not cyberbullying`\n",
    "\n",
    "Les dades han estat balancejades per tal de contenir aproximadament 8000 mostres de cada classe."
   ]
  },
  {
   "cell_type": "markdown",
   "metadata": {},
   "source": [
    "# Preparar les dades"
   ]
  },
  {
   "cell_type": "markdown",
   "metadata": {},
   "source": [
    "## Lectura de les dades"
   ]
  },
  {
   "cell_type": "code",
   "execution_count": 4,
   "metadata": {
    "ExecuteTime": {
     "end_time": "2023-12-01T07:38:21.104873700Z",
     "start_time": "2023-12-01T07:38:20.703938600Z"
    },
    "tags": []
   },
   "outputs": [],
   "source": [
    "import pandas as pd\n",
    "import numpy as np\n",
    "import re"
   ]
  },
  {
   "cell_type": "code",
   "execution_count": 5,
   "metadata": {
    "ExecuteTime": {
     "end_time": "2023-12-01T07:38:33.226227800Z",
     "start_time": "2023-12-01T07:38:33.067429Z"
    },
    "tags": []
   },
   "outputs": [
    {
     "data": {
      "text/html": [
       "<div>\n",
       "<style scoped>\n",
       "    .dataframe tbody tr th:only-of-type {\n",
       "        vertical-align: middle;\n",
       "    }\n",
       "\n",
       "    .dataframe tbody tr th {\n",
       "        vertical-align: top;\n",
       "    }\n",
       "\n",
       "    .dataframe thead th {\n",
       "        text-align: right;\n",
       "    }\n",
       "</style>\n",
       "<table border=\"1\" class=\"dataframe\">\n",
       "  <thead>\n",
       "    <tr style=\"text-align: right;\">\n",
       "      <th></th>\n",
       "      <th>tweet_text</th>\n",
       "      <th>cyberbullying_type</th>\n",
       "    </tr>\n",
       "  </thead>\n",
       "  <tbody>\n",
       "    <tr>\n",
       "      <th>0</th>\n",
       "      <td>In other words #katandandre, your food was cra...</td>\n",
       "      <td>not_cyberbullying</td>\n",
       "    </tr>\n",
       "    <tr>\n",
       "      <th>1</th>\n",
       "      <td>Why is #aussietv so white? #MKR #theblock #ImA...</td>\n",
       "      <td>not_cyberbullying</td>\n",
       "    </tr>\n",
       "    <tr>\n",
       "      <th>2</th>\n",
       "      <td>@XochitlSuckkks a classy whore? Or more red ve...</td>\n",
       "      <td>not_cyberbullying</td>\n",
       "    </tr>\n",
       "    <tr>\n",
       "      <th>3</th>\n",
       "      <td>@Jason_Gio meh. :P  thanks for the heads up, b...</td>\n",
       "      <td>not_cyberbullying</td>\n",
       "    </tr>\n",
       "    <tr>\n",
       "      <th>4</th>\n",
       "      <td>@RudhoeEnglish This is an ISIS account pretend...</td>\n",
       "      <td>not_cyberbullying</td>\n",
       "    </tr>\n",
       "    <tr>\n",
       "      <th>...</th>\n",
       "      <td>...</td>\n",
       "      <td>...</td>\n",
       "    </tr>\n",
       "    <tr>\n",
       "      <th>47687</th>\n",
       "      <td>Black ppl aren't expected to do anything, depe...</td>\n",
       "      <td>ethnicity</td>\n",
       "    </tr>\n",
       "    <tr>\n",
       "      <th>47688</th>\n",
       "      <td>Turner did not withhold his disappointment. Tu...</td>\n",
       "      <td>ethnicity</td>\n",
       "    </tr>\n",
       "    <tr>\n",
       "      <th>47689</th>\n",
       "      <td>I swear to God. This dumb nigger bitch. I have...</td>\n",
       "      <td>ethnicity</td>\n",
       "    </tr>\n",
       "    <tr>\n",
       "      <th>47690</th>\n",
       "      <td>Yea fuck you RT @therealexel: IF YOURE A NIGGE...</td>\n",
       "      <td>ethnicity</td>\n",
       "    </tr>\n",
       "    <tr>\n",
       "      <th>47691</th>\n",
       "      <td>Bro. U gotta chill RT @CHILLShrammy: Dog FUCK ...</td>\n",
       "      <td>ethnicity</td>\n",
       "    </tr>\n",
       "  </tbody>\n",
       "</table>\n",
       "<p>47692 rows × 2 columns</p>\n",
       "</div>"
      ],
      "text/plain": [
       "                                              tweet_text cyberbullying_type\n",
       "0      In other words #katandandre, your food was cra...  not_cyberbullying\n",
       "1      Why is #aussietv so white? #MKR #theblock #ImA...  not_cyberbullying\n",
       "2      @XochitlSuckkks a classy whore? Or more red ve...  not_cyberbullying\n",
       "3      @Jason_Gio meh. :P  thanks for the heads up, b...  not_cyberbullying\n",
       "4      @RudhoeEnglish This is an ISIS account pretend...  not_cyberbullying\n",
       "...                                                  ...                ...\n",
       "47687  Black ppl aren't expected to do anything, depe...          ethnicity\n",
       "47688  Turner did not withhold his disappointment. Tu...          ethnicity\n",
       "47689  I swear to God. This dumb nigger bitch. I have...          ethnicity\n",
       "47690  Yea fuck you RT @therealexel: IF YOURE A NIGGE...          ethnicity\n",
       "47691  Bro. U gotta chill RT @CHILLShrammy: Dog FUCK ...          ethnicity\n",
       "\n",
       "[47692 rows x 2 columns]"
      ]
     },
     "execution_count": 5,
     "metadata": {},
     "output_type": "execute_result"
    }
   ],
   "source": [
    "df = pd.read_csv('data/cyberbullying_tweets.csv')\n",
    "df"
   ]
  },
  {
   "cell_type": "code",
   "execution_count": 6,
   "metadata": {
    "ExecuteTime": {
     "end_time": "2023-12-01T07:38:34.631549400Z",
     "start_time": "2023-12-01T07:38:34.526873100Z"
    }
   },
   "outputs": [
    {
     "data": {
      "text/plain": [
       "religion               7998\n",
       "age                    7992\n",
       "gender                 7973\n",
       "ethnicity              7961\n",
       "not_cyberbullying      7945\n",
       "other_cyberbullying    7823\n",
       "Name: cyberbullying_type, dtype: int64"
      ]
     },
     "execution_count": 6,
     "metadata": {},
     "output_type": "execute_result"
    }
   ],
   "source": [
    "df['cyberbullying_type'].value_counts()"
   ]
  },
  {
   "cell_type": "markdown",
   "metadata": {},
   "source": [
    "## Preparació del dataset\n",
    "\n",
    "Dividim les *piulades* en un conjunt d'entrenament, *train*, i en un conjunt de validació, *test*, per tal de poder entrenar i validar el nostre model de classificació."
   ]
  },
  {
   "cell_type": "code",
   "execution_count": 7,
   "metadata": {
    "ExecuteTime": {
     "end_time": "2023-12-01T07:38:38.947022Z",
     "start_time": "2023-12-01T07:38:38.421590500Z"
    }
   },
   "outputs": [],
   "source": [
    "from sklearn.model_selection import train_test_split\n",
    "\n",
    "df_tweets_train, df_tweets_test = train_test_split(df, test_size=0.2)"
   ]
  },
  {
   "cell_type": "markdown",
   "metadata": {},
   "source": [
    "Com les dades estaven balancejades originalment, podem observar que la distribució de cadascuna de les classes es manté:"
   ]
  },
  {
   "cell_type": "code",
   "execution_count": 8,
   "metadata": {
    "ExecuteTime": {
     "end_time": "2023-12-01T07:38:41.955121500Z",
     "start_time": "2023-12-01T07:38:41.940614400Z"
    }
   },
   "outputs": [
    {
     "data": {
      "text/plain": [
       "age                    6470\n",
       "religion               6394\n",
       "not_cyberbullying      6381\n",
       "ethnicity              6364\n",
       "gender                 6338\n",
       "other_cyberbullying    6206\n",
       "Name: cyberbullying_type, dtype: int64"
      ]
     },
     "execution_count": 8,
     "metadata": {},
     "output_type": "execute_result"
    }
   ],
   "source": [
    "df_tweets_train['cyberbullying_type'].value_counts()"
   ]
  },
  {
   "cell_type": "code",
   "execution_count": 9,
   "metadata": {
    "ExecuteTime": {
     "end_time": "2023-12-01T07:38:42.974707700Z",
     "start_time": "2023-12-01T07:38:42.939246900Z"
    }
   },
   "outputs": [
    {
     "data": {
      "text/plain": [
       "gender                 1635\n",
       "other_cyberbullying    1617\n",
       "religion               1604\n",
       "ethnicity              1597\n",
       "not_cyberbullying      1564\n",
       "age                    1522\n",
       "Name: cyberbullying_type, dtype: int64"
      ]
     },
     "execution_count": 9,
     "metadata": {},
     "output_type": "execute_result"
    }
   ],
   "source": [
    "df_tweets_test['cyberbullying_type'].value_counts()"
   ]
  },
  {
   "cell_type": "markdown",
   "metadata": {},
   "source": [
    "# Implementació\n",
    "\n",
    "Dividirem el notebook en 3 seccions que es complementen una a l'altra:\n",
    "\n",
    "1. Anàlisi exploratòria de les dades: Informació bàsica sobre les *piulades*.\n",
    "2. Processament de les dades: Creació d'un vector de característiques a partir de les *piulades*.\n",
    "3. Desenvolupament d'un classificador *Naive Bayes*. "
   ]
  },
  {
   "cell_type": "markdown",
   "metadata": {},
   "source": [
    "### 1. Anàlisis de dades\n",
    "\n",
    "El primer que haurem de fer és analitzar les dades per veure una mica com són. El que us proposem és fer una sèrie de visualitzacions per observar les dades, com ara:\n",
    "\n",
    "* el nombre de *piulades* que s'estan dirigint a una persona en concret\n",
    "* el nombre de  *hashtags* que hi ha a cada categoria de *piulades*\n",
    "* el nombre de  *piulades* que hi ha de cada categoria de *piulades*\n",
    "* el nombre de  *piulades* de la categoria `not_cyberbullying` que es dirigeixen a un usuari vs totes les altres categories\n",
    "* altres coses que penseu que poden ser rellevants."
   ]
  },
  {
   "cell_type": "code",
   "execution_count": 10,
   "metadata": {
    "ExecuteTime": {
     "end_time": "2023-12-01T08:33:00.006122300Z",
     "start_time": "2023-12-01T08:32:59.927509Z"
    }
   },
   "outputs": [
    {
     "name": "stdout",
     "output_type": "stream",
     "text": [
      "1. Nombre de piulades que se están dirigiendo a una persona en concreto: 39747\n",
      "\n",
      "2. Nombre de hashtags que hay en cada categoría de piulades:\n",
      "          Categoría  Número de Hashtags\n",
      "                age                 743\n",
      "          ethnicity                1118\n",
      "             gender                2722\n",
      "  not_cyberbullying                3285\n",
      "other_cyberbullying                1648\n",
      "           religion                1805\n",
      "\n",
      "3. Nombre de piulades que hay de cada categoría de piulades:\n",
      "          Categoría  Número de Piulades\n",
      "           religion                7998\n",
      "                age                7992\n",
      "             gender                7973\n",
      "          ethnicity                7961\n",
      "  not_cyberbullying                7945\n",
      "other_cyberbullying                7823\n",
      "\n",
      "4. Nombre de piulades de la categoría `not_cyberbullying` que se dirigen a un usuario vs todas las otras categorías:\n",
      "   - Not Cyberbullying a usuario: 4149\n",
      "   - Otras categorías a usuario: 13990\n"
     ]
    }
   ],
   "source": [
    "import matplotlib.pyplot as plt\n",
    "%matplotlib inline\n",
    "\n",
    "# 1. Nombre de *piulades* que se están dirigiendo a una persona en concreto\n",
    "piulades_a_persona = df[df['cyberbullying_type'] != 'not_cyberbullying']['tweet_text']\n",
    "num_piulades_a_persona = len(piulades_a_persona)\n",
    "\n",
    "# 2. Nombre de *hashtags* que hay en cada categoría de *piulades*\n",
    "hashtags_por_categoria = df.groupby('cyberbullying_type')['tweet_text'].apply(lambda x: ' '.join(x).count('#'))\n",
    "hashtags_por_categoria = hashtags_por_categoria.rename_axis('Categoría').reset_index(name='Número de Hashtags')\n",
    "\n",
    "# 3. Nombre de *piulades* que hay de cada categoría de *piulades*\n",
    "num_piulades_por_categoria = df['cyberbullying_type'].value_counts().rename_axis('Categoría').reset_index(name='Número de Piulades')\n",
    "\n",
    "# 4. Nombre de *piulades* de la categoría `not_cyberbullying` que se dirigen a un usuario vs todas las otras categorías\n",
    "piulades_not_cyberbullying = df[df['cyberbullying_type'] == 'not_cyberbullying']['tweet_text']\n",
    "num_piulades_not_cyberbullying_a_usuario = piulades_not_cyberbullying.str.contains('@').sum()\n",
    "num_piulades_not_cyberbullying_otras_categorias = df[df['cyberbullying_type'] != 'not_cyberbullying']['tweet_text'].str.contains('@').sum()\n",
    "\n",
    "# Resultados\n",
    "print(f\"1. Nombre de piulades que se están dirigiendo a una persona en concreto: {num_piulades_a_persona}\\n\")\n",
    "\n",
    "print(\"2. Nombre de hashtags que hay en cada categoría de piulades:\")\n",
    "print(hashtags_por_categoria.to_string(index=False), end='\\n\\n')\n",
    "\n",
    "print(\"3. Nombre de piulades que hay de cada categoría de piulades:\")\n",
    "print(num_piulades_por_categoria.to_string(index=False), end='\\n\\n')\n",
    "\n",
    "print(f\"4. Nombre de piulades de la categoría `not_cyberbullying` que se dirigen a un usuario vs todas las otras categorías:\")\n",
    "print(f\"   - Not Cyberbullying a usuario: {num_piulades_not_cyberbullying_a_usuario}\")\n",
    "print(f\"   - Otras categorías a usuario: {num_piulades_not_cyberbullying_otras_categorias}\")"
   ]
  },
  {
   "cell_type": "code",
   "execution_count": 20,
   "metadata": {
    "ExecuteTime": {
     "end_time": "2023-12-01T08:33:01.322919800Z",
     "start_time": "2023-12-01T08:33:01.307291400Z"
    },
    "scrolled": true,
    "tags": []
   },
   "outputs": [
    {
     "data": {
      "text/html": [
       "<div>\n",
       "<style scoped>\n",
       "    .dataframe tbody tr th:only-of-type {\n",
       "        vertical-align: middle;\n",
       "    }\n",
       "\n",
       "    .dataframe tbody tr th {\n",
       "        vertical-align: top;\n",
       "    }\n",
       "\n",
       "    .dataframe thead th {\n",
       "        text-align: right;\n",
       "    }\n",
       "</style>\n",
       "<table border=\"1\" class=\"dataframe\">\n",
       "  <thead>\n",
       "    <tr style=\"text-align: right;\">\n",
       "      <th></th>\n",
       "      <th>tweet_text</th>\n",
       "      <th>cyberbullying_type</th>\n",
       "    </tr>\n",
       "  </thead>\n",
       "  <tbody>\n",
       "    <tr>\n",
       "      <th>3034</th>\n",
       "      <td>@eaballesty @tim_geelen No True Scotsman...</td>\n",
       "      <td>not_cyberbullying</td>\n",
       "    </tr>\n",
       "    <tr>\n",
       "      <th>29605</th>\n",
       "      <td>my dragonite brings all the boys to the yard</td>\n",
       "      <td>other_cyberbullying</td>\n",
       "    </tr>\n",
       "    <tr>\n",
       "      <th>11653</th>\n",
       "      <td>@leyna76 In this case, evidently, yes.</td>\n",
       "      <td>gender</td>\n",
       "    </tr>\n",
       "    <tr>\n",
       "      <th>36611</th>\n",
       "      <td>Theyre just doing their best ok also they look...</td>\n",
       "      <td>age</td>\n",
       "    </tr>\n",
       "    <tr>\n",
       "      <th>4915</th>\n",
       "      <td>Intelligence &amp;amp; class</td>\n",
       "      <td>not_cyberbullying</td>\n",
       "    </tr>\n",
       "  </tbody>\n",
       "</table>\n",
       "</div>"
      ],
      "text/plain": [
       "                                              tweet_text   cyberbullying_type\n",
       "3034         @eaballesty @tim_geelen No True Scotsman...    not_cyberbullying\n",
       "29605       my dragonite brings all the boys to the yard  other_cyberbullying\n",
       "11653             @leyna76 In this case, evidently, yes.               gender\n",
       "36611  Theyre just doing their best ok also they look...                  age\n",
       "4915                            Intelligence &amp; class    not_cyberbullying"
      ]
     },
     "execution_count": 20,
     "metadata": {},
     "output_type": "execute_result"
    }
   ],
   "source": [
    "df_tweets_train.head()"
   ]
  },
  {
   "cell_type": "markdown",
   "metadata": {},
   "source": [
    "#### **EXERCICI 1:** \n",
    "\n",
    "* Quantes *piulades* estan dirigides a un usuari concret? Diem que una piulada va dirigida a una persona en concret si contenen el patró ``@usuari``. \n",
    "\n",
    "[Restriccions](https://help.twitter.com/en/managing-your-account/change-twitter-handle) que imposa X sobre el patró:\n",
    "+ Nomes són valids aquells patrons amb caràcters alfanumèrics ``[A-z 0-9]`` i el caràcter ``_``\n",
    "+ Els patrons han de començar per ``@`` i han de tenir més de 4 i menys de 16 caràcters.\n",
    "\n",
    "En aquest exercici és extremadament útil l'ús del mòdul ``re``."
   ]
  },
  {
   "cell_type": "code",
   "execution_count": 11,
   "metadata": {
    "ExecuteTime": {
     "end_time": "2023-12-01T08:31:40.754753600Z",
     "start_time": "2023-12-01T08:31:40.739092900Z"
    }
   },
   "outputs": [],
   "source": [
    "def piulades_to_user(df):\n",
    "    \"\"\"\n",
    "    Cuenta cuántas piulades están dirigidas a un usuario concreto en un DataFrame.\n",
    "\n",
    "    Parameters:\n",
    "    - df: DataFrame que contiene la columna 'tweet_text'.\n",
    "\n",
    "    Returns:\n",
    "    - Número de piulades dirigidas a un usuario concreto.\n",
    "    \"\"\"\n",
    "\n",
    "    # Restricciones del patrón de usuario\n",
    "    patron_usuario = re.compile(r'@([A-Za-z0-9_]{4,15})\\b')\n",
    "\n",
    "    # Contar las piulades dirigidas a un usuario concreto\n",
    "    piulades_dirigidas_a_usuario = df['tweet_text'].apply(lambda x: bool(re.search(patron_usuario, x))).sum()\n",
    "\n",
    "    return piulades_dirigidas_a_usuario"
   ]
  },
  {
   "cell_type": "code",
   "execution_count": 12,
   "metadata": {
    "ExecuteTime": {
     "end_time": "2023-12-01T08:33:55.184557200Z",
     "start_time": "2023-12-01T08:33:55.074229400Z"
    }
   },
   "outputs": [
    {
     "name": "stdout",
     "output_type": "stream",
     "text": [
      "17976\n",
      "17976\n"
     ]
    }
   ],
   "source": [
    "print(piulades_to_user(df))\n",
    "\n",
    "print(piulades_to_user(df_tweets_train) + piulades_to_user(df_tweets_test))"
   ]
  },
  {
   "cell_type": "markdown",
   "metadata": {},
   "source": [
    "+ Quants *hashtags* ``#`` hi ha a cada categoria de *piulades*?\n",
    "\n",
    "Compteu els ``#`` que vagin seguits d'alguna lletra o nombre ja que, com veiem a la [normativa](https://help.twitter.com/en/using-twitter/how-to-use-hashtags) de X, els ``#`` no poden contenir cap mena de signe de puntuació."
   ]
  },
  {
   "cell_type": "code",
   "execution_count": 13,
   "metadata": {
    "ExecuteTime": {
     "end_time": "2023-12-01T08:36:06.714994Z",
     "start_time": "2023-12-01T08:36:06.622817100Z"
    }
   },
   "outputs": [
    {
     "data": {
      "text/html": [
       "<div>\n",
       "<style scoped>\n",
       "    .dataframe tbody tr th:only-of-type {\n",
       "        vertical-align: middle;\n",
       "    }\n",
       "\n",
       "    .dataframe tbody tr th {\n",
       "        vertical-align: top;\n",
       "    }\n",
       "\n",
       "    .dataframe thead th {\n",
       "        text-align: right;\n",
       "    }\n",
       "</style>\n",
       "<table border=\"1\" class=\"dataframe\">\n",
       "  <thead>\n",
       "    <tr style=\"text-align: right;\">\n",
       "      <th></th>\n",
       "      <th>Categoría</th>\n",
       "      <th>Número de Hashtags</th>\n",
       "    </tr>\n",
       "  </thead>\n",
       "  <tbody>\n",
       "    <tr>\n",
       "      <th>0</th>\n",
       "      <td>age</td>\n",
       "      <td>725</td>\n",
       "    </tr>\n",
       "    <tr>\n",
       "      <th>1</th>\n",
       "      <td>ethnicity</td>\n",
       "      <td>1101</td>\n",
       "    </tr>\n",
       "    <tr>\n",
       "      <th>2</th>\n",
       "      <td>gender</td>\n",
       "      <td>2688</td>\n",
       "    </tr>\n",
       "    <tr>\n",
       "      <th>3</th>\n",
       "      <td>not_cyberbullying</td>\n",
       "      <td>3252</td>\n",
       "    </tr>\n",
       "    <tr>\n",
       "      <th>4</th>\n",
       "      <td>other_cyberbullying</td>\n",
       "      <td>1608</td>\n",
       "    </tr>\n",
       "    <tr>\n",
       "      <th>5</th>\n",
       "      <td>religion</td>\n",
       "      <td>1706</td>\n",
       "    </tr>\n",
       "  </tbody>\n",
       "</table>\n",
       "</div>"
      ],
      "text/plain": [
       "             Categoría  Número de Hashtags\n",
       "0                  age                 725\n",
       "1            ethnicity                1101\n",
       "2               gender                2688\n",
       "3    not_cyberbullying                3252\n",
       "4  other_cyberbullying                1608\n",
       "5             religion                1706"
      ]
     },
     "execution_count": 13,
     "metadata": {},
     "output_type": "execute_result"
    }
   ],
   "source": [
    "def count_hashtag(text):\n",
    "    normativa = re.compile(r'#([A-Za-z0-9]+)\\b')\n",
    "    hashtags = re.findall(normativa, text)\n",
    "    return len(hashtags)\n",
    "\n",
    "\n",
    "def hashtag_category(dataFrame):\n",
    "    dataFrame['num_hashtags'] = dataFrame['tweet_text'].apply(count_hashtag)\n",
    "    hashtags_por_categoria = df.groupby('cyberbullying_type')['num_hashtags'].sum().reset_index()\n",
    "    hashtags_por_categoria = hashtags_por_categoria.rename(columns={'cyberbullying_type': 'Categoría', 'num_hashtags': 'Número de Hashtags'})\n",
    "    return hashtags_por_categoria\n",
    "\n",
    "# Obtener el DataFrame con el número de hashtags por categoría\n",
    "resultado_hashtags = hashtag_category(df)\n",
    "\n",
    "resultado_hashtags"
   ]
  },
  {
   "cell_type": "markdown",
   "metadata": {},
   "source": [
    "+ Fes un histograma que representi aquesta distribució?"
   ]
  },
  {
   "cell_type": "code",
   "execution_count": 14,
   "metadata": {
    "ExecuteTime": {
     "end_time": "2023-12-01T08:42:39.861876100Z",
     "start_time": "2023-12-01T08:42:39.725509500Z"
    }
   },
   "outputs": [
    {
     "data": {
      "image/png": "[encoded data removed]",
      "text/plain": [
       "<Figure size 1000x600 with 1 Axes>"
      ]
     },
     "metadata": {},
     "output_type": "display_data"
    }
   ],
   "source": [
    "# Configurar el tamaño del gráfico\n",
    "plt.figure(figsize=(10, 6))\n",
    "\n",
    "# Crear el histograma\n",
    "plt.bar(resultado_hashtags['Categoría'], resultado_hashtags['Número de Hashtags'], color='blue')\n",
    "\n",
    "# Configurar el título y etiquetas\n",
    "plt.title('Distribución del Número de Hashtags por Categoría')\n",
    "plt.xlabel('Categoría')\n",
    "\n",
    "# Rotar las etiquetas del eje x para evitar solapamientos\n",
    "plt.xticks(rotation=45, ha=\"right\")\n",
    "\n",
    "plt.ylabel('Número de Hashtags')\n",
    "\n",
    "# Mostrar el histograma\n",
    "plt.show()"
   ]
  },
  {
   "cell_type": "markdown",
   "metadata": {},
   "source": [
    "+ Comproveu a continuació quantes vegades hi ha un ús invàlid dels ``#``, per exemple ``##`` o ``#@``, on, si no tinguessim en compte la restriccio imposada, hauriem contat 2 ``#`` a ``##`` o 1 ``#`` a ``#@``, quan en realitat son 1 i 0 respectivament."
   ]
  },
  {
   "cell_type": "code",
   "execution_count": 15,
   "metadata": {
    "ExecuteTime": {
     "end_time": "2023-12-01T08:45:53.409634300Z",
     "start_time": "2023-12-01T08:45:53.385401300Z"
    }
   },
   "outputs": [],
   "source": [
    "def count_invalid_uses(text):\n",
    "    uses_invalid_restriction = re.compile(r'#\\W*#|#@')\n",
    "    uses_invalid = re.findall(uses_invalid_restriction, text)\n",
    "    return len(uses_invalid)\n",
    "\n",
    "def count_invalid(dataFrame):\n",
    "    dataFrame['num_usos_invalidos'] = dataFrame['tweet_text'].apply(count_invalid_uses)\n",
    "\n",
    "    # Mostrar el número total de usos inválidos de '#' en el conjunto de datos\n",
    "    return dataFrame['num_usos_invalidos'].sum()"
   ]
  },
  {
   "cell_type": "code",
   "execution_count": 16,
   "metadata": {
    "ExecuteTime": {
     "end_time": "2023-12-01T08:46:30.390092500Z",
     "start_time": "2023-12-01T08:46:30.310208300Z"
    }
   },
   "outputs": [
    {
     "data": {
      "text/plain": [
       "9"
      ]
     },
     "execution_count": 16,
     "metadata": {},
     "output_type": "execute_result"
    }
   ],
   "source": [
    "total_uses_invalid = count_invalid(df)\n",
    "total_uses_invalid"
   ]
  },
  {
   "cell_type": "markdown",
   "metadata": {},
   "source": [
    "+ Quantes *piulades* vàlides hi ha de cada categoria?"
   ]
  },
  {
   "cell_type": "code",
   "execution_count": 17,
   "metadata": {
    "ExecuteTime": {
     "end_time": "2023-12-01T08:49:19.614876600Z",
     "start_time": "2023-12-01T08:49:19.583552600Z"
    }
   },
   "outputs": [],
   "source": [
    "def valid_hashtag(dataFrame):\n",
    "    dataFrame['num_hashtags'] = dataFrame['tweet_text'].apply(count_hashtag)\n",
    "    dataFrame['num_usos_invalidos'] = dataFrame['tweet_text'].apply(count_invalid_uses)\n",
    "\n",
    "    # Calcular el número de piulades válidas por categoría\n",
    "    dataFrame['num_piulades_validas'] = dataFrame.groupby('cyberbullying_type')['tweet_text'].transform('count') - dataFrame['num_usos_invalidos']\n",
    "\n",
    "    # Obtener el DataFrame con el número de hashtags por categoría\n",
    "    hashtags_por_categoria = dataFrame.groupby('cyberbullying_type')[['num_hashtags', 'num_piulades_validas']].sum().reset_index()\n",
    "    hashtags_por_categoria = hashtags_por_categoria.rename(columns={'cyberbullying_type': 'Categoría', 'num_hashtags': 'Número de Hashtags', 'num_piulades_validas': 'Número de Piulades Válidas'})\n",
    "\n",
    "    return hashtags_por_categoria\n"
   ]
  },
  {
   "cell_type": "code",
   "execution_count": 43,
   "metadata": {
    "ExecuteTime": {
     "end_time": "2023-12-01T08:49:20.697410100Z",
     "start_time": "2023-12-01T08:49:20.477797Z"
    }
   },
   "outputs": [
    {
     "data": {
      "text/html": [
       "<div>\n",
       "<style scoped>\n",
       "    .dataframe tbody tr th:only-of-type {\n",
       "        vertical-align: middle;\n",
       "    }\n",
       "\n",
       "    .dataframe tbody tr th {\n",
       "        vertical-align: top;\n",
       "    }\n",
       "\n",
       "    .dataframe thead th {\n",
       "        text-align: right;\n",
       "    }\n",
       "</style>\n",
       "<table border=\"1\" class=\"dataframe\">\n",
       "  <thead>\n",
       "    <tr style=\"text-align: right;\">\n",
       "      <th></th>\n",
       "      <th>Categoría</th>\n",
       "      <th>Número de Hashtags</th>\n",
       "      <th>Número de Piulades Válidas</th>\n",
       "    </tr>\n",
       "  </thead>\n",
       "  <tbody>\n",
       "    <tr>\n",
       "      <th>0</th>\n",
       "      <td>age</td>\n",
       "      <td>725</td>\n",
       "      <td>63872062</td>\n",
       "    </tr>\n",
       "    <tr>\n",
       "      <th>1</th>\n",
       "      <td>ethnicity</td>\n",
       "      <td>1101</td>\n",
       "      <td>63377517</td>\n",
       "    </tr>\n",
       "    <tr>\n",
       "      <th>2</th>\n",
       "      <td>gender</td>\n",
       "      <td>2688</td>\n",
       "      <td>63568728</td>\n",
       "    </tr>\n",
       "    <tr>\n",
       "      <th>3</th>\n",
       "      <td>not_cyberbullying</td>\n",
       "      <td>3252</td>\n",
       "      <td>63123023</td>\n",
       "    </tr>\n",
       "    <tr>\n",
       "      <th>4</th>\n",
       "      <td>other_cyberbullying</td>\n",
       "      <td>1608</td>\n",
       "      <td>61199329</td>\n",
       "    </tr>\n",
       "    <tr>\n",
       "      <th>5</th>\n",
       "      <td>religion</td>\n",
       "      <td>1706</td>\n",
       "      <td>63968004</td>\n",
       "    </tr>\n",
       "  </tbody>\n",
       "</table>\n",
       "</div>"
      ],
      "text/plain": [
       "             Categoría  Número de Hashtags  Número de Piulades Válidas\n",
       "0                  age                 725                    63872062\n",
       "1            ethnicity                1101                    63377517\n",
       "2               gender                2688                    63568728\n",
       "3    not_cyberbullying                3252                    63123023\n",
       "4  other_cyberbullying                1608                    61199329\n",
       "5             religion                1706                    63968004"
      ]
     },
     "execution_count": 43,
     "metadata": {},
     "output_type": "execute_result"
    }
   ],
   "source": [
    "valid_hashtag = valid_hashtag(df)\n",
    "valid_hashtag"
   ]
  },
  {
   "cell_type": "markdown",
   "metadata": {},
   "source": [
    "+ Quantes *piulades* de la categoria `not_cyberbullying` és dirigeixen a un usuari?\n",
    "+ Quantes *piulades* de totes les altres categories és dirigeixen a un usuari?"
   ]
  },
  {
   "cell_type": "code",
   "execution_count": 18,
   "metadata": {
    "ExecuteTime": {
     "end_time": "2023-12-01T08:53:42.651726400Z",
     "start_time": "2023-12-01T08:53:42.576896500Z"
    }
   },
   "outputs": [
    {
     "name": "stdout",
     "output_type": "stream",
     "text": [
      "Número de piulades de la categoría 'not_cyberbullying' dirigidas a un usuario: 4124\n",
      "Número de piulades de otras categorías dirigidas a un usuario: 13852\n"
     ]
    }
   ],
   "source": [
    "# Obtener el número de piulades de la categoría `not_cyberbullying` dirigidas a un usuario\n",
    "piulades_not_cyberbullying_to_user = piulades_to_user(df[df['cyberbullying_type'] == 'not_cyberbullying'])\n",
    "\n",
    "# Obtener el número de piulades de todas las demás categorías dirigidas a un usuario\n",
    "piulades_other_categories_to_user = piulades_to_user(df[df['cyberbullying_type'] != 'not_cyberbullying'])\n",
    "\n",
    "# Mostrar los resultados\n",
    "print(f\"Número de piulades de la categoría 'not_cyberbullying' dirigidas a un usuario: {piulades_not_cyberbullying_to_user}\")\n",
    "print(f\"Número de piulades de otras categorías dirigidas a un usuario: {piulades_other_categories_to_user}\")"
   ]
  },
  {
   "cell_type": "markdown",
   "metadata": {},
   "source": [
    "+ Calculeu altres coses que penseu que poden ser rellevants (usuaris més mencionats, *hashtags* més comuns per cada categoria, etc.)."
   ]
  },
  {
   "cell_type": "code",
   "execution_count": 19,
   "metadata": {
    "ExecuteTime": {
     "end_time": "2023-12-01T09:11:15.513734Z",
     "start_time": "2023-12-01T09:11:15.495031200Z"
    }
   },
   "outputs": [],
   "source": [
    "def more_users(text):\n",
    "    \"\"\"\n",
    "    Extrae los usuarios mencionados en un texto.\n",
    "\n",
    "    Parameters:\n",
    "    - text: Cadena de texto.\n",
    "\n",
    "    Returns:\n",
    "    - Lista de usuarios mencionados.\n",
    "    \"\"\"\n",
    "    user = re.compile(r'@([A-Za-z0-9_]{4,15})\\b')\n",
    "    user_mention = re.findall(user, text)\n",
    "    return user_mention\n",
    "\n",
    "def hashtag_count(text):\n",
    "    \"\"\"\n",
    "    Extrae los hashtags en un texto.\n",
    "\n",
    "    Parameters:\n",
    "    - text: Cadena de texto.\n",
    "\n",
    "    Returns:\n",
    "    - Lista de hashtags.\n",
    "    \"\"\"\n",
    "    hashtag_valid = re.compile(r'#([A-Za-z0-9]+)\\b')\n",
    "    hashtags = re.findall(hashtag_valid, text)\n",
    "    return hashtags\n",
    "\n"
   ]
  },
  {
   "cell_type": "code",
   "execution_count": 91,
   "metadata": {
    "ExecuteTime": {
     "end_time": "2023-12-01T09:18:10.641377500Z",
     "start_time": "2023-12-01T09:18:10.421676200Z"
    }
   },
   "outputs": [
    {
     "name": "stdout",
     "output_type": "stream",
     "text": [
      "Usuarios más mencionados por cada categoría:\n"
     ]
    },
    {
     "data": {
      "text/html": [
       "<div>\n",
       "<style scoped>\n",
       "    .dataframe tbody tr th:only-of-type {\n",
       "        vertical-align: middle;\n",
       "    }\n",
       "\n",
       "    .dataframe tbody tr th {\n",
       "        vertical-align: top;\n",
       "    }\n",
       "\n",
       "    .dataframe thead th {\n",
       "        text-align: right;\n",
       "    }\n",
       "</style>\n",
       "<table border=\"1\" class=\"dataframe\">\n",
       "  <thead>\n",
       "    <tr style=\"text-align: right;\">\n",
       "      <th></th>\n",
       "      <th></th>\n",
       "      <th>Usuario</th>\n",
       "      <th>0</th>\n",
       "    </tr>\n",
       "    <tr>\n",
       "      <th>cyberbullying_type</th>\n",
       "      <th></th>\n",
       "      <th></th>\n",
       "      <th></th>\n",
       "    </tr>\n",
       "  </thead>\n",
       "  <tbody>\n",
       "    <tr>\n",
       "      <th rowspan=\"5\" valign=\"top\">age</th>\n",
       "      <th>0</th>\n",
       "      <td>realDonaldTrump</td>\n",
       "      <td>15</td>\n",
       "    </tr>\n",
       "    <tr>\n",
       "      <th>1</th>\n",
       "      <td>Change</td>\n",
       "      <td>14</td>\n",
       "    </tr>\n",
       "    <tr>\n",
       "      <th>2</th>\n",
       "      <td>POTUS</td>\n",
       "      <td>7</td>\n",
       "    </tr>\n",
       "    <tr>\n",
       "      <th>3</th>\n",
       "      <td>CDCgov</td>\n",
       "      <td>6</td>\n",
       "    </tr>\n",
       "    <tr>\n",
       "      <th>4</th>\n",
       "      <td>HouseDemocrats</td>\n",
       "      <td>5</td>\n",
       "    </tr>\n",
       "    <tr>\n",
       "      <th rowspan=\"5\" valign=\"top\">ethnicity</th>\n",
       "      <th>0</th>\n",
       "      <td>tayyoung_</td>\n",
       "      <td>958</td>\n",
       "    </tr>\n",
       "    <tr>\n",
       "      <th>1</th>\n",
       "      <td>Colton_Zappe</td>\n",
       "      <td>33</td>\n",
       "    </tr>\n",
       "    <tr>\n",
       "      <th>2</th>\n",
       "      <td>MikeSimsWalker</td>\n",
       "      <td>22</td>\n",
       "    </tr>\n",
       "    <tr>\n",
       "      <th>3</th>\n",
       "      <td>goshawty123</td>\n",
       "      <td>18</td>\n",
       "    </tr>\n",
       "    <tr>\n",
       "      <th>4</th>\n",
       "      <td>AntiDARKSKINNED</td>\n",
       "      <td>16</td>\n",
       "    </tr>\n",
       "    <tr>\n",
       "      <th rowspan=\"5\" valign=\"top\">gender</th>\n",
       "      <th>0</th>\n",
       "      <td>MT8_9</td>\n",
       "      <td>89</td>\n",
       "    </tr>\n",
       "    <tr>\n",
       "      <th>1</th>\n",
       "      <td>YesYoureSexist</td>\n",
       "      <td>57</td>\n",
       "    </tr>\n",
       "    <tr>\n",
       "      <th>2</th>\n",
       "      <td>RepTedYoho</td>\n",
       "      <td>37</td>\n",
       "    </tr>\n",
       "    <tr>\n",
       "      <th>3</th>\n",
       "      <td>mykitchenrules</td>\n",
       "      <td>30</td>\n",
       "    </tr>\n",
       "    <tr>\n",
       "      <th>4</th>\n",
       "      <td>Feminazi_Front</td>\n",
       "      <td>20</td>\n",
       "    </tr>\n",
       "    <tr>\n",
       "      <th rowspan=\"5\" valign=\"top\">not_cyberbullying</th>\n",
       "      <th>0</th>\n",
       "      <td>freebsdgirl</td>\n",
       "      <td>75</td>\n",
       "    </tr>\n",
       "    <tr>\n",
       "      <th>1</th>\n",
       "      <td>mykitchenrules</td>\n",
       "      <td>67</td>\n",
       "    </tr>\n",
       "    <tr>\n",
       "      <th>2</th>\n",
       "      <td>greenlinerzjm</td>\n",
       "      <td>45</td>\n",
       "    </tr>\n",
       "    <tr>\n",
       "      <th>3</th>\n",
       "      <td>MaxBlumenthal</td>\n",
       "      <td>41</td>\n",
       "    </tr>\n",
       "    <tr>\n",
       "      <th>4</th>\n",
       "      <td>halalflaws</td>\n",
       "      <td>41</td>\n",
       "    </tr>\n",
       "    <tr>\n",
       "      <th rowspan=\"5\" valign=\"top\">other_cyberbullying</th>\n",
       "      <th>0</th>\n",
       "      <td>freebsdgirl</td>\n",
       "      <td>151</td>\n",
       "    </tr>\n",
       "    <tr>\n",
       "      <th>1</th>\n",
       "      <td>TheQuinnspiracy</td>\n",
       "      <td>76</td>\n",
       "    </tr>\n",
       "    <tr>\n",
       "      <th>2</th>\n",
       "      <td>ChrisWarcraft</td>\n",
       "      <td>69</td>\n",
       "    </tr>\n",
       "    <tr>\n",
       "      <th>3</th>\n",
       "      <td>Spacekatgal</td>\n",
       "      <td>63</td>\n",
       "    </tr>\n",
       "    <tr>\n",
       "      <th>4</th>\n",
       "      <td>a_man_in_black</td>\n",
       "      <td>55</td>\n",
       "    </tr>\n",
       "    <tr>\n",
       "      <th rowspan=\"5\" valign=\"top\">religion</th>\n",
       "      <th>0</th>\n",
       "      <td>MaxBlumenthal</td>\n",
       "      <td>119</td>\n",
       "    </tr>\n",
       "    <tr>\n",
       "      <th>1</th>\n",
       "      <td>IsraeliRegime</td>\n",
       "      <td>82</td>\n",
       "    </tr>\n",
       "    <tr>\n",
       "      <th>2</th>\n",
       "      <td>sajid_fairooz</td>\n",
       "      <td>65</td>\n",
       "    </tr>\n",
       "    <tr>\n",
       "      <th>3</th>\n",
       "      <td>Vandaliser</td>\n",
       "      <td>57</td>\n",
       "    </tr>\n",
       "    <tr>\n",
       "      <th>4</th>\n",
       "      <td>realDonaldTrump</td>\n",
       "      <td>50</td>\n",
       "    </tr>\n",
       "  </tbody>\n",
       "</table>\n",
       "</div>"
      ],
      "text/plain": [
       "                               Usuario    0\n",
       "cyberbullying_type                         \n",
       "age                 0  realDonaldTrump   15\n",
       "                    1           Change   14\n",
       "                    2            POTUS    7\n",
       "                    3           CDCgov    6\n",
       "                    4   HouseDemocrats    5\n",
       "ethnicity           0        tayyoung_  958\n",
       "                    1     Colton_Zappe   33\n",
       "                    2   MikeSimsWalker   22\n",
       "                    3      goshawty123   18\n",
       "                    4  AntiDARKSKINNED   16\n",
       "gender              0            MT8_9   89\n",
       "                    1   YesYoureSexist   57\n",
       "                    2       RepTedYoho   37\n",
       "                    3   mykitchenrules   30\n",
       "                    4   Feminazi_Front   20\n",
       "not_cyberbullying   0      freebsdgirl   75\n",
       "                    1   mykitchenrules   67\n",
       "                    2    greenlinerzjm   45\n",
       "                    3    MaxBlumenthal   41\n",
       "                    4       halalflaws   41\n",
       "other_cyberbullying 0      freebsdgirl  151\n",
       "                    1  TheQuinnspiracy   76\n",
       "                    2    ChrisWarcraft   69\n",
       "                    3      Spacekatgal   63\n",
       "                    4   a_man_in_black   55\n",
       "religion            0    MaxBlumenthal  119\n",
       "                    1    IsraeliRegime   82\n",
       "                    2    sajid_fairooz   65\n",
       "                    3       Vandaliser   57\n",
       "                    4  realDonaldTrump   50"
      ]
     },
     "execution_count": 91,
     "metadata": {},
     "output_type": "execute_result"
    }
   ],
   "source": [
    "# Obtener usuarios más mencionados por cada categoría (limitado a los 5 más comunes)\n",
    "df['mention'] = df['tweet_text'].apply(more_users)\n",
    "usuarios_mencionados_por_categoria = df.groupby('cyberbullying_type')['mention'].apply(lambda x: pd.Series([item for sublist in x for item in sublist]).value_counts().head(5).reset_index())\n",
    "usuarios_mencionados_por_categoria = usuarios_mencionados_por_categoria.rename(columns={'index': 'Usuario'})\n",
    "\n",
    "# Mostrar los resultados\n",
    "print(\"Usuarios más mencionados por cada categoría:\")\n",
    "usuarios_mencionados_por_categoria"
   ]
  },
  {
   "cell_type": "code",
   "execution_count": 92,
   "metadata": {
    "ExecuteTime": {
     "end_time": "2023-12-01T09:18:11.674695200Z",
     "start_time": "2023-12-01T09:18:11.540493600Z"
    }
   },
   "outputs": [
    {
     "name": "stdout",
     "output_type": "stream",
     "text": [
      "\n",
      "Hashtags más comunes por cada categoría:\n"
     ]
    },
    {
     "data": {
      "text/html": [
       "<div>\n",
       "<style scoped>\n",
       "    .dataframe tbody tr th:only-of-type {\n",
       "        vertical-align: middle;\n",
       "    }\n",
       "\n",
       "    .dataframe tbody tr th {\n",
       "        vertical-align: top;\n",
       "    }\n",
       "\n",
       "    .dataframe thead th {\n",
       "        text-align: right;\n",
       "    }\n",
       "</style>\n",
       "<table border=\"1\" class=\"dataframe\">\n",
       "  <thead>\n",
       "    <tr style=\"text-align: right;\">\n",
       "      <th></th>\n",
       "      <th></th>\n",
       "      <th>Hashtag</th>\n",
       "      <th>0</th>\n",
       "    </tr>\n",
       "    <tr>\n",
       "      <th>cyberbullying_type</th>\n",
       "      <th></th>\n",
       "      <th></th>\n",
       "      <th></th>\n",
       "    </tr>\n",
       "  </thead>\n",
       "  <tbody>\n",
       "    <tr>\n",
       "      <th rowspan=\"5\" valign=\"top\">age</th>\n",
       "      <th>0</th>\n",
       "      <td>SFFpit</td>\n",
       "      <td>16</td>\n",
       "    </tr>\n",
       "    <tr>\n",
       "      <th>1</th>\n",
       "      <td>MG</td>\n",
       "      <td>15</td>\n",
       "    </tr>\n",
       "    <tr>\n",
       "      <th>2</th>\n",
       "      <td>bullying</td>\n",
       "      <td>13</td>\n",
       "    </tr>\n",
       "    <tr>\n",
       "      <th>3</th>\n",
       "      <td>TheBachelor</td>\n",
       "      <td>10</td>\n",
       "    </tr>\n",
       "    <tr>\n",
       "      <th>4</th>\n",
       "      <td>bully</td>\n",
       "      <td>8</td>\n",
       "    </tr>\n",
       "    <tr>\n",
       "      <th rowspan=\"5\" valign=\"top\">ethnicity</th>\n",
       "      <th>0</th>\n",
       "      <td>racism</td>\n",
       "      <td>22</td>\n",
       "    </tr>\n",
       "    <tr>\n",
       "      <th>1</th>\n",
       "      <td>coon</td>\n",
       "      <td>19</td>\n",
       "    </tr>\n",
       "    <tr>\n",
       "      <th>2</th>\n",
       "      <td>nigger</td>\n",
       "      <td>15</td>\n",
       "    </tr>\n",
       "    <tr>\n",
       "      <th>3</th>\n",
       "      <td>niggers</td>\n",
       "      <td>14</td>\n",
       "    </tr>\n",
       "    <tr>\n",
       "      <th>4</th>\n",
       "      <td>Racism</td>\n",
       "      <td>11</td>\n",
       "    </tr>\n",
       "    <tr>\n",
       "      <th rowspan=\"5\" valign=\"top\">gender</th>\n",
       "      <th>0</th>\n",
       "      <td>mkr</td>\n",
       "      <td>319</td>\n",
       "    </tr>\n",
       "    <tr>\n",
       "      <th>1</th>\n",
       "      <td>MKR</td>\n",
       "      <td>312</td>\n",
       "    </tr>\n",
       "    <tr>\n",
       "      <th>2</th>\n",
       "      <td>notsexist</td>\n",
       "      <td>103</td>\n",
       "    </tr>\n",
       "    <tr>\n",
       "      <th>3</th>\n",
       "      <td>MileyCyrus</td>\n",
       "      <td>68</td>\n",
       "    </tr>\n",
       "    <tr>\n",
       "      <th>4</th>\n",
       "      <td>NotSexist</td>\n",
       "      <td>56</td>\n",
       "    </tr>\n",
       "    <tr>\n",
       "      <th rowspan=\"5\" valign=\"top\">not_cyberbullying</th>\n",
       "      <th>0</th>\n",
       "      <td>MKR</td>\n",
       "      <td>821</td>\n",
       "    </tr>\n",
       "    <tr>\n",
       "      <th>1</th>\n",
       "      <td>mkr</td>\n",
       "      <td>770</td>\n",
       "    </tr>\n",
       "    <tr>\n",
       "      <th>2</th>\n",
       "      <td>MKR2015</td>\n",
       "      <td>43</td>\n",
       "    </tr>\n",
       "    <tr>\n",
       "      <th>3</th>\n",
       "      <td>mkr2015</td>\n",
       "      <td>39</td>\n",
       "    </tr>\n",
       "    <tr>\n",
       "      <th>4</th>\n",
       "      <td>ISIS</td>\n",
       "      <td>36</td>\n",
       "    </tr>\n",
       "    <tr>\n",
       "      <th rowspan=\"5\" valign=\"top\">other_cyberbullying</th>\n",
       "      <th>0</th>\n",
       "      <td>MKR</td>\n",
       "      <td>182</td>\n",
       "    </tr>\n",
       "    <tr>\n",
       "      <th>1</th>\n",
       "      <td>mkr</td>\n",
       "      <td>103</td>\n",
       "    </tr>\n",
       "    <tr>\n",
       "      <th>2</th>\n",
       "      <td>BlameOneNotAll</td>\n",
       "      <td>100</td>\n",
       "    </tr>\n",
       "    <tr>\n",
       "      <th>3</th>\n",
       "      <td>coon</td>\n",
       "      <td>54</td>\n",
       "    </tr>\n",
       "    <tr>\n",
       "      <th>4</th>\n",
       "      <td>stopwadhwa2015</td>\n",
       "      <td>30</td>\n",
       "    </tr>\n",
       "    <tr>\n",
       "      <th rowspan=\"5\" valign=\"top\">religion</th>\n",
       "      <th>0</th>\n",
       "      <td>Islam</td>\n",
       "      <td>124</td>\n",
       "    </tr>\n",
       "    <tr>\n",
       "      <th>1</th>\n",
       "      <td>ISIS</td>\n",
       "      <td>54</td>\n",
       "    </tr>\n",
       "    <tr>\n",
       "      <th>2</th>\n",
       "      <td>Jihad</td>\n",
       "      <td>30</td>\n",
       "    </tr>\n",
       "    <tr>\n",
       "      <th>3</th>\n",
       "      <td>Terrorists</td>\n",
       "      <td>18</td>\n",
       "    </tr>\n",
       "    <tr>\n",
       "      <th>4</th>\n",
       "      <td>Pakistan</td>\n",
       "      <td>16</td>\n",
       "    </tr>\n",
       "  </tbody>\n",
       "</table>\n",
       "</div>"
      ],
      "text/plain": [
       "                              Hashtag    0\n",
       "cyberbullying_type                        \n",
       "age                 0          SFFpit   16\n",
       "                    1              MG   15\n",
       "                    2        bullying   13\n",
       "                    3     TheBachelor   10\n",
       "                    4           bully    8\n",
       "ethnicity           0          racism   22\n",
       "                    1            coon   19\n",
       "                    2          nigger   15\n",
       "                    3         niggers   14\n",
       "                    4          Racism   11\n",
       "gender              0             mkr  319\n",
       "                    1             MKR  312\n",
       "                    2       notsexist  103\n",
       "                    3      MileyCyrus   68\n",
       "                    4       NotSexist   56\n",
       "not_cyberbullying   0             MKR  821\n",
       "                    1             mkr  770\n",
       "                    2         MKR2015   43\n",
       "                    3         mkr2015   39\n",
       "                    4            ISIS   36\n",
       "other_cyberbullying 0             MKR  182\n",
       "                    1             mkr  103\n",
       "                    2  BlameOneNotAll  100\n",
       "                    3            coon   54\n",
       "                    4  stopwadhwa2015   30\n",
       "religion            0           Islam  124\n",
       "                    1            ISIS   54\n",
       "                    2           Jihad   30\n",
       "                    3      Terrorists   18\n",
       "                    4        Pakistan   16"
      ]
     },
     "execution_count": 92,
     "metadata": {},
     "output_type": "execute_result"
    }
   ],
   "source": [
    "# Obtener hashtags más comunes por cada categoría (limitado a los 5 más comunes)\n",
    "df['hashtags'] = df['tweet_text'].apply(hashtag_count)\n",
    "hashtags_por_categoria = df.groupby('cyberbullying_type')['hashtags'].apply(lambda x: pd.Series([item for sublist in x for item in sublist]).value_counts().head(5).reset_index())\n",
    "hashtags_por_categoria = hashtags_por_categoria.rename(columns={'index': 'Hashtag'})\n",
    "\n",
    "\n",
    "print(\"\\nHashtags más comunes por cada categoría:\")\n",
    "hashtags_por_categoria"
   ]
  },
  {
   "cell_type": "markdown",
   "metadata": {},
   "source": [
    "### 2. Comptar paraules"
   ]
  },
  {
   "cell_type": "code",
   "execution_count": 20,
   "metadata": {
    "tags": []
   },
   "outputs": [],
   "source": [
    "# No modificar aquesta cel·la, s'encarrega de fer el procés més eficient.\n",
    "# Intenteu entendre quà fa aquesta cel·la\n",
    "\n",
    "def memo(f):\n",
    "    class memodict(dict):\n",
    "        def __init__(self, f):\n",
    "            self.f = f\n",
    "        def __call__(self, *args):\n",
    "            return self[args]\n",
    "        def __missing__(self, key):\n",
    "            ret = self[key] = self.f(*key)\n",
    "            return ret\n",
    "    return memodict(f)"
   ]
  },
  {
   "cell_type": "markdown",
   "metadata": {},
   "source": [
    "El primer que haurem d'implementar és la funció ``standardize`` que estandaritzarà les paraules."
   ]
  },
  {
   "cell_type": "markdown",
   "metadata": {},
   "source": [
    "#### **EXERCICI 2:** \n",
    "\n",
    "+ Empleneu la funció següent que, donada una paraula, la estandaritzi les paraules passant tots els caràcters a minúscules.\n",
    "\n",
    "**Observació:** Podeu considerar diverses possibilitats per aquesta funció:\n",
    "* Només canviar les lletres majúscules per minúscules\n",
    "* Eliminar tots els símbols que no siguin @, # i _ (i substituïr-los per un espai)\n",
    "* Eliminar tots els símbols (i substituïr-los per un espai)\n",
    "* etc.\n",
    "\n",
    "El mòdul `re` de Python és especialment útil en aquest punt. \n",
    "\n",
    "Trieu aquella possibilitat que dóna millor resultats a l'exercici 7!"
   ]
  },
  {
   "cell_type": "code",
   "execution_count": 21,
   "metadata": {
    "tags": []
   },
   "outputs": [],
   "source": [
    "@memo    \n",
    "def standardize(word):\n",
    "    \"\"\"\n",
    "    :param word: paraula a estandaritzar\n",
    "    :return : paraula estandaritzada\n",
    "    \"\"\"\n",
    "    \n",
    "    # Convertir totes les lletres a minúscules\n",
    "    word = word.lower()\n",
    "    \n",
    "    # Eliminar tots els caràcters que no siguin lletres, \"@\" o \"#\"\n",
    "    word = re.sub(r'[^a-z@#]', ' ', word)\n",
    "    \n",
    "    return word\n"
   ]
  },
  {
   "cell_type": "code",
   "execution_count": 22,
   "metadata": {},
   "outputs": [
    {
     "data": {
      "text/plain": [
       "'taller dels nous usos'"
      ]
     },
     "execution_count": 22,
     "metadata": {},
     "output_type": "execute_result"
    }
   ],
   "source": [
    "standardize(\"Taller DELS noUS USOS\")"
   ]
  },
  {
   "cell_type": "markdown",
   "metadata": {},
   "source": [
    "#### **EXERCICI 3:** \n",
    "\n",
    "+ Feu una funció ``count_words`` que construeixi un diccionari que contingui totes les paraules que s'han trobat al dataset, tot indicant el total de cops que ha aparegut cadascuna i el nombre de piulades on apareix. \n",
    "\n",
    "El resultat ha de ser un diccionari d'aquest tipus (no necessàriament amb aquest valors):\n",
    "\n",
    "```python\n",
    "{\n",
    "    'memory' : {'n_ocur': 88, 'n_piu': 76},\n",
    "    'best': {'n_ocur': 123, 'n_piu': 65},\n",
    "    ...\n",
    "}\n",
    "```"
   ]
  },
  {
   "cell_type": "code",
   "execution_count": 23,
   "metadata": {
    "scrolled": true,
    "tags": []
   },
   "outputs": [],
   "source": [
    "def count_words(df):\n",
    "    \"\"\"\n",
    "    :param df: DataFrame amb les piulades i la informació associada\n",
    "    :return : Diccionari amb el format {word : {n_ocur: valor, n_tweets: valor}, ...}\n",
    "    \"\"\"\n",
    "\n",
    "    # Inicialitzar el diccionari\n",
    "    dicc = {}\n",
    "\n",
    "    # Iterar sobre cada fila del DataFrame\n",
    "    for index, row in df.iterrows():\n",
    "        # Obtindre la llista de paraules de la piulada\n",
    "        words = row['tweet_text'].split()\n",
    "\n",
    "        # Iterar sobre cada paraula\n",
    "        for word in words:\n",
    "            # Estandaritzar la paraula\n",
    "            standardized_word = standardize(word)\n",
    "\n",
    "            # Actualitzar el diccionari\n",
    "            if standardized_word in dicc:\n",
    "                dicc[standardized_word]['n_ocur'] += 1\n",
    "                if index not in dicc[standardized_word]['n_tweets']:\n",
    "                    dicc[standardized_word]['n_tweets'].append(index)\n",
    "            else:\n",
    "                dicc[standardized_word] = {'n_ocur': 1, 'n_tweets': [index]}\n",
    "\n",
    "    return dicc"
   ]
  },
  {
   "cell_type": "code",
   "execution_count": 24,
   "metadata": {},
   "outputs": [
    {
     "name": "stdout",
     "output_type": "stream",
     "text": [
      "74763\n",
      "'rape': {'n_ocur': 2773, 'n_tweets': [9883, 8596, 8683, 11282, 12545, 9836, 9309, 10003, 15563, 13267, 43827, 13861, 14801, 12978, 14508, 14836, 12641, 8518, 11551, 9891, 10707, 10390, 13622, 23793, 10687, 14432, 15016, 13913, 8651, 11678, 13569, 14757, 12653, 8469, 10974, 13301, 15769, 11484, 13198, 10554, 12805, 8620, 10964, 3127, 8959, 8044, 15575, 13407, 11440, 12259, 8083, 10729, 11722, 8879, 10844, 10313, 13625, 13427, 9859, 14406, 15043, 9638, 11831, 28541, 9347, 11981, 13773, 11365, 14353, 15394, 9660, 11030, 12122, 9555, 14370, 15709, 12468, 14132, 12477, 10834, 11865, 9677, 15246, 8196, 9546, 31920, 13845, 11362, 14396, 9780, 9027, 13811, 8681, 12331, 12067, 8545, 9523, 14448, 12832, 8690, 15128, 11124, 13664, 12401, 11599, 12180, 12119, 12898, 10221, 30663, 13565, 13582, 9351, 12934, 11669, 12173, 8666, 13083, 11061, 11970, 24298, 9722, 14185, 12441, 10725, 13814, 8211, 10694, 11110, 20054, 11265, 9352, 15398, 10870, 15189, 8538, 10238, 15104, 13546, 13219, 14996, 15210, 21723, 13887, 12796, 12467, 14321, 8231, 11336, 11706, 11814, 14683, 14205, 10467, 8563, 8718, 10049, 10737, 10155, 15346, 11997, 8060, 8715, 10193, 13245, 10923, 14133, 8523, 15249, 14182, 8261, 15118, 12885, 14903, 11899, 8944, 12916, 13129, 12702, 11431, 12959, 11310, 10545, 11029, 9792, 13213, 12578, 16396, 14759, 11182, 11838, 8679, 17627, 8411, 11774, 14544, 13360, 8243, 13452, 11930, 15692, 11935, 8181, 10732, 10557, 8994, 15139, 43159, 15842, 10614, 12661, 14160, 9634, 12857, 15596, 8215, 11895, 15506, 8382, 14527, 10094, 15081, 10807, 8560, 15336, 13486, 9270, 14550, 10930, 10655, 10231, 10278, 10939, 15518, 9548, 11386, 12862, 12833, 13357, 9495, 13895, 13555, 15162, 10180, 11468, 9966, 12739, 13489, 14063, 10403, 8941, 14847, 11200, 10069, 9503, 14078, 11875, 15615, 8388, 14864, 13942, 15576, 15317, 15867, 8804, 10150, 12460, 12178, 15478, 14349, 14236, 11018, 9547, 10368, 10594, 9706, 8530, 8872, 8398, 9419, 11847, 17848, 10885, 12879, 8386, 15806, 18744, 11569, 10006, 13989, 15893, 15130, 13457, 14583, 13081, 14405, 15324, 7971, 7961, 11241, 9344, 15909, 9909, 12109, 15144, 8821, 9023, 8343, 8399, 9609, 14687, 10838, 10198, 14088, 35299, 4019, 8120, 14554, 12124, 11849, 9534, 10475, 13215, 11406, 14641, 14754, 14694, 9910, 13234, 13191, 11297, 14730, 15228, 12767, 10383, 10778, 13581, 14865, 11609, 15069, 11227, 11728, 13013, 13988, 13488, 9241, 15011, 10025, 14928, 14739, 11932, 12427, 15820, 14469, 11617, 13732, 14062, 15333, 13544, 12748, 14852, 14823, 14220, 12197, 14532, 13386, 11586, 15463, 9785, 9414, 8739, 10989, 13165, 10670, 11619, 8065, 13785, 13736, 14251, 15657, 14598, 15437, 11688, 8349, 14018, 9743, 14327, 10631, 10140, 13100, 14468, 13775, 13962, 14622, 8239, 11540, 15598, 12524, 15017, 14506, 14313, 11901, 11040, 15741, 9278, 14553, 11445, 11998, 8035, 10255, 15265, 15207, 9733, 8968, 12036, 11376, 14915, 9674, 15471, 10867, 8032, 15113, 11277, 8673, 9094, 15702, 13393, 8473, 10024, 14983, 11761, 12207, 13888, 15066, 8033, 14934, 15710, 9292, 12402, 14820, 11207, 12907, 15570, 14726, 10652, 10600, 14379, 9784, 10239, 13678, 11534, 11742, 11398, 8344, 26414, 12668, 9323, 13419, 9185, 12997, 14125, 14782, 9695, 9289, 15174, 13948, 12250, 8127, 14148, 10841, 9042, 9463, 14766, 8247, 15625, 13209, 8900, 12689, 11422, 11088, 9977, 11096, 10385, 15523, 9045, 13339, 8953, 8719, 14118, 13429, 10354, 12793, 9447, 9494, 10629, 12096, 13774, 14187, 8058, 9825, 10925, 15044, 15671, 9798, 15216, 19916, 15744, 12132, 11845, 12868, 15133, 13485, 12397, 10767, 12051, 13610, 14919, 13812, 8901, 12669, 8536, 10900, 8653, 15818, 12341, 12228, 10142, 15094, 22827, 16707, 10240, 41764, 12459, 13636, 15885, 15058, 10625, 10105, 9754, 15291, 11700, 8579, 10718, 8423, 9196, 11401, 11503, 12234, 8230, 13436, 10298, 13160, 10047, 11432, 11383, 11141, 11643, 14421, 14773, 15244, 12639, 14478, 9602, 15607, 12707, 14627, 8505, 10015, 14485, 14722, 15187, 9655, 10446, 9017, 14346, 14776, 13704, 11591, 13890, 11501, 9901, 14560, 13266, 13588, 9700, 8657, 11708, 9819, 11197, 11965, 15605, 15778, 11424, 10388, 13917, 11532, 8693, 12485, 13757, 13920, 9049, 8301, 10608, 10090, 14725, 11701, 10275, 12895, 11960, 14192, 10724, 11100, 11906, 8894, 13424, 9083, 11570, 15223, 9219, 9930, 8886, 10026, 15218, 8932, 14131, 12685, 8661, 10431, 8843, 8789, 9319, 12062, 12373, 12346, 13916, 13134, 12605, 9603, 14196, 11525, 12558, 12928, 8837, 10041, 10536, 10211, 13967, 11342, 8730, 9435, 9854, 11002, 12821, 8662, 10359, 14810, 15259, 11433, 9308, 9305, 15477, 12994, 14188, 11928, 11470, 13521, 8573, 12719, 10362, 8864, 16583, 14218, 14280, 13605, 10579, 11571, 14634, 10441, 13965, 13273, 8896, 10636, 13800, 15039, 12462, 12891, 14277, 8767, 10740, 15763, 14149, 9769, 9902, 8533, 14384, 13530, 15167, 15115, 12762, 10701, 13654, 13619, 12405, 15332, 9030, 8788, 9625, 12199, 10532, 10173, 9381, 14453, 8978, 9124, 8498, 8909, 12854, 11275, 15800, 11690, 11967, 9844, 11154, 12537, 11360, 13103, 15554, 9967, 12454, 15199, 10769, 10759, 15109, 11405, 18423, 9806, 9478, 12896, 9168, 13439, 11109, 8137, 14592, 15122, 10860, 8435, 12967, 8786, 14143, 8140, 15632, 14705, 12167, 12889, 15127, 12431, 9115, 10099, 8084, 11034, 14376, 18906, 8920, 12969, 14092, 10537, 10979, 10508, 14470, 13161, 15883, 12227, 12903, 12007, 13871, 9150, 12983, 13166, 10156, 8934, 11741, 10596, 10518, 15738, 21026, 14640, 14562, 9758, 10237, 15309, 15457, 11953, 41097, 8405, 11202, 9894, 15776, 8416, 11829, 12362, 13250, 17259, 13323, 9363, 13504, 11059, 8100, 13390, 12146, 13542, 15280, 10852, 13370, 14474, 13959, 13627, 9438, 13446, 13229, 12092, 17017, 13093, 13476, 12142, 8586, 9095, 13837, 14568, 13973, 11249, 15308, 9237, 24618, 13715, 14859, 8381, 8574, 10418, 15195, 8592, 13327, 13602, 9963, 14916, 9136, 14743, 8510, 11841, 10831, 14259, 9482, 13450, 9409, 10134, 15872, 9228, 13280, 14391, 9380, 9318, 8479, 9203, 12573, 9127, 12357, 11439, 11488, 12809, 14206, 9701, 13328, 11715, 11136, 9204, 8150, 14944, 10656, 14848, 14581, 14128, 15014, 8316, 9013, 14121, 8546, 9946, 10133, 12099, 13698, 10607, 10248, 9654, 9314, 15680, 9557, 8703, 11203, 10408, 15163, 13560, 8207, 15183, 11575, 12139, 13854, 12117, 10638, 25986, 9335, 10051, 8426, 8472, 14685, 10558, 12649, 12276, 13864, 12184, 8023, 11635, 8534, 9705, 14742, 13613, 11686, 13449, 12351, 13205, 10144, 9239, 13090, 10744, 12866, 9777, 13311, 12237, 12499, 11388, 9146, 14228, 8214, 14599, 11128, 13416, 12316, 9590, 13173, 12188, 14530, 12194, 15350, 9077, 12230, 15652, 15003, 11236, 10632, 14224, 15166, 11668, 15678, 11033, 12725, 15208, 12971, 15386, 14412, 13482, 14710, 11763, 12369, 15356, 10113, 13778, 15701, 15832, 13956, 11533, 10620, 9736, 22754, 13032, 8650, 10190, 14942, 12781, 9863, 21642, 11356, 10561, 11289, 11904, 12016, 11556, 8792, 29714, 9845, 15826, 14795, 13784, 9560, 15347, 10530, 11779, 15579, 17470, 14201, 9742, 9529, 13275, 12217, 9461, 14233, 14684, 12667, 11675, 18779, 9895, 11246, 10806, 8466, 8074, 14672, 12123, 13005, 8849, 8945, 11113, 8336, 15131, 15269, 13500, 14717, 8145, 10781, 8204, 14746, 7993, 9188, 10958, 12479, 8068, 14689, 11347, 9223, 12390, 13690, 10215, 10411, 10176, 13899, 9689, 8723, 12923, 15239, 12968, 9980, 9404, 10417, 12440, 9696, 7958, 11797, 14721, 15759, 6217, 10644, 12286, 14992, 12015, 8115, 14538, 15496, 9126, 27616, 14015, 10379, 12358, 12370, 12586, 14814, 9947, 15196, 15311, 12391, 11942, 11267, 8280, 15441, 11881, 13761, 9162, 8529, 10800, 11982, 14604, 10726, 8252, 9213, 12750, 12494, 13658, 14110, 14498, 7398, 10721, 9458, 15590, 19667, 10216, 9164, 9298, 10269, 12409, 13003, 13561, 8506, 8936, 9353, 8664, 15884, 15108, 8453, 11476, 14732, 14618, 13993, 11498, 14624, 15841, 8829, 9130, 8153, 9302, 12632, 11092, 10160, 13960, 15464, 13660, 8948, 8547, 8687, 15878, 13802, 12709, 10597, 15214, 15746, 10472, 12284, 12950, 12280, 11583, 12705, 11801, 10332, 15266, 23534, 15382, 14151, 10145, 11512, 8535, 9069, 9690, 9694, 14337, 14564, 9144, 12924, 8777, 12920, 12488, 9817, 13469, 11003, 14957, 10329, 11547, 11268, 8504, 15227, 9640, 13734, 11037, 10810, 12363, 11221, 11772, 12945, 9108, 11646, 10887, 15056, 10087, 12682, 12484, 16315, 13079, 13957, 11349, 13189, 14670, 11420, 14365, 12258, 9247, 13030, 9021, 7966, 14639, 15046, 9922, 11764, 14479, 14069, 10829, 8393, 9868, 15479, 8438, 10735, 13612, 11300, 13235, 12383, 12824, 9345, 10664, 10100, 11374, 11380, 14004, 12944, 9485, 15681, 14970, 15817, 11618, 9016, 13102, 9956, 9936, 9416, 8052, 11254, 11778, 8217, 15293, 8329, 10873, 14525, 11661, 12728, 13048, 13246, 10333, 11251, 13683, 12437, 10711, 15526, 11257, 10342, 13621, 8081, 10277, 15007, 11568, 9712, 15225, 13187, 9558, 14068, 9811, 11304, 13230, 11137, 10719, 14735, 15217, 8496, 15895, 8956, 13184, 11905, 13604, 10854, 11212, 15638, 12418, 37222, 9405, 12214, 15764, 11727, 13637, 12017, 15460, 15434, 10114, 12239, 12241, 14199, 10141, 8568, 13270, 11107, 8106, 14682, 9959, 10197, 13553, 13278, 9600, 11375, 15892, 8539, 14402, 14834, 10965, 13566, 11266, 8404, 12157, 13848, 11373, 11138, 8169, 13233, 13001, 13172, 15367, 11923, 8190, 14596, 9265, 11732, 13796, 8949, 11922, 9047, 11306, 9970, 11320, 8709, 13272, 11042, 14403, 8361, 15582, 10348, 11716, 10581, 11134, 13906, 12583, 8552, 13549, 9410, 9989, 11757, 11480, 8908, 13067, 9616, 15426, 12738, 15610, 8710, 8159, 15393, 15848, 17306, 16212, 10059, 28635, 9554, 10501, 12535, 14656, 15802, 8315, 12456, 15756, 12262, 9749, 8057, 15735, 11585, 11790, 14972, 15284, 10497, 8576, 12063, 12327, 8072, 10032, 10488, 15287, 9283, 11481, 10425, 10546, 10995, 9484, 9668, 14869, 12597, 12319, 11620, 11889, 14912, 13400, 9526, 9251, 13094, 8097, 14702, 12908, 14496, 12093, 14558, 11703, 9998, 12206, 13805, 14482, 15696, 14632, 10082, 14619, 15814, 13340, 13247, 17492, 10061, 11408, 10774, 9991, 14006, 10120, 8858, 14269, 7964, 12794, 15085, 11073, 11625, 13344, 8636, 12355, 9681, 11280, 13882, 11882, 11025, 12956, 9585, 9693, 13710, 10907, 8184, 10288, 11351, 9587, 14307, 10874, 10285, 14043, 9246, 10602, 10905, 11601, 14314, 13691, 15585, 15279, 11680, 10589, 15375, 13294, 13826, 15902, 9310, 12812, 11456, 14032, 14765, 8108, 10183, 13659, 13547, 10063, 9738, 14724, 12313, 12416, 15353, 14856, 19075, 10271, 11056, 12654, 13057, 11115, 9821, 12542, 13702, 10640, 8975, 15031, 10564, 14466, 12599, 19320, 15663, 9092, 14170, 12596, 8633, 8884, 11958, 14629, 8051, 11229, 11291, 12874, 14736, 10544, 7952, 13352, 15370, 15222, 13590, 24508, 9514, 14056, 11867, 8077, 9261, 8759, 15080, 11486, 13700, 13966, 11080, 9233, 15676, 11744, 13876, 16595, 11337, 15565, 10004, 10550, 14998, 11462, 13239, 14344, 12557, 15916, 15486, 12692, 15359, 11828, 8921, 8024, 11487, 13868, 22651, 15500, 8182, 8965, 12846, 7976, 10653, 15497, 9107, 13991, 13643, 9197, 8142, 9200, 8970, 13851, 15028, 12657, 12627, 8419, 14008, 12985, 9631, 15296, 8950, 13119, 14620, 10823, 19581, 9365, 13144, 14371, 11513, 14138, 14763, 10890, 11381, 12136, 8355, 8724, 13699, 15186, 8774, 11449, 12080, 14747, 12260, 14097, 12033, 15637, 8277, 8134, 14664, 15804, 11169, 10556, 13705, 11425, 8009, 11524, 9828, 13448, 13180, 12890, 12081, 14394, 12426, 23811, 1488, 10688, 9253, 9732, 13638, 9580, 12704, 10334, 12028, 8391, 8098, 5364, 9104, 14183, 11753, 8172, 11824, 8654, 14273, 12977, 9538, 9477, 8401, 12699, 10940, 13992, 12324, 13790, 10491, 11396, 10407, 8778, 22465, 9128, 15664, 10809, 15450, 12158, 12647, 13789, 11947, 15527, 14828, 16397, 13835, 10768, 11868, 10108, 14961, 12662, 12659, 11654, 15271, 10310, 12929, 15411, 14535, 15509, 11047, 14216, 9650, 9320, 14435, 14715, 8964, 13182, 15502, 15026, 8342, 14593, 14115, 8465, 13071, 13762, 8734, 13300, 8556, 15449, 14774, 15091, 11956, 13375, 12620, 12940, 12271, 9249, 9229, 8731, 8815, 10720, 8225, 14243, 8674, 13584, 12849, 10326, 9178, 15310, 14449, 15262, 15335, 7950, 13208, 9301, 10955, 15200, 12210, 12343, 14654, 10676, 9286, 8512, 15761, 8811, 28807, 12137, 8152, 14254, 12829, 13008, 11555, 11276, 13086, 8253, 13151, 14707, 13046, 8036, 12275, 10571, 11642, 15468, 14941, 14302, 9945, 11261, 8129, 7985, 9935, 9364, 8254, 10182, 8069, 14807, 13341, 15689, 8491, 15723, 13217, 13680, 15505, 15539, 10293, 12867, 12958, 15330, 15640, 11961, 8580, 13669, 10998, 11296, 12543, 14085, 12736, 15810, 15766, 8244, 11483, 11667, 13162, 10559, 14230, 14238, 11631, 13632, 10516, 13655, 12974, 8612, 8791, 8726, 12473, 14608, 9299, 10765, 9958, 8070, 19728, 9556, 9578, 9995, 11819, 9786, 13029, 10790, 11035, 8119, 12666, 14567, 9157, 13706, 14359, 12718, 12700, 8582, 10311, 9881, 11594, 14248, 14271, 14513, 9492, 9763, 9779, 15783, 11400, 10154, 29546, 9470, 8431, 15836, 15532, 13107, 14539, 12269, 10444, 11264, 10492, 13115, 13657, 12764, 10666, 15248, 8985, 15537, 13380, 12326, 11330, 13755, 8670, 8089, 13896, 15567, 9502, 9433, 11748, 13852, 8327, 14323, 9032, 12613, 10468, 8516, 11114, 20688, 9375, 15384, 15750, 8602, 9571, 12374, 13997, 11069, 13207, 10942, 11860, 10999, 15096, 31374, 13541, 12981, 8437, 11521, 9338, 14397, 15869, 8193, 14734, 9201, 9274, 14655, 10161, 14169, 12503, 10755, 11694, 10432, 15852, 9855, 47025, 10181, 12041, 14711, 15655, 13214, 11055, 9148, 14362, 8346, 10741, 15055, 8020, 9886, 10977, 14984, 13454, 19188, 14296, 9117, 15169, 10678, 13345, 13631, 14783, 8947, 9911, 8838, 14065, 14740, 12190, 15694, 8029, 10437, 13759, 13629, 13735, 9038, 12186, 8619, 11718, 13564, 13199, 10386, 8743, 8046, 11125, 20201, 8878, 9746, 12140, 11943, 9277, 9413, 10641, 10565, 12333, 10929, 9293, 11523, 8293, 9591, 9139, 12766, 13964, 8924, 9151, 9048, 12000, 14096, 11649, 15645, 14988, 15512, 7999, 11070, 13720, 9904, 10253, 10188, 12820, 8363, 14868, 11067, 8461, 11094, 13475, 14416, 8492, 11190, 14750, 13556, 14673, 31686, 10397, 15558, 11637, 13480, 13445, 11581, 7975, 13264, 14324, 10360, 12212, 8678, 13291, 13495, 13152, 10330, 15194, 14356, 14646, 12029, 11880, 14484, 10583, 43410, 8143, 7949, 14481, 11886, 12265, 14764, 10254, 10706, 11363, 12562, 14517, 12511, 9721, 14541, 7947, 13428, 15745, 12107, 8158, 9584, 11013, 10619, 10225, 15313, 14029, 11441, 13070, 9386, 11393, 10815, 10260, 14025, 11822, 13478, 12911, 11147, 19883, 14385, 11939, 11979, 10021, 8550, 10478, 14758, 10262, 9857, 9542, 15621, 13869, 15270, 15372, 19254, 12847, 8997, 13963, 11536, 15409, 11473, 8450, 10250, 10827, 12740, 9160, 15036, 14055, 13763, 9202, 9739, 10177, 9659, 11872, 11651, 9266, 9684, 8760, 9617, 13334, 10606, 11186, 9512, 11135, 14713, 15101, 14061, 8157, 13786, 10733, 15592, 9373, 14336, 8309, 9417, 9824, 15767, 14451, 9521, 21440, 47088, 13496, 12191, 9658, 10387, 12466, 10482, 8910, 12853, 13497, 15179, 12730, 9450, 11496, 12986, 11121, 8155, 8663, 10235, 12691, 15627, 13255, 13045, 12010, 9683, 13523, 23183, 11495, 15626, 13937, 15642, 12292, 13131, 8541, 10941, 8330, 9453, 9848, 14586, 9745, 18037, 14300, 15540, 11990, 14438, 14545, 14329, 12519, 22713, 8575, 13257, 9471, 11293, 9766, 8245, 14794, 9896, 13204, 14587, 13228, 10455, 13545, 10649, 11834, 8729, 10445, 11324, 12635, 11046, 15840, 15312, 15661, 10637, 14001, 13350, 14644, 22714, 10031, 14494, 8449, 10528, 8796, 8754, 14786, 9087, 8425, 8517, 10011, 9020, 11120, 10813, 15431, 12816, 11918, 12055, 8617, 9434, 11191, 14830, 13298, 10933, 13862, 15688, 13777, 12095, 14752, 8216, 9224, 11357, 12248, 13040, 12118, 11968, 11170, 8549, 12052, 9850, 14009, 14191, 14493, 10102, 15150, 9376, 11684, 15365, 11233, 13722, 7951, 38135, 13594, 14488, 14106, 13591, 14967, 15725, 8113, 13437, 10438, 14174, 13470, 8848, 15831, 8348, 11562, 9073, 12084, 8501, 13104, 10816, 8269, 15178, 10376, 9236, 13767, 14885, 14676, 15578, 14964, 11729, 8542, 22916, 14872, 10039, 15172, 10915, 9846, 9331, 14176, 11587, 11892, 12514, 10500, 10654, 11608, 11195, 8677, 10685, 43840, 10350, 9635, 8086, 8383, 8839, 11091, 11041, 15851, 14762, 9756, 11290, 14332, 14738, 11019, 8281, 10646, 19047, 15440, 8914, 13969, 14880, 12061, 9046, 11710, 10760, 12436, 14526, 9194, 11062, 15314, 13695, 14803, 8482, 11948, 8168, 11900, 13167, 10661, 14780, 10980, 13164, 15180, 12570, 12865, 15051, 12530, 15155, 12961, 8889, 13061, 9921, 10886, 11683, 8093, 15704, 14144, 15285, 14857, 11955, 9551, 9929, 15459, 10163, 9093, 9880, 14490, 10395, 11813, 8779, 10324, 14888, 10474, 14577, 10922, 9897, 14960, 9613, 10734, 11384, 11775, 12532, 10093, 14589, 9797, 17955, 12035, 12050, 9682, 14718, 11826, 9089, 10410, 10618, 8753, 9657, 13490, 14223, 8456, 11663, 11146, 9731, 8365, 12731, 9058, 15399, 8732, 9647, 9483, 14907, 13647, 15380, 12871, 14299, 15237, 11225, 14838, 9789, 15593, 13750, 12952, 10358, 9748, 15675, 10027, 15205, 10617, 9391, 11916, 15785, 14938, 15697, 8320, 12936, 13089, 11355, 13307, 9510, 8409, 13518, 12420, 8345, 12163, 19992, 8819, 8733, 10792, 10634, 8995, 46568, 14141, 10669, 10623, 15868, 14940, 15161, 7945, 11614, 11573, 9242, 10745, 9805, 12354, 9772, 13889, 14547, 10702, 13579, 10552, 15813, 11927, 12553, 8514, 8094, 12203, 11131, 10045, 11702, 15137, 14678, 9332, 13106, 12855, 9906, 8513, 9442, 12424, 8474, 13212, 13981, 13158, 9939, 22186, 12225, 15822, 8824, 10356, 10783, 11972, 8481, 12297, 13145, 18927, 10786, 12189, 12162, 9101, 10164, 14072, 20267, 10152, 10986, 11419, 13049, 10251, 10398, 14288, 8054, 13512, 13223, 15713, 10276, 7946, 9553, 8302, 8655, 9024, 8335, 12917, 8769, 10543, 14507, 14748, 15387, 14845, 12660, 10728, 15366, 13231, 10997, 10364, 12332, 9357, 15874, 8079, 10199, 11878, 14168, 15325, 15035, 14899, 13305, 12285, 9207, 9711, 9831, 13514, 13901, 12840, 11783, 15209, 14841, 12861, 10456, 12433, 14509, 11004, 14968, 8954, 15339, 15653, 8781, 8856, 13483, 15860, 12252, 12680, 9343, 9437, 12823, 15177, 3361]}\n"
     ]
    }
   ],
   "source": [
    "dicc_text = count_words(df_tweets_train)\n",
    "print (len(dicc_text))\n",
    "print(\"'rape':\",dicc_text['rape'])"
   ]
  },
  {
   "cell_type": "markdown",
   "metadata": {},
   "source": [
    "### 3. Comptar paraules per cada categoria de piulada"
   ]
  },
  {
   "cell_type": "code",
   "execution_count": 25,
   "metadata": {},
   "outputs": [
    {
     "data": {
      "text/html": [
       "<div>\n",
       "<style scoped>\n",
       "    .dataframe tbody tr th:only-of-type {\n",
       "        vertical-align: middle;\n",
       "    }\n",
       "\n",
       "    .dataframe tbody tr th {\n",
       "        vertical-align: top;\n",
       "    }\n",
       "\n",
       "    .dataframe thead th {\n",
       "        text-align: right;\n",
       "    }\n",
       "</style>\n",
       "<table border=\"1\" class=\"dataframe\">\n",
       "  <thead>\n",
       "    <tr style=\"text-align: right;\">\n",
       "      <th></th>\n",
       "      <th>tweet_text</th>\n",
       "      <th>cyberbullying_type</th>\n",
       "    </tr>\n",
       "  </thead>\n",
       "  <tbody>\n",
       "    <tr>\n",
       "      <th>21633</th>\n",
       "      <td>@sajid_fairooz @IsraeliRegime Then he attacked...</td>\n",
       "      <td>religion</td>\n",
       "    </tr>\n",
       "    <tr>\n",
       "      <th>6448</th>\n",
       "      <td>Need to find a costume !</td>\n",
       "      <td>not_cyberbullying</td>\n",
       "    </tr>\n",
       "    <tr>\n",
       "      <th>1269</th>\n",
       "      <td>@ClausCManterola thats why you were my first f...</td>\n",
       "      <td>not_cyberbullying</td>\n",
       "    </tr>\n",
       "    <tr>\n",
       "      <th>30292</th>\n",
       "      <td>why do cute pants never have pockets?</td>\n",
       "      <td>other_cyberbullying</td>\n",
       "    </tr>\n",
       "    <tr>\n",
       "      <th>47608</th>\n",
       "      <td>Bro first learn something. Pubg PC is owned by...</td>\n",
       "      <td>ethnicity</td>\n",
       "    </tr>\n",
       "  </tbody>\n",
       "</table>\n",
       "</div>"
      ],
      "text/plain": [
       "                                              tweet_text   cyberbullying_type\n",
       "21633  @sajid_fairooz @IsraeliRegime Then he attacked...             religion\n",
       "6448                            Need to find a costume !    not_cyberbullying\n",
       "1269   @ClausCManterola thats why you were my first f...    not_cyberbullying\n",
       "30292              why do cute pants never have pockets?  other_cyberbullying\n",
       "47608  Bro first learn something. Pubg PC is owned by...            ethnicity"
      ]
     },
     "execution_count": 25,
     "metadata": {},
     "output_type": "execute_result"
    }
   ],
   "source": [
    "df_tweets_train.head()"
   ]
  },
  {
   "cell_type": "markdown",
   "metadata": {},
   "source": [
    "#### **EXERCICI 4:** \n",
    "\n",
    "+ Fent servir la funció que se us dona a continuació (`eachTopic`), apliqueu-la per tal de comptar les paraules que s'han trobat i la seva ocurrència segregant ara per categoria.\n",
    "\n",
    "El resultat ha de ser un diccionari d'aquest tipus (no necessàriament amb aquest valors):\n",
    "\n",
    "```python\n",
    "{\n",
    "    'ethnicity': {\n",
    "        'race' : {'n_ocur': 88, 'n_piu': 76},\n",
    "        'what': {'n_ocur': 123, 'n_piu': 65}\n",
    "        ...\n",
    "    },\n",
    "    ...\n",
    "    'gender': {\n",
    "        'jokes' : {'n_ocur': 18, 'n_piu': 17},\n",
    "        'you': {'n_ocur': 154, 'n_piu': 66}\n",
    "    }\n",
    "    ...\n",
    "}\n",
    "```"
   ]
  },
  {
   "cell_type": "code",
   "execution_count": 26,
   "metadata": {
    "tags": []
   },
   "outputs": [],
   "source": [
    "def count_words_categories(df):\n",
    "    \"\"\"\n",
    "    Funció que ha de constuir un diccionari que conté la freqüència de les \n",
    "    paraules i el número de piulades on ha aparegut. \n",
    "    Aquesta informació ha de ser dividida per diferents categories de cyberbullying.\n",
    "    \n",
    "    :param df: DataFrame amb les piulades i la informació associada\n",
    "    :return : Diccionari amb el format {label : {word : {n_ocur: valor, n_news: valor} } }\n",
    "    \"\"\"\n",
    "    words_topic = {}\n",
    "    \n",
    "    def eachTopic(group):\n",
    "        # Comptar paraules en aquest tema i desar-ho al diccionari\n",
    "        words_topic[group['cyberbullying_type'].iloc[0]] = count_words(group)\n",
    "    \n",
    "    # Grupar el DataFrame pel tipus de cyberbullying i aplicar la funció eachTopic\n",
    "    df.groupby('cyberbullying_type').apply(eachTopic)\n",
    "    \n",
    "    return words_topic\n"
   ]
  },
  {
   "cell_type": "code",
   "execution_count": 27,
   "metadata": {},
   "outputs": [
    {
     "name": "stdout",
     "output_type": "stream",
     "text": [
      "Categories: 6\n",
      "La paraula 'muslims' a la categoria 'religion': {'n_ocur': 1467, 'n_tweets': [20226, 17304, 17904, 18963, 19740, 19218, 20746, 18828, 23621, 16826, 22132, 17086, 18437, 17568, 20417, 19738, 16384, 19169, 23562, 16763, 22359, 21381, 17574, 22164, 20484, 17832, 16076, 20779, 20029, 17785, 21065, 18242, 19884, 21396, 23876, 21617, 20681, 18221, 17879, 20557, 22668, 15950, 23677, 22838, 20717, 22687, 21136, 21578, 16808, 22751, 17467, 18355, 22006, 22446, 16309, 18607, 18570, 19336, 22322, 22878, 20778, 20503, 18586, 23386, 18706, 23682, 20042, 17751, 18672, 22311, 23249, 19141, 16204, 18467, 20654, 22086, 21879, 18168, 23062, 21560, 17707, 19789, 22877, 19403, 18557, 17205, 17421, 19932, 16864, 18627, 19017, 19077, 22791, 21056, 22718, 22867, 20999, 20474, 20173, 23584, 20700, 16006, 22785, 18015, 18084, 22167, 18601, 16250, 18208, 17292, 19745, 17228, 21944, 21119, 22530, 22756, 19358, 22703, 23410, 19186, 16918, 19654, 20023, 22491, 20050, 18150, 22469, 19424, 20943, 23014, 17729, 17848, 20072, 18744, 20335, 17702, 22071, 18624, 19983, 19037, 18027, 23008, 23638, 20519, 18648, 16720, 21599, 18400, 22381, 18479, 22662, 17739, 21102, 23345, 16684, 19166, 18488, 18377, 18956, 21395, 19786, 21989, 19138, 16434, 16385, 16441, 16106, 16746, 17509, 22460, 20067, 22196, 17780, 23439, 21934, 23379, 16328, 16909, 21232, 16819, 19328, 18768, 21188, 21886, 16989, 21359, 22245, 21030, 18966, 17176, 20915, 23492, 16874, 18784, 20385, 16183, 22201, 18059, 22434, 18044, 21722, 16986, 22420, 17171, 20399, 19207, 20236, 17958, 19754, 22502, 16897, 23454, 19423, 19624, 16376, 23338, 17778, 19128, 19873, 22549, 21282, 18686, 17737, 19267, 17098, 16654, 22593, 21450, 17371, 18611, 16141, 20137, 16753, 20493, 16119, 15943, 21266, 23809, 21575, 16249, 22836, 18530, 20854, 17495, 18053, 17281, 18470, 22170, 21607, 22106, 17438, 23608, 23356, 16348, 17692, 20047, 20974, 22984, 17111, 23273, 17382, 19529, 19702, 22489, 21915, 17613, 18802, 18282, 22592, 18030, 21231, 16513, 17878, 20732, 20632, 16531, 16359, 20087, 18848, 22244, 20993, 23845, 16889, 21303, 16440, 19272, 19970, 22361, 18991, 17903, 17344, 16436, 20764, 20502, 19362, 18937, 16217, 18864, 18517, 21066, 22932, 22443, 21285, 17845, 18808, 17993, 22480, 16583, 19467, 23118, 23829, 19411, 19868, 19759, 22456, 23178, 21404, 20258, 19266, 19538, 19975, 18433, 20994, 17646, 23863, 22166, 23258, 19375, 21741, 16090, 18141, 19405, 16111, 23246, 16216, 19068, 19354, 23695, 20600, 20384, 16994, 22383, 16879, 20131, 22947, 22796, 19326, 23558, 21070, 19908, 20664, 17762, 18246, 23911, 23574, 17090, 22855, 16921, 16211, 18409, 23428, 22961, 19080, 22452, 22375, 20095, 22329, 17102, 19434, 22220, 20371, 21528, 22211, 18087, 21682, 20478, 18260, 22215, 17588, 16662, 21026, 19268, 21506, 17411, 20297, 22373, 16343, 17995, 19730, 23802, 23789, 20317, 16147, 22730, 21970, 23585, 17017, 22538, 18126, 22909, 19630, 17117, 21097, 17219, 23503, 16944, 19239, 16793, 20492, 22675, 16357, 21746, 20153, 20060, 20487, 21872, 22911, 18915, 22104, 16483, 16273, 17138, 18306, 19108, 18290, 20978, 16747, 22233, 21069, 19647, 19493, 22064, 21609, 23417, 16841, 19070, 20812, 21959, 16065, 18882, 16521, 19352, 20175, 20723, 21415, 23710, 19561, 19829, 17806, 19944, 23286, 18736, 23475, 21005, 19620, 22945, 22933, 22888, 21687, 20076, 18981, 19833, 18741, 23786, 17326, 16413, 17632, 20684, 16195, 18345, 20024, 20601, 20078, 18184, 17328, 18064, 19232, 20880, 18610, 16821, 16055, 20274, 21763, 19898, 21122, 17011, 21247, 22754, 18702, 18323, 22559, 19495, 20167, 18954, 20856, 19709, 23384, 18818, 21152, 20229, 18537, 18003, 16549, 17470, 17536, 19612, 16946, 19609, 16597, 17488, 20453, 18561, 19825, 16180, 22824, 17252, 19542, 23910, 17902, 23082, 21812, 20070, 19508, 18673, 17287, 23722, 21731, 17435, 20285, 17133, 22174, 17859, 16243, 22957, 16787, 22594, 20011, 19981, 16341, 23913, 22859, 16186, 16245, 16925, 18857, 23675, 18742, 21401, 20762, 21476, 22630, 21176, 21129, 21344, 22880, 20292, 21469, 23054, 17454, 22560, 18660, 19584, 18555, 22069, 23610, 21559, 15954, 20633, 16752, 17855, 16656, 16820, 18536, 22136, 22279, 16099, 23261, 23219, 21765, 16194, 17077, 16196, 22862, 19533, 21667, 21316, 16510, 20411, 18383, 22057, 16323, 20795, 16040, 21976, 16015, 17535, 23048, 17233, 22605, 22091, 16327, 16031, 21233, 20038, 16191, 19156, 21222, 22519, 17964, 23538, 20581, 17736, 21903, 18815, 16315, 23148, 20089, 19849, 20666, 17866, 19600, 19858, 22463, 18228, 16085, 19244, 20380, 16137, 18778, 21262, 22968, 16166, 21016, 17141, 21348, 17159, 17526, 16526, 16674, 23407, 19176, 18700, 20890, 16937, 20206, 17916, 23678, 20205, 18173, 17010, 23587, 22205, 22314, 23715, 18050, 19617, 19103, 19777, 21635, 17735, 21943, 22920, 18160, 16210, 20360, 19859, 17601, 17403, 20130, 20839, 22212, 22224, 21263, 20984, 16552, 22590, 16074, 16519, 23072, 17396, 19471, 18130, 20273, 21922, 18838, 17626, 22475, 23631, 22441, 16729, 22643, 22155, 16966, 16207, 19835, 19142, 22645, 22649, 20589, 17888, 16957, 18068, 20629, 16350, 23668, 17755, 20630, 22891, 20257, 22598, 22771, 21093, 22698, 17643, 22941, 16270, 16680, 16148, 22571, 21992, 20342, 19935, 20539, 19428, 19807, 19857, 22585, 17186, 23779, 18929, 22431, 17311, 23272, 21882, 19967, 17038, 19122, 23128, 23027, 23319, 22988, 23866, 19075, 18055, 16266, 16294, 16683, 17571, 18723, 18967, 23254, 21294, 19537, 16145, 20473, 21060, 16789, 23149, 17787, 22319, 19349, 16930, 18163, 20558, 23138, 23318, 20528, 23089, 18074, 17408, 17124, 18303, 22111, 16288, 16831, 23070, 16676, 18501, 20372, 16219, 19455, 22208, 22394, 17158, 17771, 17325, 16690, 22447, 22682, 19284, 19581, 17000, 19140, 18085, 21583, 17187, 17336, 22266, 18230, 18799, 15967, 20097, 21085, 20497, 16162, 17096, 21004, 18353, 23685, 20409, 19020, 22562, 21854, 23794, 22084, 23012, 23059, 19144, 20168, 21407, 19460, 23905, 18193, 22299, 21258, 18069, 20944, 20439, 17597, 19793, 16143, 17280, 21679, 18428, 20017, 20588, 18980, 21429, 17381, 19773, 16587, 20222, 19817, 22081, 18411, 18461, 23791, 23352, 20610, 17108, 20117, 16150, 21196, 16716, 19372, 23884, 16533, 20914, 19360, 22740, 23432, 21105, 23231, 19381, 21946, 23650, 16496, 17768, 22521, 17372, 16861, 20091, 23517, 19301, 16344, 19071, 16803, 17718, 17014, 16947, 20670, 19058, 15921, 16895, 23265, 17525, 20219, 19067, 23702, 20365, 23798, 21071, 16225, 21960, 16901, 21995, 20857, 20314, 21313, 19257, 19840, 19728, 19993, 19383, 18346, 19589, 15925, 21913, 18186, 22657, 17420, 17237, 16161, 17087, 23708, 16388, 22731, 23598, 16066, 23461, 20508, 23153, 19551, 23495, 22010, 23297, 18211, 18309, 16345, 21055, 16681, 21625, 17498, 23385, 20026, 17358, 18102, 20843, 21218, 17051, 22273, 16891, 21701, 23542, 18119, 20355, 20228, 22976, 22445, 20586, 21638, 21868, 18985, 21657, 17998, 20352, 19764, 22453, 21767, 20793, 16632, 23127, 22996, 18385, 21618, 19161, 20751, 23106, 23681, 21593, 21804, 15965, 21191, 19188, 23853, 18525, 19009, 16542, 21042, 19639, 19653, 21496, 22004, 19785, 18275, 19641, 21649, 19870, 21422, 22487, 17220, 17857, 22185, 23805, 23232, 18813, 16848, 18190, 20378, 17645, 19799, 18219, 18128, 16545, 22366, 16503, 23632, 18043, 23283, 21290, 17327, 20127, 18978, 20404, 22532, 17594, 22985, 17622, 21419, 20672, 17083, 21577, 20002, 22666, 18183, 20640, 23470, 17507, 23628, 18022, 16623, 19139, 21488, 23110, 22355, 22917, 19259, 16917, 22055, 16355, 23204, 20735, 15937, 20551, 19136, 17631, 17999, 20071, 19045, 17683, 18247, 18740, 23784, 19482, 16675, 22709, 17748, 22402, 23821, 20184, 19254, 16609, 23888, 16494, 16546, 21324, 23403, 17655, 23541, 18196, 16980, 23259, 19361, 19562, 21261, 21704, 20083, 20693, 23565, 22464, 21157, 21341, 18466, 20554, 20427, 19774, 20035, 16239, 21440, 16840, 16028, 16324, 23445, 22089, 16981, 16818, 23391, 17180, 21817, 19927, 23018, 18641, 17177, 17619, 23885, 18874, 21712, 16990, 23183, 17606, 23151, 20368, 21902, 17802, 17726, 17926, 16349, 22126, 17390, 22681, 18531, 18201, 17693, 16634, 16749, 20449, 20164, 20619, 17582, 19245, 22738, 23473, 17449, 16639, 21435, 18321, 18814, 23851, 17335, 18709, 19686, 17319, 17291, 22072, 18745, 23759, 23358, 17356, 19910, 22748, 16792, 18606, 16857, 23405, 16190, 17006, 20727, 17134, 21143, 18859, 19406, 22076, 20158, 19442, 19587, 22633, 20500, 21573, 17139, 22547, 18860, 17700, 22898, 21840, 19982, 17672, 17257, 17459, 19850, 20016, 22739, 23077, 19282, 19474, 19085, 19532, 21307, 20758, 18713, 20466, 23074, 18650, 18512, 19658, 16263, 16628, 22950, 16144, 23474, 20676, 19994, 18066, 22255, 18097, 23324, 21304, 22272, 20988, 17273, 23703, 21364, 20403, 16460, 19722, 17040, 17794, 17456, 20008, 17076, 22411, 21910, 22780, 20760, 20187, 22139, 21351, 17890, 17566, 19385, 18088, 17441, 17808, 22689, 21385, 21644, 20835, 23803, 16738, 21478, 16202, 21851, 18699, 15984, 21827, 17243, 23806, 23536, 19534, 18594, 20247, 17192, 18459, 23644, 20276, 22440, 23909, 20039, 17004, 20438, 21057, 22895, 20456, 19776, 21251, 19191, 18863, 21979, 18871, 21984, 21997, 22735, 19907, 16700, 19353, 21124, 22525, 21899, 22371, 18837, 16402, 16617, 17012, 17225, 22186, 22563, 21087, 19083, 17745, 17035, 20517, 21425, 20267, 16493, 20646, 19174, 18508, 21652, 22191, 18338, 19145, 17986, 21628, 21409, 16722, 22986, 19519, 18897, 22416, 21655, 21732, 23404, 20767, 20348, 22124, 21089, 21951, 22896, 22765, 20537, 19601, 22066, 18450, 22644, 17493, 23107, 18827, 23545, 16865, 20669, 23039, 18380, 17216, 20742, 22428, 18105]}\n"
     ]
    }
   ],
   "source": [
    "words_categories = count_words_categories(df_tweets_train)\n",
    "print (\"Categories:\", len(words_categories))\n",
    "print (\"La paraula 'muslims' a la categoria 'religion':\", words_categories[\"religion\"]['muslims'])"
   ]
  },
  {
   "cell_type": "markdown",
   "metadata": {},
   "source": [
    "### 4. Paraules més freqüents a les piulades\n",
    "\n",
    "\n",
    "**El problema de com escollir el vector de carecterístiques**\n",
    "\n",
    "L'elecció de les paraules que formen el vector de característiques és un pas crític. En funció de com de bona sigui aquesta descripció, millor funcionarà el sistema. Tot i que us deixem a vosaltres la política de creació del vector de característiques us donem una pista: una possible estratègia és agafar aquelles paraules que apareixen entre en un 10 i un 50 percent del total de piludades (sense tenir en compte la categoria). És a dir, paraules que no són ni massa freqüents ni massa poc. Podeu experimentar variant aquests valors.\n",
    "\n",
    "Una altra estratègia interessant és eliminar \"stop words\"."
   ]
  },
  {
   "cell_type": "markdown",
   "metadata": {},
   "source": [
    "#### **EXERCICI 5:** \n",
    "\n",
    "+ Feu una funció ``topNwords`` que crei un diccionari amb les N paraules més representatives (les que apareixen amb més freqüència) de cadascuna de les categories de *cyberbullying* (Tenint en compte que haureu tret aquelles paraules que apareixen en la majoria de piulades, així com també, les que únicament apareixen en un conjunt molt petit de piulades). Una pista de que aneu ben encaminats es que per cadascuna de les categories de *cyberbullying* obtingueu paraules rellevants per aquesta. Si no es així, vol dir que heu d'incrementar el nombre de paraules a saltar (*skip_top*).\n",
    "\n",
    "El resultat serà un diccionari tipus (no necessàriament amb aquest valors):\n",
    "\n",
    "```python\n",
    "{\n",
    "    'age': ['school', 'high', ...],\n",
    "    ...\n",
    "    'religion': ['muslims', 'christian',...]\n",
    "    ...\n",
    "}\n",
    "```\n",
    "\n",
    "+ Experimenteu omplint la llista `skip_top` amb aquelles paraules que penseu no tenen significat o relevancia per definir cada categoria. Podeu buscar informació sobre **stop words** a internet i definir varies llistes fins que penseu que obteniu una bona representació de paraules per categoria de `cyberbullying`."
   ]
  },
  {
   "cell_type": "code",
   "execution_count": 33,
   "metadata": {
    "tags": []
   },
   "outputs": [],
   "source": [
    "def topNwords(df, words, N, skip=[]):\n",
    "    \"\"\"\n",
    "    :param df: DataFrame amb les piulades i la informació associada\n",
    "    :param words: diccionari amb les paraules i la seva frequencia\n",
    "    :param N: número de paraules més representatives que volem considerar\n",
    "    :return : Diccionari amb el format {categoria1: llista_top_words_cat_1,  \n",
    "                                        categoria2: llista_top_words_cat_2, ...} \n",
    "    \"\"\"\n",
    "    top_words = {}\n",
    "\n",
    "    # Recórrer les categories\n",
    "    for category, word_freq in words.items():\n",
    "        # Ordenar el diccionari de paraules per freqüència en ordre descendent\n",
    "        sorted_words = sorted(word_freq.items(), key=lambda x: x[1]['n_ocur'], reverse=True)\n",
    "\n",
    "        # Filtrar les paraules que han d'ésser ignorades\n",
    "        filtered_words = [word for word, freq in sorted_words if word not in skip]\n",
    "\n",
    "        # Agafar les N paraules més representatives\n",
    "        top_words[category] = filtered_words[:N]\n",
    "\n",
    "    return top_words"
   ]
  },
  {
   "cell_type": "code",
   "execution_count": 37,
   "metadata": {},
   "outputs": [
    {
     "name": "stdout",
     "output_type": "stream",
     "text": [
      "Top 10 paraules més representatives per a la categoria 'age': ['the', 'i', 'school', 'and', 'in', 'to', 'a', 'high', 'bullied', 'of']\n",
      "Top 10 paraules més representatives per a la categoria 'ethnicity': ['the', 'dumb', 'fuck', 'a', 'you', 'to', 'and', 'i', 'nigger', 'is']\n",
      "Top 10 paraules més representatives per a la categoria 'gender': ['a', 'the', 'and', 'rape', 'to', 'gay', 'i', 'is', 'jokes', 'you']\n",
      "Top 10 paraules més representatives per a la categoria 'not_cyberbullying': ['the', 'to', 'i', 'a', '#mkr', 'and', 'is', 'of', ' ', 'you']\n",
      "Top 10 paraules més representatives per a la categoria 'other_cyberbullying': ['i', 'to', 'a', 'the', 'is', 'of', 'you', 'and', 'that', 'in']\n",
      "Top 10 paraules més representatives per a la categoria 'religion': ['the', 'you', 'to', 'and', 'a', 'of', 'is', 'in', 'are', 'that']\n"
     ]
    }
   ],
   "source": [
    "# Codi adicional per fer testeig\n",
    "\n",
    "# Prova amb el DataFrame de training i les paraules obtingudes de l'exercici 4 (words_categories_train)\n",
    "N = 10  # Podeu ajustar aquest valor segons les vostres preferències\n",
    "skip_top = []  # Amb aquesta llista podem incloure les paraules que volem excluir\n",
    "words_categories = count_words_categories(df_tweets_train)\n",
    "\n",
    "# Crida a la funció topNwords\n",
    "top_words_result = topNwords(df_tweets_train, words_categories, N, skip_top)\n",
    "\n",
    "# Imprimir el resultat\n",
    "for category, top_words_list in top_words_result.items():\n",
    "    print(f\"Top {N} paraules més representatives per a la categoria '{category}': {top_words_list}\")"
   ]
  },
  {
   "cell_type": "markdown",
   "metadata": {},
   "source": [
    "### 5. Vector de Característiques\n",
    "\n",
    "#### **EXERCICI 6:** \n",
    "\n",
    "Creeu el vector de característiques necessari per a fer l’entrenament del Naïve Bayes amb la funció ``create_features``.\n",
    "\n",
    "El resultat serà un diccionari tipus (no necessàriament amb aquest valors):\n",
    "\n",
    "```python\n",
    "{\n",
    "    0: np.array([0, 1, 1, 0, ...]),\n",
    "    1: np.array([0, 1, 1, 1, ...]),\n",
    "    ...\n",
    "}\n",
    "```"
   ]
  },
  {
   "cell_type": "code",
   "execution_count": null,
   "metadata": {
    "tags": []
   },
   "outputs": [],
   "source": [
    "def create_features(df, top_words): \n",
    "    \"\"\"\n",
    "    :params df: DataFrame amb les piulades i la informació associada\n",
    "    :params top_words: ha de ser el diccionari que retorna topNWords\n",
    "    :return : diccionari o pd.Series que conté un np.array per a \n",
    "        cadascuna de les piulades amb el vector de característiques corresponent.\n",
    "    \"\"\"\n",
    "    \n",
    "    # el vostre codi aquí\n",
    "    \n",
    "    return dict_feat_vector"
   ]
  },
  {
   "cell_type": "code",
   "execution_count": 34,
   "metadata": {
    "tags": []
   },
   "outputs": [
    {
     "ename": "NameError",
     "evalue": "name 'create_features' is not defined",
     "output_type": "error",
     "traceback": [
      "\u001b[1;31m---------------------------------------------------------------------------\u001b[0m",
      "\u001b[1;31mNameError\u001b[0m                                 Traceback (most recent call last)",
      "\u001b[1;32m~\\AppData\\Local\\Temp\\ipykernel_1848\\938773110.py\u001b[0m in \u001b[0;36m<module>\u001b[1;34m\u001b[0m\n\u001b[0;32m      2\u001b[0m \u001b[0mwords_categories\u001b[0m \u001b[1;33m=\u001b[0m \u001b[0mcount_words_categories\u001b[0m\u001b[1;33m(\u001b[0m\u001b[0mdf_tweets_train\u001b[0m\u001b[1;33m)\u001b[0m\u001b[1;33m\u001b[0m\u001b[1;33m\u001b[0m\u001b[0m\n\u001b[0;32m      3\u001b[0m \u001b[0mtop_words\u001b[0m \u001b[1;33m=\u001b[0m \u001b[0mtopNwords\u001b[0m\u001b[1;33m(\u001b[0m\u001b[0mdf_tweets_train\u001b[0m\u001b[1;33m,\u001b[0m \u001b[0mwords_categories\u001b[0m\u001b[1;33m,\u001b[0m \u001b[0mN\u001b[0m\u001b[1;33m,\u001b[0m \u001b[0mskip_top\u001b[0m\u001b[1;33m)\u001b[0m\u001b[1;33m\u001b[0m\u001b[1;33m\u001b[0m\u001b[0m\n\u001b[1;32m----> 4\u001b[1;33m \u001b[0mdict_feat_vector\u001b[0m \u001b[1;33m=\u001b[0m \u001b[0mcreate_features\u001b[0m\u001b[1;33m(\u001b[0m\u001b[0mdf_tweets_train\u001b[0m\u001b[1;33m,\u001b[0m \u001b[0mtop_words\u001b[0m\u001b[1;33m)\u001b[0m\u001b[1;33m\u001b[0m\u001b[1;33m\u001b[0m\u001b[0m\n\u001b[0m",
      "\u001b[1;31mNameError\u001b[0m: name 'create_features' is not defined"
     ]
    }
   ],
   "source": [
    "N = 30 # Aquest parametre el podem canviar i fer proves per avaluar quin és el millor valor. \n",
    "words_categories = count_words_categories(df_tweets_train)\n",
    "top_words = topNwords(df_tweets_train, words_categories, N, skip_top)\n",
    "dict_feat_vector = create_features(df_tweets_train, top_words)"
   ]
  },
  {
   "cell_type": "code",
   "execution_count": null,
   "metadata": {},
   "outputs": [],
   "source": [
    "len(dict_feat_vector)"
   ]
  },
  {
   "cell_type": "markdown",
   "metadata": {},
   "source": [
    "### 6. El classificador Naïve Bayes\n",
    "\n",
    "Un cop tenim una representació necessitem un procés d'aprenentatge que ens permeti passar de la descripció a una categoria. \n",
    "En aquest lliurament farem servir el classificador Naïve Bayes. \n",
    "Aquest classificador forma part de la família de classificadors probabilístics. \n",
    "La sortida d'un classificador probabilístic és un valor de probabilitat donat un exemple per cadascuna de les categories. \n",
    "La decisió final correspon a la categoria amb més probabilitat. \n",
    "\n",
    "\n",
    "Els classificadors probabilistics Bayesians es basen en el teorema de Bayes per realitzar els càlculs per estimar la probabilitat condicionada $p(y|x)$, on $y$ és la categoria i $\\mathbf x$ les característiques de l'exemple.\n",
    "\n",
    "La fòrmula de Bayes és fàcil de deduir. Sabem que:\n",
    "\n",
    "$$ p(\\mathbf x,y) = p(\\mathbf x|y)p(y) = p(y|\\mathbf x)p(\\mathbf x)$$\n",
    "d'on podem extreure que: \n",
    "$$ p(y|\\mathbf x) = \\frac{p(\\mathbf x|y)p(y)}{p(\\mathbf x)}$$\n",
    "\n",
    "\n",
    "La millor categoria serà la que fa màxima la probabilitat $ p(y|\\mathbf x)$ i per comparar aquests valors i saber quin és el màxim no cal calcular $p(\\mathbf x)$ (que és constant). Per tant, considerarem que:\n",
    "$$ p(y|\\mathbf x) \\approx p(y) · p(\\mathbf x|y)$$\n",
    "\n",
    "\n",
    "Les deduccions fins a aquest punt són vàlides per la majoria de classificadors Bayesians. \n",
    "Naïve Bayes es distingeix de la resta perquè imposa una condició encara més restrictiva. \n",
    "Considerem $\\mathbf x=(x_1, \\cdots, x_n)$ un conjunt d'$N$ variables aleatòries (en el nostre cas, les paraules seleccionades). \n",
    "Naïve Bayes assumeix que la probabilitat de la presència d'una paraula en una piulada és independent de la presència d'una altra i per tant podem escriure:\n",
    "$$p(x_1,x_2,...,x_N | y) = p(x_1|y)p(x_2|y)...p(x_N|y)$$\n",
    "\n",
    "\n",
    "Podem interpretar l'anterior equació de la següent forma: La probabilitat de que una piuldad descrita pel vector de característiques (0,1,0,1,1,1) sigui de la classe \"gender\" és proporcional al producte de la probabilitat que la primera paraula del vector no aparegui en les piulades sobre \"gender\" per la probabilitat que la segona paraula sí que hi aparegui, etc.\n",
    "\n",
    "\n",
    "**Estimant les probabilitats marginals condicionades**\n",
    "\n",
    "L'últim pas que ens queda és trobar el valor de les probabilitats condicionades. \n",
    "Farem servir la representació de $0$'s i $1$'s indicant que la paraula no apareix (0) o sí apareix (1) a la piulada. \n",
    "\n",
    "Per trobar el valor de la probabilitat condicionada farem servir una aproximació freqüentista a la probabilitat. \n",
    "Això vol dir que calcularem la freqüència d'aparició de cada paraula per a cada categoria. \n",
    "Aquest càlcul es fa dividint el nombre de piulades de la categoria en que apareix la paraula pel nombre total de piulades d'aquella categoria. \n",
    "\n",
    "En general:\n",
    "$$p(x = \\text{\"school\"} | y = C)= \\frac{A}{B} $$\n",
    "on $A$ és el número de piulades de la categoria $C$ on hi apareix la paraula 'school' i $B$ és el número total de piulades de la categoria $C$.\n",
    "\n",
    "\n",
    "#### Punts delicats a tenir en compte.\n",
    "\n",
    "**El problema de la probabilitat 0**\n",
    "\n",
    "Si us hi fixeu bé, la probabilitat pot ser 0!!  Això vol dir, que si en una piulada no hi apareix una paraula, no pot ser classificada com cap tipus de *cyber bullying* (la presència del 0 al producte fa que el resultat sigui 0).\n",
    "\n",
    "No sembla raonable que s'assigni o no en aquesta categoria segons si en la piulada hi apareix o no una única paraula. \n",
    "Per tant, el que s'acostuma a fer és donar una baixa probabilitat en comptes de zero. \n",
    "\n",
    "Una de les possibles solucions es fer servir la correcció de Laplace. Seguint l'exemple anterior la correcció de Laplace és:\n",
    "\n",
    "$$p(x= \\text{\"school\"} | y = 'C' ) = \\frac{A+1}{B+M}$$ \n",
    "\n",
    "on $M$ és el nombre de categories.\n",
    "\n",
    "**El problema de l'\"underflow\"**\n",
    "\n",
    "La valor que hem de calcular en el Naive Bayes és el resultat d'un producte. \n",
    "El nombre de caractéristiques del vector és el nombre de termes del producte. \n",
    "Aquests nombres són iguals o menors a 1 i n'hi ha molts, si els multipliquem entre ells el resultat serà massa petit per a representar-lo en un nombre de punt flotant i el càlcul acabarà sent reduït a zero. \n",
    "\n",
    "Per solucionar aquest problema en comptes d'operar fent multiplicacions, se sol passar a l'escala logarítmica i allà operar fent servir sumes en comptes de multiplicacions."
   ]
  },
  {
   "cell_type": "markdown",
   "metadata": {},
   "source": [
    "#### **EXERCICI 7:** \n",
    "\n",
    "+ Implementeu la funció d'aprenentatge del classificador Naïve Bayes (funció ``naive_bayes_learn()``) que retorni un diccionari amb estructura `{categoria: [P0, ..., PN]}` on la llista representa la probabilitat\n",
    "marginal condicionada de cada paraula del vector de característiques per la categoria corresponent. \n",
    "\n",
    "+ Implementeu la funció ``naive_bayes`` que implementa el classificador. Noteu que aquesta funció está guiada i només haureu d'emplenar els espais on hem posat tres punts suspensius \"#···\".  "
   ]
  },
  {
   "cell_type": "code",
   "execution_count": null,
   "metadata": {},
   "outputs": [],
   "source": [
    "def naive_bayes_learn(df, feats):\n",
    "    \"\"\"\n",
    "    :params df: DataFrame amb les piulades i la informació associada\n",
    "    :params feats: vector de característiques de cada piulada\n",
    "    :return : probabilitats marginals condicionades\n",
    "    \"\"\"\n",
    "    \n",
    "    # El vostre codi aquí\n",
    "      \n",
    "    \n",
    "    return probs"
   ]
  },
  {
   "cell_type": "code",
   "execution_count": null,
   "metadata": {},
   "outputs": [],
   "source": [
    "import sys\n",
    "from IPython import embed\n",
    "def naive_bayes(df_train, feat_train, feat_test=None, df_test=None):\n",
    "    \"\"\"\n",
    "    Funció que implementa el clasificador Naive_Bayes.\n",
    "    \n",
    "    Si df_test no és None, ha de calcular l'encert sobre les dades de test. És a dir,\n",
    "    després de classificar feat_test ha de comparar la classificació amb la classe\n",
    "    real i dir (print) quin percentatge d'encert ha obtingut.\n",
    "    \n",
    "    :param df_train: DataFrame amb les piulades que s'utilitzaran per l'entrenament\n",
    "    :param feat_train: Diccionari amb els vectors de caracteristiques de cada tweet de l'entrenament\n",
    "    :param feat_test: Diccionari amb els vectors de caracteristiques de cada tweet de test\n",
    "    :param df_test: DataFrame amb les piulades que s'utilitzaran pel test\n",
    "    \n",
    "    :return : Una serie on l'index correspon amb els indexos de df_test i els valors són la\n",
    "              classificació retornada per Naive Bayes\n",
    "    \"\"\"\n",
    "    probs = naive_bayes_learn(df_train, feat_train)\n",
    "    p_of_cat = count_words_categories(df_train)\n",
    "    p_total = len(p_of_cat.keys())\n",
    "    \n",
    "    def eachFeats(row):\n",
    "        id, feat = row\n",
    "        p_max = float('-inf')\n",
    "        p_cat = 0\n",
    "\n",
    "        for category in probs:\n",
    "            # Speed up by using numpy\n",
    "            # inv is the inverse of features, 0 where 1 and 1 where 0\n",
    "            # ...\n",
    "            \n",
    "            # Probs * feats is the probability of being there, while\n",
    "            # inv - inv * feat = 1 - (0, 1, 0... inverses) * probs, probability of not being there\n",
    "            # ...\n",
    "            \n",
    "            # Sum of logs [vs] underflow caused by mul of probs\n",
    "            # ...\n",
    "\n",
    "            # Take the max, do it now to avoid extra-loops\n",
    "            # ...    \n",
    "        return id, p_cat\n",
    "    \n",
    "    data = map(eachFeats, feat_test.items())\n",
    "    data = pd.Series(dict(data))\n",
    "    correct = data == df_test['cyberbullying_type']\n",
    "    print(\"Accuracy: {}\".format(correct.sum() / correct.size))\n",
    "    \n",
    "    return correct.sum() / correct.size"
   ]
  },
  {
   "cell_type": "code",
   "execution_count": null,
   "metadata": {},
   "outputs": [],
   "source": [
    "N = 20 # Aquest parametre el podeu canviar i fer proves per avaluar quin és el millor valor. \n",
    "\n",
    "words_topics = count_words_categories(df_tweets_train)\n",
    "top_words = topNwords(df_tweets_train, words_topics, N, skip_top)\n",
    "\n",
    "feat_train = create_features(df_tweets_train, top_words)\n",
    "feat_test = create_features(df_tweets_test, top_words)"
   ]
  },
  {
   "cell_type": "code",
   "execution_count": null,
   "metadata": {},
   "outputs": [],
   "source": [
    "accuracy = naive_bayes(df_tweets_train, feat_train, feat_test, df_tweets_test)"
   ]
  },
  {
   "cell_type": "markdown",
   "metadata": {},
   "source": [
    "Haurieu d'obtenir una precisió del 67-70%. "
   ]
  },
  {
   "cell_type": "markdown",
   "metadata": {},
   "source": [
    "#### **EXERCICI 8:** "
   ]
  },
  {
   "cell_type": "markdown",
   "metadata": {},
   "source": [
    "El possible procediment per tal d'aconseguir una major precisió seria el següent:\n",
    "+ Es poden implementar diverses maneres d'escollir quines *stopwords* volem eliminar en les piuldades per a que no formin part dels vectors de característiques.\n",
    "+ Avaluar quin conjunt d'*stopwords* retorna una precisió major per a N=40. \n",
    "+ Un cop tinguem el vector d'*stopwords* amb millors resultats, el testejarem per a diferents $N$'s per a veure quina és el nombre de *stopwords* òptim.\n",
    "\n",
    "Feu una cerca a Intenet per trobar més estratègies i intenteu millorar l'*accuracy* que heu acosneguit fins ara.\n",
    "\n",
    "Amb això podeu arribar a precisions superiors al 80%."
   ]
  }
 ],
 "metadata": {
  "kernelspec": {
   "display_name": "Python 3 (ipykernel)",
   "language": "python",
   "name": "python3"
  },
  "language_info": {
   "codemirror_mode": {
    "name": "ipython",
    "version": 3
   },
   "file_extension": ".py",
   "mimetype": "text/x-python",
   "name": "python",
   "nbconvert_exporter": "python",
   "pygments_lexer": "ipython3",
   "version": "3.9.13"
  }
 },
 "nbformat": 4,
 "nbformat_minor": 4
}

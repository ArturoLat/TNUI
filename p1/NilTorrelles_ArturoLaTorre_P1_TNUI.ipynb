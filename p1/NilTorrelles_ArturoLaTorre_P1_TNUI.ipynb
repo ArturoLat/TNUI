{
 "cells": [
  {
   "cell_type": "markdown",
   "id": "8ef30a1a",
   "metadata": {
    "id": "8ef30a1a"
   },
   "source": [
    "# Pràctica 1:\n",
    "\n",
    "Nom dels alumnes del grup:\n",
    "> NIL TORRELLES PUENTE\n",
    "\n",
    ">ARTURO LATORRE CASTELLTORT\n",
    "\n",
    "> Recordeu que, tot i que la pràctica es fa en parelles, els dos membres del grup han de lliurar al campus virtual aquest notebook.\n",
    "\n",
    "# Anàlisi exploratòria de dades (EDA) & ús d'eines avançades de Python\n",
    "\n",
    "L'**anàlisi exploratòria de dades** (EDA, per les seves sigles en anglès, *Exploratory Data Analysis*) és un procés crític en la ciència de les dades que implica **explorar, resumir i visualitzar** les dades per a entendre les seves característiques principals. L'objectiu principal de l'EDA és revelar patrons, tendències i anomalies a partir de les dades, sense fer suposicions massa específiques o construir models massa complexes.\n",
    "\n",
    "Aquí teniu alguns dels elements més importants de l'anàlisi exploratòria de dades:\n",
    "\n",
    "+ **Visualització de dades**: A través de gràfics i gràfiques, es representen les dades per a veure distribucions, tendències i relacions. Això pot incloure histogrames, gràfics de barres, diagrames de dispersió, gràfics de caixa, etc.\n",
    "\n",
    "+ **Estadístiques descriptives**: Es calculen estadístiques com la mitjana, la mediana, la desviació estàndard i altres mesures resum per a descriure les característiques bàsiques de les variables.\n",
    "\n",
    "+ **Detecció d'anomalies**: Es busca identificar valors atípics o anòmals que puguin indicar errors o situacions especials en les dades.\n",
    "\n",
    "+ **Imputació de dades faltants**: Si les dades tenen buits o valors faltants, es pot decidir com omplir aquests buits de manera adequada.\n",
    "\n",
    "+ **Exploració de relacions**: Es busquen correlacions i relacions entre les diferents variables de les dades per a identificar connexions i dependencies.\n",
    "\n",
    "+ **Agrupació de dades**: Es divideixen les dades en subconjunts basats en certes característiques per a analitzar-les més detingudament.\n",
    "\n",
    "+ **Transformació de dades**: Es poden aplicar transformacions a les dades per a fer-les més adequades per a anàlisi posterior, com l'estandardització o la normalització.\n",
    "\n",
    "* **Selecció de característiques**: Si es treballa amb un conjunt de dades amb moltes variables, es pot realitzar una selecció de característiques per a reduir la complexitat i millorar l'eficiència de l'anàlisi.\n",
    "\n",
    "Python ofereix una àmplia gamma d'eines i biblioteques per a realitzar l'anàlisi exploratòria de dades (EDA). Algunes de les biblioteques més populars i útils són les següents:\n",
    "\n",
    "+ **NumPy**: NumPy és una biblioteca fonamental per a la computació científica en Python. Proporciona funcionalitats per a treballar amb matrius i vectors, la qual cosa és essencial per a l'anàlisi de dades.\n",
    "\n",
    "+ **Pandas**: Pandas és una biblioteca molt popular per a l'anàlisi de dades que ofereix estructures de dades com DataFrame i Series, que faciliten la manipulació i anàlisi de dades tabulars. Podeu utilitzar Pandas per a carregar, netejar i explorar les dades.\n",
    "\n",
    "+ **Matplotlib**: Matplotlib és una biblioteca per a la visualització de dades que us permet crear una àmplia gamma de gràfics i gràfiques personalitzades. És ideal per a crear histogrames, diagrames de dispersió, gràfics de barres i moltes altres representacions gràfiques.\n",
    "\n",
    "+ **Scipy**: SciPy és una biblioteca que amplia les funcionalitats de NumPy i proporciona eines addicionals per a l'anàlisi científic, inclosos estadístics i mètodes d'optimització.\n",
    "\n",
    "+ **Scikit-learn**: Si esteu interessats en l'aprenentatge automàtic, Scikit-learn és una biblioteca essencial que ofereix eines per a la classificació, regressió, agrupació i altres tasques d'aprenentatge automàtic. També conté eines per a la selecció de característiques.\n",
    "\n",
    "+ **Seaborn**: Seaborn és una biblioteca de visualització de dades basada en Matplotlib que simplifica la creació de gràfics estadístics atractius i informatius. És especialment útil per a la visualització de relacions i tendències en les dades."
   ]
  },
  {
   "cell_type": "markdown",
   "id": "9a858270",
   "metadata": {
    "id": "9a858270"
   },
   "source": [
    "## 0. Objectiu de la pràctica\n",
    "\n",
    "L'**objectiu d'aquesta pràctica** és aprendre com fer una exploració sobre un conjunt de dades real, que al final ens permeti obtenir la resposta a diverses preguntes.\n",
    "\n",
    "En aquesta pràctica explorarem les dades dels trajectes dels **taxis grocs de la ciutat de Nova York** durant varios anys.\n",
    "\n",
    "En finalitzar aquesta pràctica, haureu de ser capaços de respondre la pregunta següent de forma detallada:\n",
    "\n",
    "- **Com va afectar la pandèmia de la Covid l'ús dels taxis a Nova York?**\n",
    "\n",
    "Pere respondre aquesta pregunta tant genèrica, ho descomposarem en preguntes més concretes:\n",
    "\n",
    "- Quina distribució d'encàrrecs segueixen els taxis i quina distància / durada tenen?\n",
    "- Quines són les zones on m'és / menys taxis s'agafen?\n",
    "- Quins horaris són els més usuals?\n",
    "- Quins dies de la setmana i del mes s'utilitzen més?\n",
    "- Etc."
   ]
  },
  {
   "cell_type": "markdown",
   "id": "87c0ff5e",
   "metadata": {
    "id": "87c0ff5e"
   },
   "source": [
    "### Instal·lació i importació de les llibreries necessàries\n",
    "\n",
    "A més a més de les llibreries comentades, farem servir aquests mòduls de Python:\n",
    "\n",
    "+ **PyArrow**: PyArrow és una biblioteca de Python que es fa servir per a l'intercanvi eficient de dades entre Python i altres llenguatges de programació, especialment C++ i Java. Aquesta biblioteca es desenvolupa com a part del projecte Apache Arrow, que és un projecte de codi obert dissenyat per a millorar el rendiment i la interoperabilitat de l'analítica de dades i les tecnologies relacionades. PyArrow permet la creació i la manipulació eficient de dades en forma de taules i columnes. PyArrow ofereix suport per a l'estructura de dades coneguda com a \"Table\", que és similar a una taula o un quadern de dades en altres llenguatges. Aquesta estructura de dades facilita l'organització i la manipulació de dades tabulars.\n",
    "+ **pyshp** és una biblioteca de Python que es fa servir per a llegir i escriure arxius en el format de fitxers de forma (shapefiles). El format de fitxers de forma és un format estàndard en geoinformàtica i geodèsia per a emmagatzemar i intercanviar dades geoespacials, com ara punts, línies i polígons, juntament amb les seves propietats associades.\n",
    "+ **shapely** és una biblioteca de Python que es fa servir per a realitzar operacions geomètriques i anàlisi espacial amb objectes geoespacials. Aquesta biblioteca és especialment útil per a treballar amb geometria plana, com ara punts, línies i polígons, i permet realitzar una àmplia gamma d'operacions, com ara interseccions, unions, àrees, longituds i moltes altres.\n",
    "+ **descartes** és una biblioteca de tercers que es fa servir per a la visualització de gràfics geoespacials."
   ]
  },
  {
   "cell_type": "code",
   "execution_count": 23,
   "id": "3e821ddc",
   "metadata": {
    "tags": [],
    "id": "3e821ddc",
    "ExecuteTime": {
     "end_time": "2023-10-16T17:03:31.466962400Z",
     "start_time": "2023-10-16T17:03:16.941623800Z"
    }
   },
   "outputs": [],
   "source": [
    "%%capture\n",
    "! pip install pyarrow\n",
    "! pip install pyshp==2.1.3\n",
    "! pip install shapely==1.7.1\n",
    "! pip install pandas==1.5.3\n",
    "! pip install numpy==1.22\n",
    "! pip install descartes==1.1.0"
   ]
  },
  {
   "cell_type": "code",
   "execution_count": 24,
   "id": "b3c240c3",
   "metadata": {
    "id": "b3c240c3",
    "ExecuteTime": {
     "end_time": "2023-10-16T17:03:31.482528400Z",
     "start_time": "2023-10-16T17:03:31.466962400Z"
    }
   },
   "outputs": [],
   "source": [
    "import pandas as pd\n",
    "import numpy as np\n",
    "import urllib.request\n",
    "import zipfile\n",
    "import os\n",
    "from tqdm.notebook import tqdm\n",
    "import pyarrow.parquet as pq"
   ]
  },
  {
   "cell_type": "code",
   "execution_count": 25,
   "id": "db7d0666",
   "metadata": {
    "id": "db7d0666",
    "ExecuteTime": {
     "end_time": "2023-10-16T17:03:31.815144800Z",
     "start_time": "2023-10-16T17:03:31.482528400Z"
    }
   },
   "outputs": [
    {
     "ename": "ImportError",
     "evalue": "cannot import name 'DataFrame' from 'pandas' (unknown location)",
     "output_type": "error",
     "traceback": [
      "\u001B[1;31m---------------------------------------------------------------------------\u001B[0m",
      "\u001B[1;31mImportError\u001B[0m                               Traceback (most recent call last)",
      "Cell \u001B[1;32mIn[25], line 4\u001B[0m\n\u001B[0;32m      2\u001B[0m \u001B[38;5;28;01mfrom\u001B[39;00m \u001B[38;5;21;01mshapely\u001B[39;00m\u001B[38;5;21;01m.\u001B[39;00m\u001B[38;5;21;01mgeometry\u001B[39;00m \u001B[38;5;28;01mimport\u001B[39;00m Polygon\n\u001B[0;32m      3\u001B[0m \u001B[38;5;28;01mfrom\u001B[39;00m \u001B[38;5;21;01mdescartes\u001B[39;00m\u001B[38;5;21;01m.\u001B[39;00m\u001B[38;5;21;01mpatch\u001B[39;00m \u001B[38;5;28;01mimport\u001B[39;00m PolygonPatch\n\u001B[1;32m----> 4\u001B[0m \u001B[38;5;28;01mimport\u001B[39;00m \u001B[38;5;21;01mseaborn\u001B[39;00m \u001B[38;5;28;01mas\u001B[39;00m \u001B[38;5;21;01msns\u001B[39;00m\n\u001B[0;32m      5\u001B[0m \u001B[38;5;28;01mimport\u001B[39;00m \u001B[38;5;21;01mmatplotlib\u001B[39;00m \u001B[38;5;28;01mas\u001B[39;00m \u001B[38;5;21;01mmpl\u001B[39;00m\n\u001B[0;32m      6\u001B[0m \u001B[38;5;28;01mimport\u001B[39;00m \u001B[38;5;21;01mmatplotlib\u001B[39;00m\u001B[38;5;21;01m.\u001B[39;00m\u001B[38;5;21;01mpyplot\u001B[39;00m \u001B[38;5;28;01mas\u001B[39;00m \u001B[38;5;21;01mplt\u001B[39;00m\n",
      "File \u001B[1;32m~\\AppData\\Local\\Programs\\Python\\Python39\\lib\\site-packages\\seaborn\\__init__.py:8\u001B[0m\n\u001B[0;32m      6\u001B[0m \u001B[38;5;28;01mfrom\u001B[39;00m \u001B[38;5;21;01m.\u001B[39;00m\u001B[38;5;21;01mregression\u001B[39;00m \u001B[38;5;28;01mimport\u001B[39;00m \u001B[38;5;241m*\u001B[39m  \u001B[38;5;66;03m# noqa: F401,F403\u001B[39;00m\n\u001B[0;32m      7\u001B[0m \u001B[38;5;28;01mfrom\u001B[39;00m \u001B[38;5;21;01m.\u001B[39;00m\u001B[38;5;21;01mcategorical\u001B[39;00m \u001B[38;5;28;01mimport\u001B[39;00m \u001B[38;5;241m*\u001B[39m  \u001B[38;5;66;03m# noqa: F401,F403\u001B[39;00m\n\u001B[1;32m----> 8\u001B[0m \u001B[38;5;28;01mfrom\u001B[39;00m \u001B[38;5;21;01m.\u001B[39;00m\u001B[38;5;21;01mdistributions\u001B[39;00m \u001B[38;5;28;01mimport\u001B[39;00m \u001B[38;5;241m*\u001B[39m  \u001B[38;5;66;03m# noqa: F401,F403\u001B[39;00m\n\u001B[0;32m      9\u001B[0m \u001B[38;5;28;01mfrom\u001B[39;00m \u001B[38;5;21;01m.\u001B[39;00m\u001B[38;5;21;01mmatrix\u001B[39;00m \u001B[38;5;28;01mimport\u001B[39;00m \u001B[38;5;241m*\u001B[39m  \u001B[38;5;66;03m# noqa: F401,F403\u001B[39;00m\n\u001B[0;32m     10\u001B[0m \u001B[38;5;28;01mfrom\u001B[39;00m \u001B[38;5;21;01m.\u001B[39;00m\u001B[38;5;21;01mmiscplot\u001B[39;00m \u001B[38;5;28;01mimport\u001B[39;00m \u001B[38;5;241m*\u001B[39m  \u001B[38;5;66;03m# noqa: F401,F403\u001B[39;00m\n",
      "File \u001B[1;32m~\\AppData\\Local\\Programs\\Python\\Python39\\lib\\site-packages\\seaborn\\distributions.py:23\u001B[0m\n\u001B[0;32m     20\u001B[0m \u001B[38;5;66;03m# We have moved univariate histogram computation over to the new Hist class,\u001B[39;00m\n\u001B[0;32m     21\u001B[0m \u001B[38;5;66;03m# but still use the older Histogram for bivariate computation.\u001B[39;00m\n\u001B[0;32m     22\u001B[0m \u001B[38;5;28;01mfrom\u001B[39;00m \u001B[38;5;21;01m.\u001B[39;00m\u001B[38;5;21;01m_statistics\u001B[39;00m \u001B[38;5;28;01mimport\u001B[39;00m ECDF, Histogram, KDE\n\u001B[1;32m---> 23\u001B[0m \u001B[38;5;28;01mfrom\u001B[39;00m \u001B[38;5;21;01m.\u001B[39;00m\u001B[38;5;21;01m_stats\u001B[39;00m\u001B[38;5;21;01m.\u001B[39;00m\u001B[38;5;21;01mcounting\u001B[39;00m \u001B[38;5;28;01mimport\u001B[39;00m Hist\n\u001B[0;32m     25\u001B[0m \u001B[38;5;28;01mfrom\u001B[39;00m \u001B[38;5;21;01m.\u001B[39;00m\u001B[38;5;21;01maxisgrid\u001B[39;00m \u001B[38;5;28;01mimport\u001B[39;00m (\n\u001B[0;32m     26\u001B[0m     FacetGrid,\n\u001B[0;32m     27\u001B[0m     _facet_docs,\n\u001B[0;32m     28\u001B[0m )\n\u001B[0;32m     29\u001B[0m \u001B[38;5;28;01mfrom\u001B[39;00m \u001B[38;5;21;01m.\u001B[39;00m\u001B[38;5;21;01mutils\u001B[39;00m \u001B[38;5;28;01mimport\u001B[39;00m (\n\u001B[0;32m     30\u001B[0m     remove_na,\n\u001B[0;32m     31\u001B[0m     _kde_support,\n\u001B[1;32m   (...)\u001B[0m\n\u001B[0;32m     35\u001B[0m     _default_color,\n\u001B[0;32m     36\u001B[0m )\n",
      "File \u001B[1;32m~\\AppData\\Local\\Programs\\Python\\Python39\\lib\\site-packages\\seaborn\\_stats\\counting.py:7\u001B[0m\n\u001B[0;32m      5\u001B[0m \u001B[38;5;28;01mimport\u001B[39;00m \u001B[38;5;21;01mnumpy\u001B[39;00m \u001B[38;5;28;01mas\u001B[39;00m \u001B[38;5;21;01mnp\u001B[39;00m\n\u001B[0;32m      6\u001B[0m \u001B[38;5;28;01mimport\u001B[39;00m \u001B[38;5;21;01mpandas\u001B[39;00m \u001B[38;5;28;01mas\u001B[39;00m \u001B[38;5;21;01mpd\u001B[39;00m\n\u001B[1;32m----> 7\u001B[0m \u001B[38;5;28;01mfrom\u001B[39;00m \u001B[38;5;21;01mpandas\u001B[39;00m \u001B[38;5;28;01mimport\u001B[39;00m DataFrame\n\u001B[0;32m      9\u001B[0m \u001B[38;5;28;01mfrom\u001B[39;00m \u001B[38;5;21;01mseaborn\u001B[39;00m\u001B[38;5;21;01m.\u001B[39;00m\u001B[38;5;21;01m_core\u001B[39;00m\u001B[38;5;21;01m.\u001B[39;00m\u001B[38;5;21;01mgroupby\u001B[39;00m \u001B[38;5;28;01mimport\u001B[39;00m GroupBy\n\u001B[0;32m     10\u001B[0m \u001B[38;5;28;01mfrom\u001B[39;00m \u001B[38;5;21;01mseaborn\u001B[39;00m\u001B[38;5;21;01m.\u001B[39;00m\u001B[38;5;21;01m_core\u001B[39;00m\u001B[38;5;21;01m.\u001B[39;00m\u001B[38;5;21;01mscales\u001B[39;00m \u001B[38;5;28;01mimport\u001B[39;00m Scale\n",
      "\u001B[1;31mImportError\u001B[0m: cannot import name 'DataFrame' from 'pandas' (unknown location)"
     ]
    }
   ],
   "source": [
    "import shapefile\n",
    "from shapely.geometry import Polygon\n",
    "from descartes.patch import PolygonPatch\n",
    "import seaborn as sns\n",
    "import matplotlib as mpl\n",
    "import matplotlib.pyplot as plt\n",
    "%matplotlib inline"
   ]
  },
  {
   "cell_type": "markdown",
   "id": "c94ba024-ca0c-47fd-90a6-7dacfbe41ab6",
   "metadata": {
    "id": "c94ba024-ca0c-47fd-90a6-7dacfbe41ab6"
   },
   "source": [
    "## 1. Descàrrega de dades"
   ]
  },
  {
   "cell_type": "code",
   "execution_count": 8,
   "id": "02458c74",
   "metadata": {
    "id": "02458c74",
    "ExecuteTime": {
     "end_time": "2023-10-16T16:42:15.758349700Z",
     "start_time": "2023-10-16T16:42:15.730051600Z"
    }
   },
   "outputs": [],
   "source": [
    "# Variables globals: els anys que estudiarem\n",
    "YEARS = [2019, 2020, 2021]"
   ]
  },
  {
   "cell_type": "code",
   "execution_count": 9,
   "id": "c6f194ca",
   "metadata": {
    "tags": [],
    "colab": {
     "base_uri": "https://localhost:8080/",
     "height": 145,
     "referenced_widgets": [
      "48f32a06ae414f5781f73c2441e77be5",
      "f604f0e3f4a248b7a7f534113fff22c4",
      "0f996a81ab8d4d7d84594947993adee0",
      "3402a8da0d6c4f56aba5200fb13f4b2c",
      "1b015583cfd8450390ec4ec520505fad",
      "55379b7f2ec9420d91e74c1b28c44cc7",
      "f72179f234244a13a3de343c6872b3d7",
      "26508e58940940cba58eed1c557595a4",
      "eaaf9dae8aee46248174488155442bb9",
      "483e89ea44024078be6e85e1cd64e285",
      "0f6bfbb427024d5f8023b8137d32a97e",
      "8330d8a4904a430f93d01f87c2487914",
      "768e76ed564545d48a06e97f8e59b20a",
      "6aef5e149e8b471f8ba4399b378dd456",
      "6f5d27badb2b4dd98cecd145a265d2aa",
      "b0518733ceed4e6789c61e4e579d20ff",
      "ec756514f4fe4870bc20081683e26a2a",
      "5c88cda958af4e868bb2940345530937",
      "14134edbeb934816840ed0601fa158e9",
      "9384e885f6b34974981e93212c846cfa",
      "ea09f00377f541a9a87fad0c8e98dc2d",
      "8b0ddb6284ef4642b787289a6d9667e4",
      "0468416afa644fcd85471519fa2c4004",
      "6993fec403f545128050acd6ec57d666",
      "76ca09c7ede64585972e76cb0074b900",
      "7f25d607924e42d38b1b834305e83179",
      "b00a9236901b44f8adf5d30fa3f64c18",
      "a6d9b22790634be992ece2063fecfd72",
      "7bbae46927aa4af09dd2a7063b3c4c52",
      "f684316a9e174889bb0b58eadd5f2cdd",
      "8d46ee370c8e4405803b7855333f7950",
      "71f663a40bb341879fce62433e6aae68",
      "690e0ea154114e85b7fdc43d44c1ff49",
      "1f48b0c731c8491b847ec2a7804b414b",
      "403796b6f185498090139bfa49413e6f",
      "65645798fe6a4b66b0ca4172285e6ff4",
      "1a5f42613fa94602b4de50d6bc6f7366",
      "36567adb394e4528aa2eeb0d7913d1b1",
      "39639b521d294672b14f7a800e6c2f53",
      "ec708be781cb42ccb6c3448bcf16b0a9",
      "476fa713dd2e42d88f491d59ad78b485",
      "3e7b069d2c25436490c9fb48eaaf9d89",
      "9d3f2a548f00435d9fd9ca43aa90112c",
      "b16f69420ff9444cb815c3142eb48275"
     ]
    },
    "id": "c6f194ca",
    "outputId": "e280c58c-4f46-4020-fdf3-8571f322c54c",
    "ExecuteTime": {
     "end_time": "2023-10-16T16:42:16.498659100Z",
     "start_time": "2023-10-16T16:42:16.419940600Z"
    }
   },
   "outputs": [
    {
     "data": {
      "text/plain": "  0%|          | 0/3 [00:00<?, ?it/s]",
      "application/vnd.jupyter.widget-view+json": {
       "version_major": 2,
       "version_minor": 0,
       "model_id": "0ea5c23bc6154b6abe3b95ced9f78203"
      }
     },
     "metadata": {},
     "output_type": "display_data"
    }
   ],
   "source": [
    "# Descàrrega de les dades: Trip Record Data\n",
    "# https://www1.nyc.gov/site/tlc/about/tlc-trip-record-data.page\n",
    "\n",
    "for year in tqdm(YEARS):\n",
    "    if not os.path.exists(f'data/{year}'):\n",
    "        os.makedirs(f'data/{year}', exist_ok=True)\n",
    "        for month in tqdm(range(1, 13)):\n",
    "            urllib.request.urlretrieve(f'https://d37ci6vzurychx.cloudfront.net/trip-data/yellow_tripdata_{year}-{month:02d}.parquet', f'data/{year}/{month:02d}.parquet')"
   ]
  },
  {
   "cell_type": "markdown",
   "id": "20c3c6d0",
   "metadata": {
    "id": "20c3c6d0"
   },
   "source": [
    "## 2. Neteja de dades\n",
    "\n",
    "Per tal de tenir unes dades netes i útils, eliminarem totes aquells trajectes (files del conjunt de dades)  que continguin informació *corrupte*. Per exemple, com a mínim cal verificar que no es dóna cap d'aquests casos:\n",
    "\n",
    "- Presència de *missing data* (camps/columnes de les dades sense valor).\n",
    "- L'hora de recollida és posterior a la finalització del trajecte.\n",
    "- Les dades s'importen per mes i any. Són coherents els valors que contenen les dades?\n",
    "- Hi ha viatges amb un nombre absurd de passatgers?\n",
    "- Hi ha viatges massa llargs o massa curts?\n",
    "- Hi ha pagaments negatius?\n",
    "- Etc.\n",
    "\n",
    "A més a més, podem considerar aspectes concrets d'aquestes dades:\n",
    "\n",
    "+ Hi pot haver viatges impossibles segons la normativa:\n",
    "    + [Més viatgers que els permesos](https://www1.nyc.gov/site/tlc/passengers/passenger-frequently-asked-questions.page) o [velocitats il·legals](https://www.speed-limits.com/newyork).\n",
    "    + [Limit de persones permeses a un yellow taxicab](https://drive.google.com/file/d/1eiV7wdm7WrkRlM9bmekCRM6GY3Yq6GI2/view?usp=sharing)"
   ]
  },
  {
   "cell_type": "markdown",
   "id": "31df86a1",
   "metadata": {
    "id": "31df86a1"
   },
   "source": [
    "De totes les columnes que tenen les dades, només cal fer servir les següents per contestar les preguntes:\n",
    "\n",
    "- *tpep_pickup_datetime*: The date and time when the meter was engaged.\n",
    "- *tpep_dropoff_datetime*: The date and time when the meter was disengaged.\n",
    "- *Passenger_count*: The number of passengers in the vehicle.\n",
    "- *Trip_distance*: The elapsed trip distance in miles reported by the taximeter.\n",
    "- *PULocationID*: TLC Taxi Zone in which the taximeter was engaged\n",
    "- *DOLocationID*: TLC Taxi Zone in which the taximeter was disengaged\n",
    "- *Payment_type*: A numeric code signifying how the passenger paid for the trip.\n",
    "    - 1= Credit card\n",
    "    - 2= Cash\n",
    "    - 3= No charge\n",
    "    - 4= Dispute\n",
    "    - 5= Unknown\n",
    "    - 6= Voided trip\n",
    "- *Fare_amount*: The time-and-distance fare calculated by the meter.\n",
    "- *Total_amount*: The total amount charged to passengers."
   ]
  },
  {
   "cell_type": "code",
   "execution_count": 26,
   "id": "98a17743",
   "metadata": {
    "colab": {
     "base_uri": "https://localhost:8080/"
    },
    "id": "98a17743",
    "outputId": "5542066b-c6c1-45f5-dae9-8ba5eaa5538c",
    "ExecuteTime": {
     "end_time": "2023-10-16T17:04:15.355720600Z",
     "start_time": "2023-10-16T17:04:14.531985600Z"
    }
   },
   "outputs": [
    {
     "ename": "ModuleNotFoundError",
     "evalue": "No module named 'pandas.core.internals'",
     "output_type": "error",
     "traceback": [
      "\u001B[1;31m---------------------------------------------------------------------------\u001B[0m",
      "\u001B[1;31mModuleNotFoundError\u001B[0m                       Traceback (most recent call last)",
      "Cell \u001B[1;32mIn[26], line 22\u001B[0m\n\u001B[0;32m     19\u001B[0m     \u001B[38;5;28;01mreturn\u001B[39;00m data[required_data][::sampling]\n\u001B[0;32m     21\u001B[0m \u001B[38;5;66;03m# explorem una mica les dades\u001B[39;00m\n\u001B[1;32m---> 22\u001B[0m test \u001B[38;5;241m=\u001B[39m \u001B[43mload_table\u001B[49m\u001B[43m(\u001B[49m\u001B[38;5;241;43m2019\u001B[39;49m\u001B[43m,\u001B[49m\u001B[43m \u001B[49m\u001B[38;5;241;43m1\u001B[39;49m\u001B[43m)\u001B[49m\n\u001B[0;32m     23\u001B[0m test\u001B[38;5;241m.\u001B[39mshape\n",
      "Cell \u001B[1;32mIn[26], line 9\u001B[0m, in \u001B[0;36mload_table\u001B[1;34m(year, month, sampling)\u001B[0m\n\u001B[0;32m      5\u001B[0m \u001B[38;5;28;01mdef\u001B[39;00m \u001B[38;5;21mload_table\u001B[39m(year, month, sampling \u001B[38;5;241m=\u001B[39m \u001B[38;5;241m1000\u001B[39m):\n\u001B[0;32m      6\u001B[0m \u001B[38;5;250m    \u001B[39m\u001B[38;5;124;03m\"\"\"\u001B[39;00m\n\u001B[0;32m      7\u001B[0m \u001B[38;5;124;03m    Funció que llegeix les dades descarregades i les converteix a un DataFrame\u001B[39;00m\n\u001B[0;32m      8\u001B[0m \u001B[38;5;124;03m    \"\"\"\u001B[39;00m\n\u001B[1;32m----> 9\u001B[0m     data \u001B[38;5;241m=\u001B[39m \u001B[43mpq\u001B[49m\u001B[38;5;241;43m.\u001B[39;49m\u001B[43mread_table\u001B[49m\u001B[43m(\u001B[49m\u001B[38;5;124;43mf\u001B[39;49m\u001B[38;5;124;43m'\u001B[39;49m\u001B[38;5;124;43mdata/\u001B[39;49m\u001B[38;5;132;43;01m{\u001B[39;49;00m\u001B[43myear\u001B[49m\u001B[38;5;132;43;01m}\u001B[39;49;00m\u001B[38;5;124;43m/\u001B[39;49m\u001B[38;5;132;43;01m{\u001B[39;49;00m\u001B[38;5;28;43mstr\u001B[39;49m\u001B[43m(\u001B[49m\u001B[43mmonth\u001B[49m\u001B[43m)\u001B[49m\u001B[38;5;241;43m.\u001B[39;49m\u001B[43mzfill\u001B[49m\u001B[43m(\u001B[49m\u001B[38;5;241;43m2\u001B[39;49m\u001B[43m)\u001B[49m\u001B[38;5;132;43;01m}\u001B[39;49;00m\u001B[38;5;124;43m.parquet\u001B[39;49m\u001B[38;5;124;43m'\u001B[39;49m\u001B[43m)\u001B[49m\u001B[38;5;241;43m.\u001B[39;49m\u001B[43mto_pandas\u001B[49m\u001B[43m(\u001B[49m\u001B[43m)\u001B[49m\n\u001B[0;32m     10\u001B[0m     required_data \u001B[38;5;241m=\u001B[39m [\u001B[38;5;124m'\u001B[39m\u001B[38;5;124mtpep_pickup_datetime\u001B[39m\u001B[38;5;124m'\u001B[39m,\n\u001B[0;32m     11\u001B[0m                  \u001B[38;5;124m'\u001B[39m\u001B[38;5;124mtpep_dropoff_datetime\u001B[39m\u001B[38;5;124m'\u001B[39m,\n\u001B[0;32m     12\u001B[0m                  \u001B[38;5;124m'\u001B[39m\u001B[38;5;124mpassenger_count\u001B[39m\u001B[38;5;124m'\u001B[39m,\n\u001B[1;32m   (...)\u001B[0m\n\u001B[0;32m     17\u001B[0m                  \u001B[38;5;124m'\u001B[39m\u001B[38;5;124mfare_amount\u001B[39m\u001B[38;5;124m'\u001B[39m,\n\u001B[0;32m     18\u001B[0m                  \u001B[38;5;124m'\u001B[39m\u001B[38;5;124mtotal_amount\u001B[39m\u001B[38;5;124m'\u001B[39m]\n\u001B[0;32m     19\u001B[0m     \u001B[38;5;28;01mreturn\u001B[39;00m data[required_data][::sampling]\n",
      "File \u001B[1;32m~\\AppData\\Local\\Programs\\Python\\Python39\\lib\\site-packages\\pyarrow\\array.pxi:867\u001B[0m, in \u001B[0;36mpyarrow.lib._PandasConvertible.to_pandas\u001B[1;34m()\u001B[0m\n",
      "File \u001B[1;32m~\\AppData\\Local\\Programs\\Python\\Python39\\lib\\site-packages\\pyarrow\\table.pxi:4085\u001B[0m, in \u001B[0;36mpyarrow.lib.Table._to_pandas\u001B[1;34m()\u001B[0m\n",
      "File \u001B[1;32m~\\AppData\\Local\\Programs\\Python\\Python39\\lib\\site-packages\\pyarrow\\pandas_compat.py:751\u001B[0m, in \u001B[0;36mtable_to_blockmanager\u001B[1;34m(options, table, categories, ignore_metadata, types_mapper)\u001B[0m\n\u001B[0;32m    749\u001B[0m \u001B[38;5;28;01mdef\u001B[39;00m \u001B[38;5;21mtable_to_blockmanager\u001B[39m(options, table, categories\u001B[38;5;241m=\u001B[39m\u001B[38;5;28;01mNone\u001B[39;00m,\n\u001B[0;32m    750\u001B[0m                           ignore_metadata\u001B[38;5;241m=\u001B[39m\u001B[38;5;28;01mFalse\u001B[39;00m, types_mapper\u001B[38;5;241m=\u001B[39m\u001B[38;5;28;01mNone\u001B[39;00m):\n\u001B[1;32m--> 751\u001B[0m     \u001B[38;5;28;01mfrom\u001B[39;00m \u001B[38;5;21;01mpandas\u001B[39;00m\u001B[38;5;21;01m.\u001B[39;00m\u001B[38;5;21;01mcore\u001B[39;00m\u001B[38;5;21;01m.\u001B[39;00m\u001B[38;5;21;01minternals\u001B[39;00m \u001B[38;5;28;01mimport\u001B[39;00m BlockManager\n\u001B[0;32m    753\u001B[0m     all_columns \u001B[38;5;241m=\u001B[39m []\n\u001B[0;32m    754\u001B[0m     column_indexes \u001B[38;5;241m=\u001B[39m []\n",
      "\u001B[1;31mModuleNotFoundError\u001B[0m: No module named 'pandas.core.internals'"
     ]
    }
   ],
   "source": [
    "# carreguem les dades a un dataframe de pandas\n",
    "# Per agilitzar els càlculs i reduir el temps de càlcul durant el desenvolupament,\n",
    "# podeu treballarem amb una mostra uniforme de les dades (1 fila de cada 1000).\n",
    "\n",
    "def load_table(year, month, sampling = 1000):\n",
    "    \"\"\"\n",
    "    Funció que llegeix les dades descarregades i les converteix a un DataFrame\n",
    "    \"\"\"\n",
    "    data = pq.read_table(f'data/{year}/{str(month).zfill(2)}.parquet').to_pandas()\n",
    "    required_data = ['tpep_pickup_datetime',\n",
    "                 'tpep_dropoff_datetime',\n",
    "                 'passenger_count',\n",
    "                 'trip_distance',\n",
    "                 'PULocationID',\n",
    "                 'DOLocationID',\n",
    "                 'payment_type',\n",
    "                 'fare_amount',\n",
    "                 'total_amount']\n",
    "    return data[required_data][::sampling]\n",
    "\n",
    "# explorem una mica les dades\n",
    "test = load_table(2019, 1)\n",
    "test.shape"
   ]
  },
  {
   "cell_type": "code",
   "execution_count": null,
   "id": "141c1aec-cd63-4657-a37a-39cac5cfa945",
   "metadata": {
    "colab": {
     "base_uri": "https://localhost:8080/",
     "height": 676
    },
    "id": "141c1aec-cd63-4657-a37a-39cac5cfa945",
    "outputId": "33b11e9b-dbd5-4f22-f5cf-a01983e83b41"
   },
   "outputs": [],
   "source": [
    "test.tail(20)"
   ]
  },
  {
   "cell_type": "markdown",
   "id": "99b367ec",
   "metadata": {
    "id": "99b367ec"
   },
   "source": [
    "###  Exercici A\n",
    "\n",
    "+ Un cop llegides les dades a una taula de Pandas, implementa una funció que faci el procés de neteja que consideris necessari. Per determinar què és necessari, explora els valors que apareixen a cada columna del dataframe de Pandas i decideix què cal fer.\n",
    "\n",
    "> *Nota: Les columnes `Datatime` són un subtipus de dades de Pandas anomenades `datetime`.  Busca com tractar de forma eficient aquest tipus de dades en Pandas.*"
   ]
  },
  {
   "cell_type": "code",
   "execution_count": null,
   "id": "1e521108",
   "metadata": {
    "tags": [],
    "id": "1e521108"
   },
   "outputs": [],
   "source": [
    "def clean_data(data, year, month):\n",
    " # Eliminar files amb missing data\n",
    "    data.dropna(inplace=True)\n",
    "\n",
    "    # Filtrar les files on l'hora de recollida és anterior a la finalització del trajecte\n",
    "    data = data[data['tpep_pickup_datetime'] < data['tpep_dropoff_datetime']]\n",
    "\n",
    "    # Filtrar les dades segons l'any i el mes especificats\n",
    "    data = data[(data['tpep_pickup_datetime'].dt.year == year) &\n",
    "                (data['tpep_pickup_datetime'].dt.month == month)]\n",
    "\n",
    "    # Filtrar viatges amb un nombre raonable de passatgers (segons normativa -> màxim 5 passatgers en Taxis especials i més de 0)\n",
    "    data = data[data['passenger_count'] < 6]\n",
    "\n",
    "    data = data[data['passenger_count'] > 0]\n",
    "\n",
    "    # Filtrar viatges amb distàncies raonables\n",
    "    data = data[(data['trip_distance'] >= 0.1) & (data['trip_distance'] <= 100)]\n",
    "\n",
    "    # Filtrar pagaments positius\n",
    "    data = data[data['fare_amount'] >= 0]\n",
    "    data = data[data['total_amount'] >= 0]\n",
    "\n",
    "    # Evitar errors al exercici 6, ja que hi han 263 localitzacion i havia per exemple la 264 sense latitut ni longitut\n",
    "    data = data[data['PULocationID'] <= 263]\n",
    "    data = data[data['DOLocationID'] <= 263]\n",
    "\n",
    "    return data\n",
    "\n",
    "cleaned_data = clean_data(test, 2019, 1)"
   ]
  },
  {
   "cell_type": "code",
   "execution_count": null,
   "id": "92bf0adf-163a-43d1-8bce-f46b05a7eba1",
   "metadata": {
    "colab": {
     "base_uri": "https://localhost:8080/",
     "height": 363
    },
    "id": "92bf0adf-163a-43d1-8bce-f46b05a7eba1",
    "outputId": "a0e41d35-a137-47b5-a299-6f3fb1fce4e8"
   },
   "outputs": [],
   "source": [
    "cleaned_data.tail(10)"
   ]
  },
  {
   "cell_type": "markdown",
   "id": "181105ce",
   "metadata": {
    "id": "181105ce"
   },
   "source": [
    "###  Exercici B\n",
    "\n",
    "+ Escriu una funció que transformi la taula original a una nova taula, més adequada per tal de dur a terme l'exploració necessària. Podeu afegir columnes addicionals, precalcular valors, etc.\n",
    "\n",
    "> Per exemple, podem trasnformar les dades per treballar amb les unitats de kilòmetres i hores per a representar les durades, distàncies i velocitats del trajecte. El motiu és, per una banda, que estem familiaritzades amb el Sistema Internacional d'Unitats (d'aquí el canvi de milles a km). I per altra, optar pels km i no pels metres degut a l'ordre de magnitud de les dades."
   ]
  },
  {
   "cell_type": "code",
   "execution_count": null,
   "id": "4876b59c",
   "metadata": {
    "tags": [],
    "id": "4876b59c"
   },
   "outputs": [],
   "source": [
    "def post_processing(data):\n",
    "    \"\"\"\n",
    "    Funció on implementar qualsevol tipus de postprocessament necessari.\n",
    "    \"\"\"\n",
    "    # Convertir la distància de milles a quilòmetres (1 milla = 1.60934 km)\n",
    "    # sobreescrivim\n",
    "    data['trip_distance'] = data['trip_distance'] * 1.60934\n",
    "\n",
    "    # Calcular la durada del trajecte en hores\n",
    "    data['trip_duration'] = (data['tpep_dropoff_datetime'] - data['tpep_pickup_datetime']).dt.total_seconds() / 3600\n",
    "\n",
    "    # Calcular la velocitat mitjana (km/h)\n",
    "    data['speed'] = data['trip_distance'] / data['trip_duration']\n",
    "\n",
    "    #No velocitats negatives ni aturat\n",
    "    data = data[data['speed'] > 0]\n",
    "\n",
    "    #No velocitats majors a 55 mph = 55 * 1.60934 = 88.5137 kph\n",
    "    data = data[data['speed'] < 88.5137]\n",
    "\n",
    "    # Evitar errors al exercici 6, ja que hi han 263 localitzacion i havia per exemple la 264 sense latitut ni longitut\n",
    "    data = data[data['PULocationID'] <= 263]\n",
    "    data = data[data['DOLocationID'] <= 263]\n",
    "\n",
    "    return data\n",
    "\n",
    "post_process = post_processing(cleaned_data)"
   ]
  },
  {
   "cell_type": "code",
   "execution_count": null,
   "id": "a1cb68cf-e0b0-48df-97d9-50e889c80646",
   "metadata": {
    "colab": {
     "base_uri": "https://localhost:8080/",
     "height": 226
    },
    "id": "a1cb68cf-e0b0-48df-97d9-50e889c80646",
    "outputId": "c5e677fb-a12e-4946-99f5-cd56b7c5cd16"
   },
   "outputs": [],
   "source": [
    "post_process.tail()"
   ]
  },
  {
   "cell_type": "markdown",
   "id": "2ab042d7",
   "metadata": {
    "id": "2ab042d7"
   },
   "source": [
    "Amb això podem crear un nou dataset (una única taula) que contingui tota la informació dels anys: 2019, 2020, 2021."
   ]
  },
  {
   "cell_type": "code",
   "execution_count": null,
   "id": "3e32168d",
   "metadata": {
    "tags": [],
    "colab": {
     "base_uri": "https://localhost:8080/",
     "height": 66,
     "referenced_widgets": [
      "8650df8b029640e7ac08e303f15b5b40",
      "42ea8cd690d444f5848cb5601d70dccf",
      "2fc37a30813349658796a2d5fb2b186a",
      "c21f1b7521af443897877405cef5831c",
      "3b6e94b7d7a44fc1a835d11b869433df",
      "27967907d6314f289d7990ce22c094a0",
      "abea23fd48e74bb3ba432f3290e50353",
      "b5228581fa5f43329405302ef77d5247",
      "b844645bb17449648012176f1594d30b",
      "2498cb51c5f84753907b9d16d5a06dee",
      "1595b1217d6a47c28ab9b63d7d8ac9c3",
      "79b775c058534b619dcf80f8db55401d",
      "a55cb58ba83d46f4a4a15c37313a8e98",
      "a6e20a30a13348e1875c83954aa4c177",
      "8c72a71300584a94a2a7e7fd24cb3ec1",
      "8630b412937841f39359fd01d85894e3",
      "26e7d7b2bba141ee8490e315104aab65",
      "20c769ac9ca6490caf2529668dc1bc82",
      "6b53e8f273544416a5762c4de9bc8dd9",
      "10b154d98e98482f8799a7f2087a7989",
      "3b8c5366f1a544f98d0dde89c4c9c162",
      "16c5baf9ca644015bedf52c9140d14cb",
      "6eb6904f893d45c1a63fe5c9f38a7bd4",
      "b2029e1a6513444ebf4ed24cd903e6a6",
      "0ea81109be044f209a483f99f0cd9b32",
      "cdba8b1ef66c4bd39d85b90e7bf70805",
      "faedb3eb0b684d4daaffed60e399a91b",
      "186b12b069fa4061bace7b5a05872712",
      "b32b834ae1a2402cae39aceb6f3698fe",
      "1ae5d18b75354c80a44065ed61c311b0",
      "85e8453402bb4fc0b80703faf0148583",
      "e0cf11c5af29436e94d0699894ce189c",
      "b8c45810a920428aa59672b7624c34cf",
      "e1ded8368e474749b76adca878f2c9f6",
      "e4670080a3a04deda08b94324365ff4a",
      "586427d5f10947679bce9c1b0345b68a",
      "682be302d2d549e086706f1f959d5553",
      "11cb31fe9847468b87d930606f56162e",
      "550b34d3020c404a9c2c53e816397765",
      "bfb8454520324df3b9ce04811675e0a9",
      "73533fd87bd6419fb4621d7de6b71e93",
      "c0380f19b5ac4dd2825f01d05184de37",
      "a3600f296fd9403f9286c5db7c150de7",
      "5bf020dc09a7453b822d978e0ceecafa"
     ]
    },
    "id": "3e32168d",
    "outputId": "b2be2afe-9347-4a87-86eb-ec86de670967"
   },
   "outputs": [],
   "source": [
    "df = pd.concat([clean_data(load_table(year, month), year, month)\n",
    "                for year in tqdm(YEARS)\n",
    "                for month in tqdm(range(1, 13), leave = False)])\n",
    "df = post_processing(df)\n",
    "df.shape"
   ]
  },
  {
   "cell_type": "code",
   "execution_count": null,
   "id": "3dc0a510",
   "metadata": {
    "id": "3dc0a510",
    "outputId": "f0fa1780-29d6-4086-d813-5ba49894b469",
    "colab": {
     "base_uri": "https://localhost:8080/",
     "height": 226
    }
   },
   "outputs": [],
   "source": [
    "df.head()"
   ]
  },
  {
   "cell_type": "markdown",
   "id": "50fa46a1",
   "metadata": {
    "id": "50fa46a1"
   },
   "source": [
    "## 3. Visualització de dades anuals"
   ]
  },
  {
   "cell_type": "markdown",
   "id": "d33507a6",
   "metadata": {
    "id": "d33507a6"
   },
   "source": [
    "Començarem per obtenir una resposta quantitativa a la pregunta **S'ha incrementat o ha disminuït amb la covid la quantitat de viatges anuals fets amb taxis?**, n'hi ha prou amb crear una figura de barres on es visualitzin la quantitat de viatges per any.\n",
    "\n",
    "### Exercici C\n",
    "\n",
    "+ Escriu una funció basada en `matplotlib` que generi aquesta gràfica."
   ]
  },
  {
   "cell_type": "code",
   "execution_count": null,
   "id": "2d1b8b94",
   "metadata": {
    "id": "2d1b8b94"
   },
   "outputs": [],
   "source": [
    "def bar_plot(df, column, xlabel, ylabel, title):\n",
    "    \"\"\"\n",
    "    Funció que crea una figura de barres a partir del dataframe i\n",
    "    la columna que conté la informació\n",
    "    \"\"\"\n",
    "    # CREEM una copia per aixi no crear noves columnes\n",
    "    df_copy = df.copy()\n",
    "\n",
    "    # Afegim les columnes any i mes per aixi buscar l'any\n",
    "    df_copy['year'] = df_copy[column].dt.year\n",
    "    df_copy['month'] = df_copy[column].dt.month\n",
    "\n",
    "\n",
    "    if 'year' in df_copy.columns:\n",
    "        year_unique = df_copy['year'].unique()\n",
    "        #En cas que no demanem un any, es a dir, tot el conjunt, realitzarem el grafic per mesos.\n",
    "        if len(year_unique) == 1:\n",
    "            year = year_unique[0]\n",
    "            df_filtered = df_copy[df_copy['year'] == year]\n",
    "            data_grouped = df_filtered.groupby('month').size()\n",
    "\n",
    "            # GRAFIC PER MESOS:\n",
    "            plt.figure(figsize=(10, 6))\n",
    "            data_grouped.plot(kind='bar', color='blue', alpha=0.7)\n",
    "            plt.xlabel('Mes')\n",
    "            plt.ylabel('Quantitat de Viatges')\n",
    "            plt.title(f'Quantitat de viatges per mes ({year})')\n",
    "            plt.xticks(rotation=0)\n",
    "            plt.tight_layout()\n",
    "            plt.show()\n",
    "            return\n",
    "\n",
    "    # En cas contrari, farem el sumatori per anys\n",
    "    data_grouped = df_copy.groupby('year').size()\n",
    "\n",
    "    # GRAFIC PER ANYS:\n",
    "    plt.figure(figsize=(10, 6))\n",
    "    data_grouped.plot(kind='bar', color='blue', alpha=0.7)\n",
    "    plt.xlabel(xlabel)\n",
    "    plt.ylabel(ylabel)\n",
    "    plt.title(title)\n",
    "    plt.xticks(rotation=45)\n",
    "    plt.tight_layout()\n",
    "    plt.show()\n",
    "    #Eliminem la copia\n",
    "    del df_copy"
   ]
  },
  {
   "cell_type": "markdown",
   "id": "38ceb808-7b29-44a4-8d06-f0191310b3a0",
   "metadata": {
    "id": "38ceb808-7b29-44a4-8d06-f0191310b3a0"
   },
   "source": [
    "+ Visualitza el nombre de viatges de cada any."
   ]
  },
  {
   "cell_type": "code",
   "execution_count": null,
   "id": "7a1d656d",
   "metadata": {
    "tags": [],
    "id": "7a1d656d",
    "outputId": "f1417698-ebc0-4951-f716-d2270810309c",
    "colab": {
     "base_uri": "https://localhost:8080/",
     "height": 607
    }
   },
   "outputs": [],
   "source": [
    "# Llama a la función bar_plot con los datos filtrados\n",
    "bar_plot(\n",
    "    df=df,\n",
    "    column='tpep_pickup_datetime',\n",
    "    xlabel='Any',\n",
    "    ylabel='Quantitat de Viatjes',\n",
    "    title='Quantitat de Viatjes Anuals'\n",
    ")"
   ]
  },
  {
   "cell_type": "markdown",
   "id": "b99c9da0-af61-4f67-8d84-b00b1cdb2a36",
   "metadata": {
    "id": "b99c9da0-af61-4f67-8d84-b00b1cdb2a36"
   },
   "source": [
    "+ Visualitza ara en tres gràfiques, el nombre de viatges per mesos de cada any, fent servir la funció anterior."
   ]
  },
  {
   "cell_type": "code",
   "execution_count": null,
   "id": "e7be6355",
   "metadata": {
    "id": "e7be6355",
    "outputId": "5db1bdf1-d6b4-4914-a857-5895946f4ca2",
    "colab": {
     "base_uri": "https://localhost:8080/",
     "height": 1000
    }
   },
   "outputs": [],
   "source": [
    "bar_plot(\n",
    "    df=df[df['tpep_pickup_datetime'].dt.year == 2019],\n",
    "    column='tpep_pickup_datetime',\n",
    "    xlabel='Mes',\n",
    "    ylabel='Quantitat de Viatges',\n",
    "    title='Quantitat de Viatges per Mes (2019)'\n",
    ")\n",
    "\n",
    "bar_plot(\n",
    "    df=df[df['tpep_pickup_datetime'].dt.year == 2020],\n",
    "    column='tpep_pickup_datetime',\n",
    "    xlabel='Mes',\n",
    "    ylabel='Quantitat de Viatges',\n",
    "    title='Quantitat de Viatges per Mes (2019)'\n",
    ")\n",
    "\n",
    "bar_plot(\n",
    "    df=df[df['tpep_pickup_datetime'].dt.year == 2021],\n",
    "    column='tpep_pickup_datetime',\n",
    "    xlabel='Mes',\n",
    "    ylabel='Quantitat de Viatges',\n",
    "    title='Quantitat de Viatges per Mes (2019)'\n",
    ")"
   ]
  },
  {
   "cell_type": "markdown",
   "id": "a6832559",
   "metadata": {
    "id": "a6832559"
   },
   "source": [
    "+ És el comportament que esperàveu? Per què?"
   ]
  },
  {
   "cell_type": "markdown",
   "id": "4fd24054",
   "metadata": {
    "id": "4fd24054"
   },
   "source": [
    "> Resposta: Es el comportament que esperavem ja que el covid va aparèixer a partir del març del 2020, i com vam entrar en quarantena, l'utilització de taxis va disminuir fins que es va treure la quarantena i es va tornar a una utilització mes normal pero sense tornar a la mateixa quantitat que preCovid."
   ]
  },
  {
   "cell_type": "markdown",
   "id": "9794e190",
   "metadata": {
    "id": "9794e190"
   },
   "source": [
    "+ Visualitza **quants passatgers hi ha per taxi i per any**. Crea una figura **amb tres subfigures** (una per any) on es pugui veure el recompte de passatgers per any. Després repetiu el mateix gràfic visualitzant el % (utilitzeu el paràmetre *norm = True*)."
   ]
  },
  {
   "cell_type": "code",
   "execution_count": null,
   "id": "1a3093d3",
   "metadata": {
    "id": "1a3093d3"
   },
   "outputs": [],
   "source": [
    "def passengers_taxi_year(df, ylim, xlabel, ylabel, title, norm = False):\n",
    "    \"\"\"\n",
    "    Funció que visualitza quants passatgers hi ha per taxi i per any\n",
    "    \"\"\"\n",
    "    # CREEM una copia per aixi no crear noves columnes\n",
    "    df_copy = df.copy()\n",
    "\n",
    "    # Afegim a la copia l'any\n",
    "    df_copy['year'] = df_copy['tpep_pickup_datetime'].dt.year\n",
    "\n",
    "    # SUBFIGURES\n",
    "    fig, ax = plt.subplots(figsize=(8, 5))\n",
    "\n",
    "    # Contem el nombre de passatgers\n",
    "    passengers_per_year = df_copy.groupby('year')['passenger_count'].sum()\n",
    "\n",
    "    # Si norm = True, sobrescribim el calcul anterior, i mostrem el %\n",
    "    if norm:\n",
    "        passengers_per_year = passengers_per_year / passengers_per_year.sum()\n",
    "\n",
    "    # GRAFIC DE BARRAS\n",
    "    passengers_per_year.plot(kind='bar', ax=ax, color='blue', alpha=0.7)\n",
    "    ax.set_xlabel(xlabel)\n",
    "    ax.set_ylabel(ylabel)\n",
    "    ax.set_title(title)\n",
    "    ax.set_ylim(ylim)\n",
    "    plt.tight_layout()\n",
    "    plt.show()\n",
    "    #Eliminem la copia\n",
    "    del df_copy"
   ]
  },
  {
   "cell_type": "code",
   "execution_count": null,
   "id": "ac3ebcf7",
   "metadata": {
    "tags": [],
    "id": "ac3ebcf7",
    "outputId": "adb56a21-8f48-4ea9-d5f0-7fe266577856",
    "colab": {
     "base_uri": "https://localhost:8080/",
     "height": 507
    }
   },
   "outputs": [],
   "source": [
    "passengers_taxi_year(df,\n",
    "                     (0, 60000),\n",
    "                     'Nombre de passatgers',\n",
    "                     'Recompte de passatgers',\n",
    "                     'Recompte de passatgers per any')"
   ]
  },
  {
   "cell_type": "code",
   "execution_count": null,
   "id": "efca9289",
   "metadata": {
    "tags": [],
    "id": "efca9289",
    "outputId": "f81444d4-5016-4d97-8349-b47b49b18dad",
    "colab": {
     "base_uri": "https://localhost:8080/",
     "height": 507
    }
   },
   "outputs": [],
   "source": [
    "passengers_taxi_year(df,\n",
    "                     (0, 0.8),\n",
    "                     'Nombre de passatgers',\n",
    "                     '%',\n",
    "                     '% de passatgers per any',\n",
    "                     norm = True)"
   ]
  },
  {
   "cell_type": "markdown",
   "id": "a8871d2c",
   "metadata": {
    "id": "a8871d2c"
   },
   "source": [
    "+ Com descriurieu de forma **qualitativa** l'efecte de la covid sobre els taxis en base a l'anàlisi fet fins ara?\n",
    "\n",
    "> Resposta:\n",
    "\n",
    "+ Podeu calcular de forma **quantitativa** la magnitud dels canvis que heu detectat? Escriviu una funció que calculi una sèrie d'indicadors quantitatius (per exemple, quin canvi percentual hi ha en el nombre de viatges d'una sola persona, etc.)."
   ]
  },
  {
   "cell_type": "code",
   "execution_count": null,
   "id": "0d34f17a",
   "metadata": {
    "id": "0d34f17a",
    "outputId": "68fed6cc-396a-4ff2-ccfa-0c4a2dea66ff",
    "colab": {
     "base_uri": "https://localhost:8080/"
    }
   },
   "outputs": [],
   "source": [
    "def calculate_indicators(df):\n",
    "    \"\"\"\n",
    "    Función que calcula indicadores cuantitativos basados en una copia del DataFrame de datos y por año.\n",
    "    \"\"\"\n",
    "    # Copia per no afegir columnes\n",
    "    df_copy = df.copy()\n",
    "\n",
    "    # Total de viatjes\n",
    "    total_trips_original = len(df_copy)\n",
    "\n",
    "    # Contem els viatjes realitzats per un passatger\n",
    "    solo_passenger_trips_total = df_copy[df_copy['passenger_count'] == 1]\n",
    "    total_solo_passenger_trips_total = len(solo_passenger_trips_total)\n",
    "\n",
    "    # Fem el percentatje per saber la relacio entre viatjes totals i viatjes d'una sola persona,\n",
    "    # es a dir, es veura quina disminució hi ha entre aquestos dos tipus de viatjes\n",
    "    change_percent_solo_passenger_total = ((total_solo_passenger_trips_total - total_trips_original) / total_trips_original) * 100\n",
    "\n",
    "    indicators = {\n",
    "        'Total de viajes originales': total_trips_original,\n",
    "        'Total de viajes de una sola persona': total_solo_passenger_trips_total,\n",
    "        'Cambio porcentual en viajes de una sola persona': change_percent_solo_passenger_total,\n",
    "    }\n",
    "\n",
    "    # Creem un diccionari per afegir els viatjes anuals\n",
    "    indicators_by_year = {}\n",
    "\n",
    "    # Fem la columna del any en la copia per extreure la quantitat de viatjes anuals\n",
    "    df_copy['year'] = df_copy['tpep_pickup_datetime'].dt.year\n",
    "    unique_years = df_copy['year'].unique()\n",
    "\n",
    "    #Per cada any, realitzem els mateixos calculs\n",
    "    for year in unique_years:\n",
    "        # Filtrem les dades...\n",
    "        year_data = df_copy[df_copy['year'] == year]\n",
    "\n",
    "        # Total de viatjes anuals\n",
    "        total_trips_anual = len(year_data)\n",
    "\n",
    "        # Contem els viatjes realitzats per un passatger\n",
    "        solo_passenger_trips_anual = year_data[year_data['passenger_count'] == 1]\n",
    "        total_solo_passenger_trips_anual = len(solo_passenger_trips_anual)\n",
    "\n",
    "        # Fem el percentatje per saber la relacio entre viatjes totals i viatjes d'una sola persona,\n",
    "        # es a dir, es veura quina disminució hi ha entre aquestos dos tipus de viatjes en un sol any\n",
    "        change_percent_solo_passenger_anual = ((total_solo_passenger_trips_anual - total_trips_anual) / total_trips_anual) * 100\n",
    "\n",
    "        # Afegim al diccionari per any l'informació anterior\n",
    "        indicators_by_year[year] = {\n",
    "            'Total de viatjes': total_trips_anual,\n",
    "            'Total de viatjes anuals de una sola persona': total_solo_passenger_trips_anual,\n",
    "            'Cambio porcentual en viajes de una sola persona': change_percent_solo_passenger_anual,\n",
    "        }\n",
    "\n",
    "    # Imprimim el diccionari\n",
    "    for year, indicators in indicators_by_year.items():\n",
    "        print(f'Any {year}:')\n",
    "        for key, value in indicators.items():\n",
    "            print(f'{key}: {value}')\n",
    "        print()\n",
    "\n",
    "    # Imprimim els valors totals\n",
    "    print(f'RESUM TOTAL')\n",
    "    for key, value in indicators.items():\n",
    "        print(f'{key}: {value}')\n",
    "\n",
    "    #Eliminem la copia\n",
    "    del df_copy\n",
    "    return\n",
    "\n",
    "indicadores = calculate_indicators(df)"
   ]
  },
  {
   "cell_type": "markdown",
   "id": "f7e15df4",
   "metadata": {
    "id": "f7e15df4"
   },
   "source": [
    "+ Descriviu els resultats quantitatius que heu obtingut.\n",
    "\n",
    "> Resposta: Es pot veure una disminucio del 27.36% de viatjes entre una persona i el total de viatjes. Cosa que com es pot veure amb el covid, la disminució ha sigut menor amb el covid, es a dir, amb el covid s'han realitzat mes viatjes d'una sola persona."
   ]
  },
  {
   "cell_type": "markdown",
   "id": "15192e92",
   "metadata": {
    "id": "15192e92"
   },
   "source": [
    "## 4. Quantitat de viatges\n",
    "\n",
    "Fins ara hem vist la quantitat de viatges que hi ha hagut a nivell de mesos i anys.\n",
    "\n",
    "Ara podem estudiar l'efecte de la covid en el nombre de trajectes si **agreguem** les dades per hores, dies de la setmana, setmanes de l'any, etc.\n",
    "\n",
    "### Exercici D\n",
    "\n",
    "+ Escriu una funció genèrica que visualitzi el nombre de trajectes per les agregacions de dades comentades i per cada any. Fes servir gràfics de línies discontínues (una línia per cada any) per veure'n l'evolució i marca amb una rodona o creu allà on està el valor."
   ]
  },
  {
   "cell_type": "code",
   "execution_count": null,
   "id": "a7600c12",
   "metadata": {
    "id": "a7600c12"
   },
   "outputs": [],
   "source": [
    "def visualize_trips(df, columns, title, xlabel, ylabel):\n",
    "    \"\"\"\n",
    "    Funció que visualitza els viatges per diferents agregacions de dades\n",
    "    \"\"\"\n",
    "\n",
    "    # Copia per no afegir columnes\n",
    "    df_copy = df.copy()\n",
    "\n",
    "    #Afegim les dades per hora, dia i setmana\n",
    "    df_copy['pickup_hour'] = df_copy['tpep_pickup_datetime'].dt.hour\n",
    "    df_copy['dropoff_hour'] = df_copy['tpep_dropoff_datetime'].dt.hour\n",
    "    df_copy['pickup_day'] = df_copy['tpep_pickup_datetime'].dt.day\n",
    "    df_copy['dropoff_day'] = df_copy['tpep_dropoff_datetime'].dt.day\n",
    "    df_copy['pickup_week'] = df_copy['tpep_pickup_datetime'].dt.isocalendar().week\n",
    "    df_copy['dropoff_week'] = df_copy['tpep_dropoff_datetime'].dt.isocalendar().week\n",
    "\n",
    "\n",
    "\n",
    "    # Creem un grafic de lineas discontinues per any\n",
    "    unique_years = df_copy['tpep_pickup_datetime'].dt.year.unique()\n",
    "\n",
    "\n",
    "    #Per cada columna que volguem mostrar\n",
    "    for col in columns:\n",
    "        plt.figure(figsize=(10, 6))\n",
    "        #Per cada any\n",
    "        for year in unique_years:\n",
    "            #Agafem les dades del any en el que estem recorrent\n",
    "            year_data = df_copy[df_copy['tpep_pickup_datetime'].dt.year == year]\n",
    "            #Contem la quantitat que hi ha a la columna que volem mostrar\n",
    "            group_data = year_data.groupby(col).size().reset_index(name='count')\n",
    "            #Mostrem el reconte amb una rodona on hi ha el valor\n",
    "            plt.plot(group_data['count'], label=f'Año {year}', marker='o')\n",
    "            for i, count in enumerate(group_data['count']):\n",
    "                #Mostrem la dada en text\n",
    "                plt.annotate(str(count), (i, count), textcoords=\"offset points\", xytext=(0, 10), ha='center')\n",
    "\n",
    "\n",
    "        plt.title(f'{title} ({col})')\n",
    "        plt.xlabel(xlabel)\n",
    "        plt.ylabel(ylabel)\n",
    "        plt.legend()\n",
    "        plt.grid()\n",
    "        plt.show()\n",
    "\n",
    "\n",
    "    del df_copy\n"
   ]
  },
  {
   "cell_type": "code",
   "execution_count": null,
   "id": "adb50fc8",
   "metadata": {
    "tags": [],
    "id": "adb50fc8",
    "outputId": "f3625551-5182-493d-84d9-50360b951a7a",
    "colab": {
     "base_uri": "https://localhost:8080/",
     "height": 1000
    }
   },
   "outputs": [],
   "source": [
    "visualize_trips(df,\n",
    "                ['pickup_hour', 'dropoff_hour'],\n",
    "                title = 'Quantitat de viatges per hora',\n",
    "                xlabel = 'Hora del dia', ylabel = 'Quantitat')"
   ]
  },
  {
   "cell_type": "code",
   "execution_count": null,
   "id": "07029682",
   "metadata": {
    "tags": [],
    "id": "07029682",
    "outputId": "98f49441-e945-45ea-eee7-8adab9c80410",
    "colab": {
     "base_uri": "https://localhost:8080/",
     "height": 1000
    }
   },
   "outputs": [],
   "source": [
    "visualize_trips(df,\n",
    "                ['pickup_day', 'dropoff_day'],\n",
    "                title = 'Quantitat de viatges per dia de la setmana',\n",
    "                xlabel = 'Dia de la setmana',\n",
    "                ylabel = 'Quantitat')"
   ]
  },
  {
   "cell_type": "code",
   "execution_count": null,
   "id": "e5dc11a6",
   "metadata": {
    "tags": [],
    "id": "e5dc11a6",
    "outputId": "9ac31b5c-b5ba-4d5a-b8f4-37cb26728872",
    "colab": {
     "base_uri": "https://localhost:8080/",
     "height": 1000
    }
   },
   "outputs": [],
   "source": [
    "visualize_trips(df,\n",
    "                ['pickup_week', 'dropoff_week'],\n",
    "                title = 'Quantitat de viatges per setmana de l\\'any',\n",
    "                xlabel = 'Setmana de l\\'any',\n",
    "                ylabel = 'Quanitat')"
   ]
  },
  {
   "cell_type": "markdown",
   "id": "5a5c0cf9",
   "metadata": {
    "id": "5a5c0cf9"
   },
   "source": [
    "+ Com descriurieu l'efecte de la covid en cada cas (si és que en té)? Quin creieu que és el motiu?"
   ]
  },
  {
   "cell_type": "markdown",
   "id": "a9897a2a",
   "metadata": {
    "id": "a9897a2a"
   },
   "source": [
    "> Resposta:\n",
    "> **Per hora**: Per hora es pot veure que l'augment al pas de les hores es diferent, al any 2019 on podia aumentar fins 5300 viatjes a la hora, en canvi, als altres anys, unicament fins 2000 viatjes a la hora\n",
    "> **Per dia**: Es pot veure que diariament i cada any, es pot veure que el 2019 (any normal) hi habia molt moviment, en canvi, pels altres anys, hi havia el efecte covid, on els viatjes eren menors\n",
    "> **Per setmana**: En aquestos grafics es pot veure l'efecte covid totalment, on els viatjes eran normals, fins la setmana 10-11 del 2020, i com va passant el covid durant aquestos dos anys, i com a finals del 2021, cau una altre vegada per les oles de covid."
   ]
  },
  {
   "cell_type": "markdown",
   "id": "3878afdf",
   "metadata": {
    "id": "3878afdf"
   },
   "source": [
    "## 5. Relació distancia, temps i velocitat\n",
    "\n",
    "A les dades tenim la **distància** que ha recorregut el taxi en cada viatge i de la informació temporal podem extreure també la **durada** d'aquest.\n",
    "\n",
    "Ara explorarem com la covid va afectar les distàncies i les durades dels viatges, i també la velocitat dels taxis. També ens preguntarem si la densitat de trànsit va variar."
   ]
  },
  {
   "cell_type": "markdown",
   "id": "c3911075",
   "metadata": {
    "id": "c3911075"
   },
   "source": [
    "### Exercici E\n",
    "\n",
    "+ Per començar, escriu una funció que visualitzi els **histogrames** de distància i durada per any."
   ]
  },
  {
   "cell_type": "code",
   "execution_count": null,
   "id": "de3b0854",
   "metadata": {
    "id": "de3b0854"
   },
   "outputs": [],
   "source": [
    "def visualize_histograms(df, column, title, xlabel, ylabel, xlim):\n",
    "    \"\"\"\n",
    "    Funció que crea un histograma a partir de la informació que conté la columna del dataframe\n",
    "    \"\"\"\n",
    "    # obtenim els anys del dataframe, amb el pickup time, per evitar el 2022 (va haber un tio que es va pujar el últim dia de 2021 per la nit, i va fer el drop off a 2022)\n",
    "    years = df['tpep_pickup_datetime'].dt.year.unique()\n",
    "\n",
    "    # Crear figura i eixos histograma\n",
    "    fig, axs = plt.subplots(len(years), figsize=(10, 6*len(years)))\n",
    "\n",
    "    # Crear un histograma por año\n",
    "    for i, year in enumerate(years):\n",
    "        # Filtrar el dataframe per any\n",
    "        df_year = df[df['tpep_pickup_datetime'].dt.year == year]\n",
    "\n",
    "        values = df_year[column]\n",
    "\n",
    "        # Creem titol histograma\n",
    "        year_title = f'{title} - {year}'\n",
    "\n",
    "        # Generar histograma per any\n",
    "        axs[i].hist(values, bins=30, alpha=0.5, color ='green')\n",
    "        axs[i].set_title(year_title)\n",
    "        axs[i].set_xlabel(xlabel)\n",
    "        axs[i].set_ylabel(ylabel)\n",
    "        axs[i].set_xlim(xlim)\n",
    "\n",
    "    # Ajustar la disposición de los subgráficos\n",
    "    plt.tight_layout()\n",
    "\n",
    "    # Mostrar los histogramas\n",
    "    plt.show()"
   ]
  },
  {
   "cell_type": "code",
   "execution_count": null,
   "id": "615cbe93",
   "metadata": {
    "tags": [],
    "id": "615cbe93",
    "colab": {
     "base_uri": "https://localhost:8080/",
     "height": 1000
    },
    "outputId": "bf7f821b-2358-4cb4-e367-46ee7699ca0c"
   },
   "outputs": [],
   "source": [
    "visualize_histograms(df, 'trip_distance', title = 'Distància dels viatge per any',\n",
    "                     xlabel = 'Distància (km)', ylabel = 'Quantitat', xlim = (-5, 80))\n",
    "\n",
    "visualize_histograms(df, 'trip_duration', title = 'Durada dels viatges per any',\n",
    "                     xlabel = 'Durada (h)', ylabel = 'Quantitat', xlim = (-1, 25) )\n",
    "\n",
    "visualize_histograms(df, 'speed', title = 'Velocitat dels viatge per any',\n",
    "                     xlabel = 'Velocitat (Km/h)', ylabel = 'Quanitat', xlim = (-1, 300) )"
   ]
  },
  {
   "cell_type": "markdown",
   "id": "8111f857",
   "metadata": {
    "id": "8111f857"
   },
   "source": [
    "* Com creieu que la covid va afectar les distàncies i durades dels viatges?\n",
    "\n",
    "> Resposta: El covid-19, va reduir molt la quantitat de viatges i la qualitat del servei. El que té sentit amb les dades mostrades, ja que la durada i les distancies també van ser reduides. La gent viatjava menys i els pocs viatges que es feien eren més curts.\n",
    "\n",
    "* I a la velocitat dels taxis?\n",
    "\n",
    "> Resposta: La velocitat no varia molt en relació a abans del covid-19, ja que els límits de velocitat són els que son, i els taxis has moures en capital o per fora d'ella, segueixen respectant els límits establerts."
   ]
  },
  {
   "cell_type": "markdown",
   "id": "767ac6dc",
   "metadata": {
    "id": "767ac6dc"
   },
   "source": [
    "## 6. Visualització de les localitzacions dels viatges"
   ]
  },
  {
   "cell_type": "code",
   "execution_count": null,
   "id": "24ae8dd1",
   "metadata": {
    "id": "24ae8dd1",
    "outputId": "5daeb983-ecbf-4114-99c6-ede3f3fe6473",
    "colab": {
     "base_uri": "https://localhost:8080/"
    }
   },
   "outputs": [],
   "source": [
    "column_names = df.columns.tolist()\n",
    "print(column_names)"
   ]
  },
  {
   "cell_type": "markdown",
   "id": "ae5647fa",
   "metadata": {
    "id": "ae5647fa"
   },
   "source": [
    "Només tenim la ID d'una localització, per tant, necessitem aconseguir la latitud i la longitud.\n",
    "\n",
    "La mateixa pàgina dels taxis ens dóna el fitxer *taxi_zones.zip*, però primer cal que convertim les dades de coordenades amb format WGS84.\n",
    "\n",
    "Podem utilitzar aquesta web: https://mygeodata.cloud/"
   ]
  },
  {
   "cell_type": "code",
   "execution_count": null,
   "id": "8410ad61",
   "metadata": {
    "id": "8410ad61",
    "colab": {
     "base_uri": "https://localhost:8080/",
     "height": 314
    },
    "outputId": "58d0b2ba-3287-4ee0-f813-4506c81d15b1"
   },
   "outputs": [],
   "source": [
    "from utils import get_lat_lon, draw_region_map, draw_zone_map"
   ]
  },
  {
   "cell_type": "code",
   "execution_count": null,
   "id": "6b783b67",
   "metadata": {
    "tags": [],
    "id": "6b783b67",
    "outputId": "e397daec-cac4-4b55-a18f-367b8da74273",
    "colab": {
     "base_uri": "https://localhost:8080/"
    }
   },
   "outputs": [],
   "source": [
    "sf = shapefile.Reader('data/geodata/taxi_zones.shp')\n",
    "\n",
    "fields_name = [field[0] for field in sf.fields[1:]]\n",
    "shp_dic = dict(zip(fields_name, list(range(len(fields_name)))))\n",
    "attributes = sf.records()\n",
    "shp_attr = [dict(zip(fields_name, attr)) for attr in attributes]"
   ]
  },
  {
   "cell_type": "code",
   "execution_count": null,
   "id": "76dafb84",
   "metadata": {
    "id": "76dafb84",
    "colab": {
     "base_uri": "https://localhost:8080/",
     "height": 192
    },
    "outputId": "38045432-b26b-4d54-f54a-c00289d469e1"
   },
   "outputs": [],
   "source": [
    "df_loc = pd.DataFrame(shp_attr).join(get_lat_lon(sf, shp_dic).set_index(\"LocationID\"), on=\"LocationID\")\n",
    "df_loc.head()"
   ]
  },
  {
   "cell_type": "code",
   "execution_count": null,
   "outputs": [],
   "source": [
    "column_names = df_loc.columns.tolist()\n",
    "print(column_names)"
   ],
   "metadata": {
    "collapsed": false
   }
  },
  {
   "cell_type": "code",
   "execution_count": null,
   "id": "e21ae04f",
   "metadata": {
    "tags": [],
    "id": "e21ae04f",
    "colab": {
     "base_uri": "https://localhost:8080/",
     "height": 927
    },
    "outputId": "2d92b202-6291-4966-d2ad-bf4fa081b424"
   },
   "outputs": [],
   "source": [
    "fig, ax = plt.subplots(nrows=1, ncols=2, figsize=(15,8))\n",
    "ax = plt.subplot(1, 2, 1)\n",
    "ax.set_title(\"Boroughs in NYC\")\n",
    "draw_region_map(ax, sf, shp_dic)\n",
    "ax = plt.subplot(1, 2, 2)\n",
    "ax.set_title(\"Zones in NYC\")\n",
    "draw_zone_map(ax, sf, shp_dic)"
   ]
  },
  {
   "cell_type": "markdown",
   "id": "c9013cf7",
   "metadata": {
    "id": "c9013cf7"
   },
   "source": [
    "### Exercici F\n",
    "\n",
    "+ Ara teniu dos dataframe que necessitem unir. Utilitza la funció *merge* de Pandas per crear un nou dataframe (conserva el dataframe `df`), anomenat `merge`, que contingui la longitud i latitud (del punt de recollida i del punt de destí) a cada fila."
   ]
  },
  {
   "cell_type": "code",
   "execution_count": null,
   "id": "16d011e4",
   "metadata": {
    "id": "16d011e4"
   },
   "outputs": [],
   "source": [
    "# Fem copia per conservar el data frame original\n",
    "merge = df.copy()\n",
    "\n",
    "# Fusionem els dataframe per afegir dos columnes més PuLocationID\n",
    "merge = merge.merge(df_loc[['LocationID', 'longitude', 'latitude']], left_on='PULocationID', right_on='LocationID', how='left')\n",
    "\n",
    "merge = merge.merge(df_loc[['LocationID', 'longitude', 'latitude']], left_on='DOLocationID', right_on='LocationID', how='left')\n",
    "\n",
    "# Renombrem les columnes resultants\n",
    "merge.rename(columns={'longitude_x': 'PULongitude', 'latitude_x': 'PULatitude', 'longitude_y': 'DOLongitude', 'latitude_y': 'DOLatitude'}, inplace=True)\n",
    "\n",
    "# Eliminem columnes duplicades\n",
    "merge.drop(['LocationID_x', 'LocationID_y'], axis=1, inplace=True)\n"
   ]
  },
  {
   "cell_type": "code",
   "execution_count": null,
   "id": "6ccf1382",
   "metadata": {
    "id": "6ccf1382"
   },
   "outputs": [],
   "source": [
    "merge.shape"
   ]
  },
  {
   "cell_type": "code",
   "execution_count": null,
   "outputs": [],
   "source": [
    "merge.head()"
   ],
   "metadata": {
    "collapsed": false
   }
  },
  {
   "cell_type": "code",
   "execution_count": null,
   "outputs": [],
   "source": [
    "column_names = merge.columns.tolist()\n",
    "print(column_names)"
   ],
   "metadata": {
    "collapsed": false
   }
  },
  {
   "cell_type": "code",
   "execution_count": null,
   "outputs": [],
   "source": [
    "column_names = df_loc.columns.tolist()\n",
    "print(column_names)"
   ],
   "metadata": {
    "collapsed": false
   }
  },
  {
   "cell_type": "code",
   "execution_count": null,
   "outputs": [],
   "source": [
    "column_names = df.columns.tolist()\n",
    "print(column_names)"
   ],
   "metadata": {
    "collapsed": false
   }
  },
  {
   "cell_type": "markdown",
   "source": [
    "## 7. Quines zones de NY tenen més recollides i quines zones tenen més arribades?\n",
    "\n",
    "En aquest apartat volem conèixer i visualitzar les zones on els taxis són més utilitzats.\n",
    "\n",
    "El primer pas és ordenar i guardar en una variable els llocs més comuns en la recollida i el destí.\n",
    "\n",
    "### Exercici G\n",
    "+  Escriu una funció `show_top_n` que imprimeix els 5 llocs més freqüents de recollida i els 5 llocs més freqüents d'arribada, per cada any."
   ],
   "metadata": {
    "collapsed": false
   }
  },
  {
   "cell_type": "code",
   "execution_count": null,
   "outputs": [],
   "source": [
    "import pandas as pd\n",
    "\n",
    "n_top = 5\n",
    "'''\n",
    "Hem modificat una mica la capcelera de la funció per aclarar-nos més.\n",
    "my_dataframe -> Serà un dataframe que crearem BUIT, on guardarem el output esperat\n",
    "column -> es la columna que estudiarem, per comptar el recompte de frequencia, en aquest cas 'DOLocationID' i 'POLocationID'\n",
    "merge_df -> serà el dataframe del exercici 6, així podrem estudiar les columnes abans mencionades mentres tenim\n",
    "Hem decidit utilitzar aquest abans del df_loc\n",
    "accés a la data (per extreure el any)\n",
    "\n",
    "ACLARACIÓ: El dataframe resultant tindrà la seguent estructura -> id, DO/PO ID, frequencia i any.\n",
    "Hem decidit cambiar el nom de trip_distance a frequencia, així es més fàcil d'entendre\n",
    "'''\n",
    "\n",
    "def show_top_n(my_dataframe, column, merge_df, n_top=n_top):\n",
    "    \"\"\"\n",
    "    Funció que mostra les ubicacions més frequents per ANY\n",
    "    \"\"\"\n",
    "    # Agafa la columna pickup_datetime i ens quedem amb el any (com hem fet als altres exs)\n",
    "    years = merge_df['tpep_pickup_datetime'].dt.year.unique()\n",
    "\n",
    "    # Per cada any iterem\n",
    "    for year in years:\n",
    "        # Filtrem data frame per any\n",
    "        df_year = merge_df[merge_df['tpep_pickup_datetime'].dt.year == year]\n",
    "         # i ens quedem amb el valor de la columna\n",
    "        values = df_year[column]\n",
    "        # Aqui ens quedem amb els N valors més grans\n",
    "        n_values = values.value_counts().nlargest(n_top)\n",
    "\n",
    "        # dataframe temporal per comptar els viatges que s'han fet (ID de uni, any)\n",
    "        temp_df = pd.DataFrame({column: n_values.index, 'frequencia': n_values.values})\n",
    "        temp_df['year'] = year\n",
    "\n",
    "        # Afegim els valors al data frame (recordem que estara buit)\n",
    "        my_dataframe = pd.concat([my_dataframe, temp_df])\n",
    "\n",
    "    # el que fem aqui es ordenar, primer el any (volem 5 per 2019, 2020 i 2021) i després la frequencia\n",
    "    top = my_dataframe.sort_values(['year', 'frequencia'], ascending=[True, False]).reset_index(drop=True)\n",
    "    return top"
   ],
   "metadata": {
    "collapsed": false
   }
  },
  {
   "cell_type": "code",
   "execution_count": null,
   "outputs": [],
   "source": [
    "# creem el dataframe buit\n",
    "my_dataframe = pd.DataFrame()\n",
    "\n",
    "# Generar dataframe top_pu\n",
    "top_pu = show_top_n(my_dataframe, 'PULocationID', merge)\n",
    "print('Dataframe top_pu:')\n",
    "print(top_pu)\n",
    "\n",
    "print()"
   ],
   "metadata": {
    "collapsed": false
   }
  },
  {
   "cell_type": "markdown",
   "source": [],
   "metadata": {
    "collapsed": false
   }
  },
  {
   "cell_type": "code",
   "execution_count": null,
   "outputs": [],
   "source": [
    "# creem el dataframe buit\n",
    "my_dataframe = pd.DataFrame()\n",
    "\n",
    "# Generar dataframe top_pu\n",
    "top_do = show_top_n(my_dataframe, 'DOLocationID', merge)\n",
    "print('Dataframe top_do:')\n",
    "print(top_do)\n",
    "\n",
    "print()"
   ],
   "metadata": {
    "collapsed": false
   }
  },
  {
   "cell_type": "markdown",
   "id": "5e4eec21",
   "metadata": {
    "id": "5e4eec21"
   },
   "source": [
    "Visualitzem amb un mapa de calor quines són les zones més recurrents."
   ]
  },
  {
   "cell_type": "code",
   "execution_count": null,
   "id": "337b0084",
   "metadata": {
    "id": "337b0084"
   },
   "outputs": [],
   "source": [
    "for year in YEARS:\n",
    "\n",
    "    PUcount = {k:v for k, v in top_do[top_do.year == year][['DOLocationID', 'frequencia']].values}\n",
    "    #testeig\n",
    "    print(PUcount)\n",
    "    fig, ax = plt.subplots(nrows=1, ncols=2, figsize=(12,5))\n",
    "    ax = plt.subplot(1, 2, 1)\n",
    "    ax.set_title(f\"Zones with most pickups - {year}\")\n",
    "    draw_zone_map(ax, sf, shp_dic, heat=PUcount, text=list(PUcount.keys())[:5])\n",
    "    ax = plt.subplot(1, 2, 2)\n",
    "    ax.set_title(f\"Zones with most drop-offs - {year}\")\n",
    "    draw_zone_map(ax, sf, shp_dic, heat=PUcount, text=list(PUcount.keys())[:5])"
   ]
  },
  {
   "cell_type": "markdown",
   "id": "c639dbc6",
   "metadata": {
    "id": "c639dbc6"
   },
   "source": [
    "+ Per què creieu que la zona de Manhattan té més quantitat de viatges?\n",
    "\n",
    "> Resposta: Perquè es un punt molt important a la ciutat de New York. Hi ha molta densitat de població i moltes empreses, el que pot sugerir que tots aquests empresaris fassin molts viatges per anar a treballar o tornar a casa, afavorint el constant moviment.\n",
    "> També pensem que es un gran sentí turístic, i els extrangers no solen alquilar un cotxe per moure's per la ciutat, ho fan directament per Taxi o Uber, el que pot afavorir també a la freqüència. Ademés es un dels districtes més poblats de tota la ciutat."
   ]
  },
  {
   "cell_type": "markdown",
   "id": "aaa92433",
   "metadata": {
    "id": "aaa92433"
   },
   "source": [
    "## 8. Hospitals\n",
    "\n",
    "Com ha canviat la destinació dels viatges? Hi ha més viatges a les zones on hi ha grans hospitals?\n",
    "\n",
    "A la següent cel·la us donem la creació manual d'un DataFrame amb la localització més important dels hospitals de Nova York."
   ]
  },
  {
   "cell_type": "code",
   "execution_count": null,
   "id": "5c8dc60e",
   "metadata": {
    "id": "5c8dc60e"
   },
   "outputs": [],
   "source": [
    "hospitals = [('New York’s Presbyterian Lower Manhattan Hospital, NYC, NY, USA', '40.710255', '-74.005058'),\n",
    "('Manhattan Gastroenterology, NYC, NY, USA', '40.778259', '-73.958092'),\n",
    "('Stem Cell Therapy Hospital, NYC, NY, USA', '40.601517', '-73.961067'),\n",
    "('Park Avenue Smiles, Yonkers, NYC, NY, USA', '40.945873', '-73.890671'),\n",
    "('Cosmetic Dentistry Center, NYC, NY, USA', '40.629234', '-74.026077'),\n",
    "('Envy Smile Dental Spa, Brooklyn, NYC, NY, USA', '40.607059', '-73.960144'),\n",
    "('VIVA EVE, Forest Hills, NYC, NY, USA', '40.734291', '-73.849434'),\n",
    "('Forest Hills Medical Services, Queens, NYC, NY, USA', '40.734310', '-73.849510'),\n",
    "('Professional Gynecological Services, Brooklyn, NY, NY, USA', '40.689747', '-73.982346'),\n",
    "('Manhattan Womens Health & Wellness, New York, NY, USA', '40.741997', '-73.986107'),\n",
    "('Brooklyn Abortion Clinic, Brooklyn, NY, New York, USA', '40.689743', '-73.982368'),\n",
    "('Brooklyn GYN Place, Brooklyn, NY, USA', '40.692696', '-73.993584'),\n",
    "('Americas Holistic Doctor, NYC, NY, USA', '40.742531', '-73.985489'),\n",
    "('NJS Physical Medicine & Rehabilitation, Brooklyn, NY, USA', '40.641621', '-73.956734'),\n",
    "('DHD Medical, Brooklyn New York, USA', '40.625568', '-73.918320'),\n",
    "('Workers Compensation Doctor, New York, NY, USA', '40.652225', '-74.006104'),]\n",
    "\n",
    "hospitals = pd.DataFrame(hospitals, columns = ['Place Name', 'Latitude', 'Longitude'])\n",
    "hospitals['Latitude'] = hospitals['Latitude'].astype(float)\n",
    "hospitals['Longitude'] = hospitals['Longitude'].astype(float)\n",
    "hospitals.head()"
   ]
  },
  {
   "cell_type": "markdown",
   "id": "9ca9b6e9",
   "metadata": {
    "id": "9ca9b6e9"
   },
   "source": [
    "### Exercici H\n",
    "\n",
    "+ Utilitza la latitud i longitud de cada hospital i la de les zones del dataframe *merge* per veure la relació entre la distribució dels hospitals i la dels viatges. Per fer-ho utilitza els gràfics de dispersió. Recorda que s'entendrà millor si els punts són transparents (paràmetre *alpha*).\n",
    "\n",
    "+ Després repeteix el mateix gràfic però separat per any."
   ]
  },
  {
   "cell_type": "code",
   "execution_count": null,
   "outputs": [],
   "source": [
    "def meters_to_degrees(latitude_meters, longitude_meters):\n",
    "    # Aproximadamente la circunferencia de la Tierra en la latitud media\n",
    "    earth_radius = 6371009  # en metros\n",
    "\n",
    "    latitude_degrees = latitude_meters / (earth_radius * 2 * 3.14159265359 / 360.0)\n",
    "    longitude_degrees = longitude_meters / (earth_radius * 2 * 3.14159265359 / 360.0)\n",
    "\n",
    "    return latitude_degrees, longitude_degrees\n"
   ],
   "metadata": {
    "collapsed": false
   }
  },
  {
   "cell_type": "code",
   "execution_count": null,
   "id": "cee04dc3",
   "metadata": {
    "id": "cee04dc3"
   },
   "outputs": [],
   "source": [
    "'''\n",
    "Merge ->\n",
    "['tpep_pickup_datetime', 'tpep_dropoff_datetime', 'passenger_count', 'trip_distance', 'PULocationID', 'DOLocationID', 'payment_type', 'fare_amount', 'total_amount', 'trip_duration', 'speed', 'PULongitude', 'PULatitude', 'DOLongitude', 'DOLatitude']\n",
    "'''\n",
    "\n",
    "# els hospitals tenen la longitud negativa i els taxis postiva, per que?\n",
    "def scatter_locations(merge, hospitals):\n",
    "    \"\"\"Funció que mostra la distribució dels hospitals i les destinacions dels taxis\"\"\"\n",
    "    plt.figure(figsize=(10, 3))\n",
    "\n",
    "    merge_x, merge_y = meters_to_degrees(merge['DOLatitude'], merge['DOLongitude'])\n",
    "    plt.scatter(merge_x, merge_y, alpha=0.2, label='Destinos de taxis')\n",
    "\n",
    "    hospital_x, hospital_y = hospitals['Latitude'], hospitals['Longitude']\n",
    "    plt.scatter(hospital_x, hospital_y, alpha=0.8, color='red', label='Hospitales')\n",
    "\n",
    "    plt.xlabel('Latitude')\n",
    "    plt.ylabel('Longitude')\n",
    "    plt.title('Distribución de hospitales y destinos de taxis')\n",
    "    plt.legend()\n",
    "    plt.show()"
   ]
  },
  {
   "cell_type": "code",
   "execution_count": null,
   "id": "b2922d27",
   "metadata": {
    "id": "b2922d27"
   },
   "outputs": [],
   "source": [
    "scatter_locations(merge, hospitals)"
   ]
  },
  {
   "cell_type": "code",
   "execution_count": null,
   "id": "b6c214a4",
   "metadata": {
    "id": "b6c214a4"
   },
   "outputs": [],
   "source": [
    "def scatter_locations_per_year(merge, hospitals):\n",
    "    \"\"\"Funció que mostra la distribució dels hospitals i les destinacions dels taxis\"\"\"\n",
    "    # AQUÍ EL TEU CODI\n",
    "    years = merge['tpep_pickup_datetime'].dt.year.unique()\n",
    "\n",
    "    for year in years:\n",
    "        merge_year = merge[merge['tpep_pickup_datetime'].dt.year == year]\n",
    "\n",
    "        plt.figure(figsize=(10, 6))\n",
    "        plt.scatter(merge_year['DOLatitude'], merge_year['DOLongitude'], alpha=0.2, label='Destinos de taxis')\n",
    "        plt.scatter(hospitals['Latitude'], hospitals['Longitude'], alpha=0.8, color='red', label='Hospitales')\n",
    "        plt.xlabel('Latitude')\n",
    "        plt.ylabel('Longitude')\n",
    "        plt.title(f'Distribución de hospitales y destinos de taxis - Año {year}')\n",
    "        plt.legend()\n",
    "        plt.show()\n",
    "\n"
   ]
  },
  {
   "cell_type": "markdown",
   "source": [],
   "metadata": {
    "collapsed": false
   }
  },
  {
   "cell_type": "code",
   "execution_count": null,
   "id": "61d322bd",
   "metadata": {
    "id": "61d322bd"
   },
   "outputs": [],
   "source": [
    "scatter_locations_per_year(merge, hospitals)"
   ]
  },
  {
   "cell_type": "markdown",
   "id": "746a878e",
   "metadata": {
    "id": "746a878e"
   },
   "source": [
    "* Veus algun comportament interessant per comentar?\n",
    "> Resposta:"
   ]
  }
 ],
 "metadata": {
  "kernelspec": {
   "display_name": "Python 3 (ipykernel)",
   "language": "python",
   "name": "python3"
  },
  "language_info": {
   "codemirror_mode": {
    "name": "ipython",
    "version": 3
   },
   "file_extension": ".py",
   "mimetype": "text/x-python",
   "name": "python",
   "nbconvert_exporter": "python",
   "pygments_lexer": "ipython3",
   "version": "3.9.0"
  },
  "colab": {
   "provenance": []
  },
  "widgets": {
   "application/vnd.jupyter.widget-state+json": {
    "48f32a06ae414f5781f73c2441e77be5": {
     "model_module": "@jupyter-widgets/controls",
     "model_name": "HBoxModel",
     "model_module_version": "1.5.0",
     "state": {
      "_dom_classes": [],
      "_model_module": "@jupyter-widgets/controls",
      "_model_module_version": "1.5.0",
      "_model_name": "HBoxModel",
      "_view_count": null,
      "_view_module": "@jupyter-widgets/controls",
      "_view_module_version": "1.5.0",
      "_view_name": "HBoxView",
      "box_style": "",
      "children": [
       "IPY_MODEL_f604f0e3f4a248b7a7f534113fff22c4",
       "IPY_MODEL_0f996a81ab8d4d7d84594947993adee0",
       "IPY_MODEL_3402a8da0d6c4f56aba5200fb13f4b2c"
      ],
      "layout": "IPY_MODEL_1b015583cfd8450390ec4ec520505fad"
     }
    },
    "f604f0e3f4a248b7a7f534113fff22c4": {
     "model_module": "@jupyter-widgets/controls",
     "model_name": "HTMLModel",
     "model_module_version": "1.5.0",
     "state": {
      "_dom_classes": [],
      "_model_module": "@jupyter-widgets/controls",
      "_model_module_version": "1.5.0",
      "_model_name": "HTMLModel",
      "_view_count": null,
      "_view_module": "@jupyter-widgets/controls",
      "_view_module_version": "1.5.0",
      "_view_name": "HTMLView",
      "description": "",
      "description_tooltip": null,
      "layout": "IPY_MODEL_55379b7f2ec9420d91e74c1b28c44cc7",
      "placeholder": "​",
      "style": "IPY_MODEL_f72179f234244a13a3de343c6872b3d7",
      "value": "100%"
     }
    },
    "0f996a81ab8d4d7d84594947993adee0": {
     "model_module": "@jupyter-widgets/controls",
     "model_name": "FloatProgressModel",
     "model_module_version": "1.5.0",
     "state": {
      "_dom_classes": [],
      "_model_module": "@jupyter-widgets/controls",
      "_model_module_version": "1.5.0",
      "_model_name": "FloatProgressModel",
      "_view_count": null,
      "_view_module": "@jupyter-widgets/controls",
      "_view_module_version": "1.5.0",
      "_view_name": "ProgressView",
      "bar_style": "success",
      "description": "",
      "description_tooltip": null,
      "layout": "IPY_MODEL_26508e58940940cba58eed1c557595a4",
      "max": 3,
      "min": 0,
      "orientation": "horizontal",
      "style": "IPY_MODEL_eaaf9dae8aee46248174488155442bb9",
      "value": 3
     }
    },
    "3402a8da0d6c4f56aba5200fb13f4b2c": {
     "model_module": "@jupyter-widgets/controls",
     "model_name": "HTMLModel",
     "model_module_version": "1.5.0",
     "state": {
      "_dom_classes": [],
      "_model_module": "@jupyter-widgets/controls",
      "_model_module_version": "1.5.0",
      "_model_name": "HTMLModel",
      "_view_count": null,
      "_view_module": "@jupyter-widgets/controls",
      "_view_module_version": "1.5.0",
      "_view_name": "HTMLView",
      "description": "",
      "description_tooltip": null,
      "layout": "IPY_MODEL_483e89ea44024078be6e85e1cd64e285",
      "placeholder": "​",
      "style": "IPY_MODEL_0f6bfbb427024d5f8023b8137d32a97e",
      "value": " 3/3 [01:07&lt;00:00, 20.10s/it]"
     }
    },
    "1b015583cfd8450390ec4ec520505fad": {
     "model_module": "@jupyter-widgets/base",
     "model_name": "LayoutModel",
     "model_module_version": "1.2.0",
     "state": {
      "_model_module": "@jupyter-widgets/base",
      "_model_module_version": "1.2.0",
      "_model_name": "LayoutModel",
      "_view_count": null,
      "_view_module": "@jupyter-widgets/base",
      "_view_module_version": "1.2.0",
      "_view_name": "LayoutView",
      "align_content": null,
      "align_items": null,
      "align_self": null,
      "border": null,
      "bottom": null,
      "display": null,
      "flex": null,
      "flex_flow": null,
      "grid_area": null,
      "grid_auto_columns": null,
      "grid_auto_flow": null,
      "grid_auto_rows": null,
      "grid_column": null,
      "grid_gap": null,
      "grid_row": null,
      "grid_template_areas": null,
      "grid_template_columns": null,
      "grid_template_rows": null,
      "height": null,
      "justify_content": null,
      "justify_items": null,
      "left": null,
      "margin": null,
      "max_height": null,
      "max_width": null,
      "min_height": null,
      "min_width": null,
      "object_fit": null,
      "object_position": null,
      "order": null,
      "overflow": null,
      "overflow_x": null,
      "overflow_y": null,
      "padding": null,
      "right": null,
      "top": null,
      "visibility": null,
      "width": null
     }
    },
    "55379b7f2ec9420d91e74c1b28c44cc7": {
     "model_module": "@jupyter-widgets/base",
     "model_name": "LayoutModel",
     "model_module_version": "1.2.0",
     "state": {
      "_model_module": "@jupyter-widgets/base",
      "_model_module_version": "1.2.0",
      "_model_name": "LayoutModel",
      "_view_count": null,
      "_view_module": "@jupyter-widgets/base",
      "_view_module_version": "1.2.0",
      "_view_name": "LayoutView",
      "align_content": null,
      "align_items": null,
      "align_self": null,
      "border": null,
      "bottom": null,
      "display": null,
      "flex": null,
      "flex_flow": null,
      "grid_area": null,
      "grid_auto_columns": null,
      "grid_auto_flow": null,
      "grid_auto_rows": null,
      "grid_column": null,
      "grid_gap": null,
      "grid_row": null,
      "grid_template_areas": null,
      "grid_template_columns": null,
      "grid_template_rows": null,
      "height": null,
      "justify_content": null,
      "justify_items": null,
      "left": null,
      "margin": null,
      "max_height": null,
      "max_width": null,
      "min_height": null,
      "min_width": null,
      "object_fit": null,
      "object_position": null,
      "order": null,
      "overflow": null,
      "overflow_x": null,
      "overflow_y": null,
      "padding": null,
      "right": null,
      "top": null,
      "visibility": null,
      "width": null
     }
    },
    "f72179f234244a13a3de343c6872b3d7": {
     "model_module": "@jupyter-widgets/controls",
     "model_name": "DescriptionStyleModel",
     "model_module_version": "1.5.0",
     "state": {
      "_model_module": "@jupyter-widgets/controls",
      "_model_module_version": "1.5.0",
      "_model_name": "DescriptionStyleModel",
      "_view_count": null,
      "_view_module": "@jupyter-widgets/base",
      "_view_module_version": "1.2.0",
      "_view_name": "StyleView",
      "description_width": ""
     }
    },
    "26508e58940940cba58eed1c557595a4": {
     "model_module": "@jupyter-widgets/base",
     "model_name": "LayoutModel",
     "model_module_version": "1.2.0",
     "state": {
      "_model_module": "@jupyter-widgets/base",
      "_model_module_version": "1.2.0",
      "_model_name": "LayoutModel",
      "_view_count": null,
      "_view_module": "@jupyter-widgets/base",
      "_view_module_version": "1.2.0",
      "_view_name": "LayoutView",
      "align_content": null,
      "align_items": null,
      "align_self": null,
      "border": null,
      "bottom": null,
      "display": null,
      "flex": null,
      "flex_flow": null,
      "grid_area": null,
      "grid_auto_columns": null,
      "grid_auto_flow": null,
      "grid_auto_rows": null,
      "grid_column": null,
      "grid_gap": null,
      "grid_row": null,
      "grid_template_areas": null,
      "grid_template_columns": null,
      "grid_template_rows": null,
      "height": null,
      "justify_content": null,
      "justify_items": null,
      "left": null,
      "margin": null,
      "max_height": null,
      "max_width": null,
      "min_height": null,
      "min_width": null,
      "object_fit": null,
      "object_position": null,
      "order": null,
      "overflow": null,
      "overflow_x": null,
      "overflow_y": null,
      "padding": null,
      "right": null,
      "top": null,
      "visibility": null,
      "width": null
     }
    },
    "eaaf9dae8aee46248174488155442bb9": {
     "model_module": "@jupyter-widgets/controls",
     "model_name": "ProgressStyleModel",
     "model_module_version": "1.5.0",
     "state": {
      "_model_module": "@jupyter-widgets/controls",
      "_model_module_version": "1.5.0",
      "_model_name": "ProgressStyleModel",
      "_view_count": null,
      "_view_module": "@jupyter-widgets/base",
      "_view_module_version": "1.2.0",
      "_view_name": "StyleView",
      "bar_color": null,
      "description_width": ""
     }
    },
    "483e89ea44024078be6e85e1cd64e285": {
     "model_module": "@jupyter-widgets/base",
     "model_name": "LayoutModel",
     "model_module_version": "1.2.0",
     "state": {
      "_model_module": "@jupyter-widgets/base",
      "_model_module_version": "1.2.0",
      "_model_name": "LayoutModel",
      "_view_count": null,
      "_view_module": "@jupyter-widgets/base",
      "_view_module_version": "1.2.0",
      "_view_name": "LayoutView",
      "align_content": null,
      "align_items": null,
      "align_self": null,
      "border": null,
      "bottom": null,
      "display": null,
      "flex": null,
      "flex_flow": null,
      "grid_area": null,
      "grid_auto_columns": null,
      "grid_auto_flow": null,
      "grid_auto_rows": null,
      "grid_column": null,
      "grid_gap": null,
      "grid_row": null,
      "grid_template_areas": null,
      "grid_template_columns": null,
      "grid_template_rows": null,
      "height": null,
      "justify_content": null,
      "justify_items": null,
      "left": null,
      "margin": null,
      "max_height": null,
      "max_width": null,
      "min_height": null,
      "min_width": null,
      "object_fit": null,
      "object_position": null,
      "order": null,
      "overflow": null,
      "overflow_x": null,
      "overflow_y": null,
      "padding": null,
      "right": null,
      "top": null,
      "visibility": null,
      "width": null
     }
    },
    "0f6bfbb427024d5f8023b8137d32a97e": {
     "model_module": "@jupyter-widgets/controls",
     "model_name": "DescriptionStyleModel",
     "model_module_version": "1.5.0",
     "state": {
      "_model_module": "@jupyter-widgets/controls",
      "_model_module_version": "1.5.0",
      "_model_name": "DescriptionStyleModel",
      "_view_count": null,
      "_view_module": "@jupyter-widgets/base",
      "_view_module_version": "1.2.0",
      "_view_name": "StyleView",
      "description_width": ""
     }
    },
    "8330d8a4904a430f93d01f87c2487914": {
     "model_module": "@jupyter-widgets/controls",
     "model_name": "HBoxModel",
     "model_module_version": "1.5.0",
     "state": {
      "_dom_classes": [],
      "_model_module": "@jupyter-widgets/controls",
      "_model_module_version": "1.5.0",
      "_model_name": "HBoxModel",
      "_view_count": null,
      "_view_module": "@jupyter-widgets/controls",
      "_view_module_version": "1.5.0",
      "_view_name": "HBoxView",
      "box_style": "",
      "children": [
       "IPY_MODEL_768e76ed564545d48a06e97f8e59b20a",
       "IPY_MODEL_6aef5e149e8b471f8ba4399b378dd456",
       "IPY_MODEL_6f5d27badb2b4dd98cecd145a265d2aa"
      ],
      "layout": "IPY_MODEL_b0518733ceed4e6789c61e4e579d20ff"
     }
    },
    "768e76ed564545d48a06e97f8e59b20a": {
     "model_module": "@jupyter-widgets/controls",
     "model_name": "HTMLModel",
     "model_module_version": "1.5.0",
     "state": {
      "_dom_classes": [],
      "_model_module": "@jupyter-widgets/controls",
      "_model_module_version": "1.5.0",
      "_model_name": "HTMLModel",
      "_view_count": null,
      "_view_module": "@jupyter-widgets/controls",
      "_view_module_version": "1.5.0",
      "_view_name": "HTMLView",
      "description": "",
      "description_tooltip": null,
      "layout": "IPY_MODEL_ec756514f4fe4870bc20081683e26a2a",
      "placeholder": "​",
      "style": "IPY_MODEL_5c88cda958af4e868bb2940345530937",
      "value": "100%"
     }
    },
    "6aef5e149e8b471f8ba4399b378dd456": {
     "model_module": "@jupyter-widgets/controls",
     "model_name": "FloatProgressModel",
     "model_module_version": "1.5.0",
     "state": {
      "_dom_classes": [],
      "_model_module": "@jupyter-widgets/controls",
      "_model_module_version": "1.5.0",
      "_model_name": "FloatProgressModel",
      "_view_count": null,
      "_view_module": "@jupyter-widgets/controls",
      "_view_module_version": "1.5.0",
      "_view_name": "ProgressView",
      "bar_style": "success",
      "description": "",
      "description_tooltip": null,
      "layout": "IPY_MODEL_14134edbeb934816840ed0601fa158e9",
      "max": 12,
      "min": 0,
      "orientation": "horizontal",
      "style": "IPY_MODEL_9384e885f6b34974981e93212c846cfa",
      "value": 12
     }
    },
    "6f5d27badb2b4dd98cecd145a265d2aa": {
     "model_module": "@jupyter-widgets/controls",
     "model_name": "HTMLModel",
     "model_module_version": "1.5.0",
     "state": {
      "_dom_classes": [],
      "_model_module": "@jupyter-widgets/controls",
      "_model_module_version": "1.5.0",
      "_model_name": "HTMLModel",
      "_view_count": null,
      "_view_module": "@jupyter-widgets/controls",
      "_view_module_version": "1.5.0",
      "_view_name": "HTMLView",
      "description": "",
      "description_tooltip": null,
      "layout": "IPY_MODEL_ea09f00377f541a9a87fad0c8e98dc2d",
      "placeholder": "​",
      "style": "IPY_MODEL_8b0ddb6284ef4642b787289a6d9667e4",
      "value": " 12/12 [00:38&lt;00:00,  3.00s/it]"
     }
    },
    "b0518733ceed4e6789c61e4e579d20ff": {
     "model_module": "@jupyter-widgets/base",
     "model_name": "LayoutModel",
     "model_module_version": "1.2.0",
     "state": {
      "_model_module": "@jupyter-widgets/base",
      "_model_module_version": "1.2.0",
      "_model_name": "LayoutModel",
      "_view_count": null,
      "_view_module": "@jupyter-widgets/base",
      "_view_module_version": "1.2.0",
      "_view_name": "LayoutView",
      "align_content": null,
      "align_items": null,
      "align_self": null,
      "border": null,
      "bottom": null,
      "display": null,
      "flex": null,
      "flex_flow": null,
      "grid_area": null,
      "grid_auto_columns": null,
      "grid_auto_flow": null,
      "grid_auto_rows": null,
      "grid_column": null,
      "grid_gap": null,
      "grid_row": null,
      "grid_template_areas": null,
      "grid_template_columns": null,
      "grid_template_rows": null,
      "height": null,
      "justify_content": null,
      "justify_items": null,
      "left": null,
      "margin": null,
      "max_height": null,
      "max_width": null,
      "min_height": null,
      "min_width": null,
      "object_fit": null,
      "object_position": null,
      "order": null,
      "overflow": null,
      "overflow_x": null,
      "overflow_y": null,
      "padding": null,
      "right": null,
      "top": null,
      "visibility": null,
      "width": null
     }
    },
    "ec756514f4fe4870bc20081683e26a2a": {
     "model_module": "@jupyter-widgets/base",
     "model_name": "LayoutModel",
     "model_module_version": "1.2.0",
     "state": {
      "_model_module": "@jupyter-widgets/base",
      "_model_module_version": "1.2.0",
      "_model_name": "LayoutModel",
      "_view_count": null,
      "_view_module": "@jupyter-widgets/base",
      "_view_module_version": "1.2.0",
      "_view_name": "LayoutView",
      "align_content": null,
      "align_items": null,
      "align_self": null,
      "border": null,
      "bottom": null,
      "display": null,
      "flex": null,
      "flex_flow": null,
      "grid_area": null,
      "grid_auto_columns": null,
      "grid_auto_flow": null,
      "grid_auto_rows": null,
      "grid_column": null,
      "grid_gap": null,
      "grid_row": null,
      "grid_template_areas": null,
      "grid_template_columns": null,
      "grid_template_rows": null,
      "height": null,
      "justify_content": null,
      "justify_items": null,
      "left": null,
      "margin": null,
      "max_height": null,
      "max_width": null,
      "min_height": null,
      "min_width": null,
      "object_fit": null,
      "object_position": null,
      "order": null,
      "overflow": null,
      "overflow_x": null,
      "overflow_y": null,
      "padding": null,
      "right": null,
      "top": null,
      "visibility": null,
      "width": null
     }
    },
    "5c88cda958af4e868bb2940345530937": {
     "model_module": "@jupyter-widgets/controls",
     "model_name": "DescriptionStyleModel",
     "model_module_version": "1.5.0",
     "state": {
      "_model_module": "@jupyter-widgets/controls",
      "_model_module_version": "1.5.0",
      "_model_name": "DescriptionStyleModel",
      "_view_count": null,
      "_view_module": "@jupyter-widgets/base",
      "_view_module_version": "1.2.0",
      "_view_name": "StyleView",
      "description_width": ""
     }
    },
    "14134edbeb934816840ed0601fa158e9": {
     "model_module": "@jupyter-widgets/base",
     "model_name": "LayoutModel",
     "model_module_version": "1.2.0",
     "state": {
      "_model_module": "@jupyter-widgets/base",
      "_model_module_version": "1.2.0",
      "_model_name": "LayoutModel",
      "_view_count": null,
      "_view_module": "@jupyter-widgets/base",
      "_view_module_version": "1.2.0",
      "_view_name": "LayoutView",
      "align_content": null,
      "align_items": null,
      "align_self": null,
      "border": null,
      "bottom": null,
      "display": null,
      "flex": null,
      "flex_flow": null,
      "grid_area": null,
      "grid_auto_columns": null,
      "grid_auto_flow": null,
      "grid_auto_rows": null,
      "grid_column": null,
      "grid_gap": null,
      "grid_row": null,
      "grid_template_areas": null,
      "grid_template_columns": null,
      "grid_template_rows": null,
      "height": null,
      "justify_content": null,
      "justify_items": null,
      "left": null,
      "margin": null,
      "max_height": null,
      "max_width": null,
      "min_height": null,
      "min_width": null,
      "object_fit": null,
      "object_position": null,
      "order": null,
      "overflow": null,
      "overflow_x": null,
      "overflow_y": null,
      "padding": null,
      "right": null,
      "top": null,
      "visibility": null,
      "width": null
     }
    },
    "9384e885f6b34974981e93212c846cfa": {
     "model_module": "@jupyter-widgets/controls",
     "model_name": "ProgressStyleModel",
     "model_module_version": "1.5.0",
     "state": {
      "_model_module": "@jupyter-widgets/controls",
      "_model_module_version": "1.5.0",
      "_model_name": "ProgressStyleModel",
      "_view_count": null,
      "_view_module": "@jupyter-widgets/base",
      "_view_module_version": "1.2.0",
      "_view_name": "StyleView",
      "bar_color": null,
      "description_width": ""
     }
    },
    "ea09f00377f541a9a87fad0c8e98dc2d": {
     "model_module": "@jupyter-widgets/base",
     "model_name": "LayoutModel",
     "model_module_version": "1.2.0",
     "state": {
      "_model_module": "@jupyter-widgets/base",
      "_model_module_version": "1.2.0",
      "_model_name": "LayoutModel",
      "_view_count": null,
      "_view_module": "@jupyter-widgets/base",
      "_view_module_version": "1.2.0",
      "_view_name": "LayoutView",
      "align_content": null,
      "align_items": null,
      "align_self": null,
      "border": null,
      "bottom": null,
      "display": null,
      "flex": null,
      "flex_flow": null,
      "grid_area": null,
      "grid_auto_columns": null,
      "grid_auto_flow": null,
      "grid_auto_rows": null,
      "grid_column": null,
      "grid_gap": null,
      "grid_row": null,
      "grid_template_areas": null,
      "grid_template_columns": null,
      "grid_template_rows": null,
      "height": null,
      "justify_content": null,
      "justify_items": null,
      "left": null,
      "margin": null,
      "max_height": null,
      "max_width": null,
      "min_height": null,
      "min_width": null,
      "object_fit": null,
      "object_position": null,
      "order": null,
      "overflow": null,
      "overflow_x": null,
      "overflow_y": null,
      "padding": null,
      "right": null,
      "top": null,
      "visibility": null,
      "width": null
     }
    },
    "8b0ddb6284ef4642b787289a6d9667e4": {
     "model_module": "@jupyter-widgets/controls",
     "model_name": "DescriptionStyleModel",
     "model_module_version": "1.5.0",
     "state": {
      "_model_module": "@jupyter-widgets/controls",
      "_model_module_version": "1.5.0",
      "_model_name": "DescriptionStyleModel",
      "_view_count": null,
      "_view_module": "@jupyter-widgets/base",
      "_view_module_version": "1.2.0",
      "_view_name": "StyleView",
      "description_width": ""
     }
    },
    "0468416afa644fcd85471519fa2c4004": {
     "model_module": "@jupyter-widgets/controls",
     "model_name": "HBoxModel",
     "model_module_version": "1.5.0",
     "state": {
      "_dom_classes": [],
      "_model_module": "@jupyter-widgets/controls",
      "_model_module_version": "1.5.0",
      "_model_name": "HBoxModel",
      "_view_count": null,
      "_view_module": "@jupyter-widgets/controls",
      "_view_module_version": "1.5.0",
      "_view_name": "HBoxView",
      "box_style": "",
      "children": [
       "IPY_MODEL_6993fec403f545128050acd6ec57d666",
       "IPY_MODEL_76ca09c7ede64585972e76cb0074b900",
       "IPY_MODEL_7f25d607924e42d38b1b834305e83179"
      ],
      "layout": "IPY_MODEL_b00a9236901b44f8adf5d30fa3f64c18"
     }
    },
    "6993fec403f545128050acd6ec57d666": {
     "model_module": "@jupyter-widgets/controls",
     "model_name": "HTMLModel",
     "model_module_version": "1.5.0",
     "state": {
      "_dom_classes": [],
      "_model_module": "@jupyter-widgets/controls",
      "_model_module_version": "1.5.0",
      "_model_name": "HTMLModel",
      "_view_count": null,
      "_view_module": "@jupyter-widgets/controls",
      "_view_module_version": "1.5.0",
      "_view_name": "HTMLView",
      "description": "",
      "description_tooltip": null,
      "layout": "IPY_MODEL_a6d9b22790634be992ece2063fecfd72",
      "placeholder": "​",
      "style": "IPY_MODEL_7bbae46927aa4af09dd2a7063b3c4c52",
      "value": "100%"
     }
    },
    "76ca09c7ede64585972e76cb0074b900": {
     "model_module": "@jupyter-widgets/controls",
     "model_name": "FloatProgressModel",
     "model_module_version": "1.5.0",
     "state": {
      "_dom_classes": [],
      "_model_module": "@jupyter-widgets/controls",
      "_model_module_version": "1.5.0",
      "_model_name": "FloatProgressModel",
      "_view_count": null,
      "_view_module": "@jupyter-widgets/controls",
      "_view_module_version": "1.5.0",
      "_view_name": "ProgressView",
      "bar_style": "success",
      "description": "",
      "description_tooltip": null,
      "layout": "IPY_MODEL_f684316a9e174889bb0b58eadd5f2cdd",
      "max": 12,
      "min": 0,
      "orientation": "horizontal",
      "style": "IPY_MODEL_8d46ee370c8e4405803b7855333f7950",
      "value": 12
     }
    },
    "7f25d607924e42d38b1b834305e83179": {
     "model_module": "@jupyter-widgets/controls",
     "model_name": "HTMLModel",
     "model_module_version": "1.5.0",
     "state": {
      "_dom_classes": [],
      "_model_module": "@jupyter-widgets/controls",
      "_model_module_version": "1.5.0",
      "_model_name": "HTMLModel",
      "_view_count": null,
      "_view_module": "@jupyter-widgets/controls",
      "_view_module_version": "1.5.0",
      "_view_name": "HTMLView",
      "description": "",
      "description_tooltip": null,
      "layout": "IPY_MODEL_71f663a40bb341879fce62433e6aae68",
      "placeholder": "​",
      "style": "IPY_MODEL_690e0ea154114e85b7fdc43d44c1ff49",
      "value": " 12/12 [00:12&lt;00:00,  1.14it/s]"
     }
    },
    "b00a9236901b44f8adf5d30fa3f64c18": {
     "model_module": "@jupyter-widgets/base",
     "model_name": "LayoutModel",
     "model_module_version": "1.2.0",
     "state": {
      "_model_module": "@jupyter-widgets/base",
      "_model_module_version": "1.2.0",
      "_model_name": "LayoutModel",
      "_view_count": null,
      "_view_module": "@jupyter-widgets/base",
      "_view_module_version": "1.2.0",
      "_view_name": "LayoutView",
      "align_content": null,
      "align_items": null,
      "align_self": null,
      "border": null,
      "bottom": null,
      "display": null,
      "flex": null,
      "flex_flow": null,
      "grid_area": null,
      "grid_auto_columns": null,
      "grid_auto_flow": null,
      "grid_auto_rows": null,
      "grid_column": null,
      "grid_gap": null,
      "grid_row": null,
      "grid_template_areas": null,
      "grid_template_columns": null,
      "grid_template_rows": null,
      "height": null,
      "justify_content": null,
      "justify_items": null,
      "left": null,
      "margin": null,
      "max_height": null,
      "max_width": null,
      "min_height": null,
      "min_width": null,
      "object_fit": null,
      "object_position": null,
      "order": null,
      "overflow": null,
      "overflow_x": null,
      "overflow_y": null,
      "padding": null,
      "right": null,
      "top": null,
      "visibility": null,
      "width": null
     }
    },
    "a6d9b22790634be992ece2063fecfd72": {
     "model_module": "@jupyter-widgets/base",
     "model_name": "LayoutModel",
     "model_module_version": "1.2.0",
     "state": {
      "_model_module": "@jupyter-widgets/base",
      "_model_module_version": "1.2.0",
      "_model_name": "LayoutModel",
      "_view_count": null,
      "_view_module": "@jupyter-widgets/base",
      "_view_module_version": "1.2.0",
      "_view_name": "LayoutView",
      "align_content": null,
      "align_items": null,
      "align_self": null,
      "border": null,
      "bottom": null,
      "display": null,
      "flex": null,
      "flex_flow": null,
      "grid_area": null,
      "grid_auto_columns": null,
      "grid_auto_flow": null,
      "grid_auto_rows": null,
      "grid_column": null,
      "grid_gap": null,
      "grid_row": null,
      "grid_template_areas": null,
      "grid_template_columns": null,
      "grid_template_rows": null,
      "height": null,
      "justify_content": null,
      "justify_items": null,
      "left": null,
      "margin": null,
      "max_height": null,
      "max_width": null,
      "min_height": null,
      "min_width": null,
      "object_fit": null,
      "object_position": null,
      "order": null,
      "overflow": null,
      "overflow_x": null,
      "overflow_y": null,
      "padding": null,
      "right": null,
      "top": null,
      "visibility": null,
      "width": null
     }
    },
    "7bbae46927aa4af09dd2a7063b3c4c52": {
     "model_module": "@jupyter-widgets/controls",
     "model_name": "DescriptionStyleModel",
     "model_module_version": "1.5.0",
     "state": {
      "_model_module": "@jupyter-widgets/controls",
      "_model_module_version": "1.5.0",
      "_model_name": "DescriptionStyleModel",
      "_view_count": null,
      "_view_module": "@jupyter-widgets/base",
      "_view_module_version": "1.2.0",
      "_view_name": "StyleView",
      "description_width": ""
     }
    },
    "f684316a9e174889bb0b58eadd5f2cdd": {
     "model_module": "@jupyter-widgets/base",
     "model_name": "LayoutModel",
     "model_module_version": "1.2.0",
     "state": {
      "_model_module": "@jupyter-widgets/base",
      "_model_module_version": "1.2.0",
      "_model_name": "LayoutModel",
      "_view_count": null,
      "_view_module": "@jupyter-widgets/base",
      "_view_module_version": "1.2.0",
      "_view_name": "LayoutView",
      "align_content": null,
      "align_items": null,
      "align_self": null,
      "border": null,
      "bottom": null,
      "display": null,
      "flex": null,
      "flex_flow": null,
      "grid_area": null,
      "grid_auto_columns": null,
      "grid_auto_flow": null,
      "grid_auto_rows": null,
      "grid_column": null,
      "grid_gap": null,
      "grid_row": null,
      "grid_template_areas": null,
      "grid_template_columns": null,
      "grid_template_rows": null,
      "height": null,
      "justify_content": null,
      "justify_items": null,
      "left": null,
      "margin": null,
      "max_height": null,
      "max_width": null,
      "min_height": null,
      "min_width": null,
      "object_fit": null,
      "object_position": null,
      "order": null,
      "overflow": null,
      "overflow_x": null,
      "overflow_y": null,
      "padding": null,
      "right": null,
      "top": null,
      "visibility": null,
      "width": null
     }
    },
    "8d46ee370c8e4405803b7855333f7950": {
     "model_module": "@jupyter-widgets/controls",
     "model_name": "ProgressStyleModel",
     "model_module_version": "1.5.0",
     "state": {
      "_model_module": "@jupyter-widgets/controls",
      "_model_module_version": "1.5.0",
      "_model_name": "ProgressStyleModel",
      "_view_count": null,
      "_view_module": "@jupyter-widgets/base",
      "_view_module_version": "1.2.0",
      "_view_name": "StyleView",
      "bar_color": null,
      "description_width": ""
     }
    },
    "71f663a40bb341879fce62433e6aae68": {
     "model_module": "@jupyter-widgets/base",
     "model_name": "LayoutModel",
     "model_module_version": "1.2.0",
     "state": {
      "_model_module": "@jupyter-widgets/base",
      "_model_module_version": "1.2.0",
      "_model_name": "LayoutModel",
      "_view_count": null,
      "_view_module": "@jupyter-widgets/base",
      "_view_module_version": "1.2.0",
      "_view_name": "LayoutView",
      "align_content": null,
      "align_items": null,
      "align_self": null,
      "border": null,
      "bottom": null,
      "display": null,
      "flex": null,
      "flex_flow": null,
      "grid_area": null,
      "grid_auto_columns": null,
      "grid_auto_flow": null,
      "grid_auto_rows": null,
      "grid_column": null,
      "grid_gap": null,
      "grid_row": null,
      "grid_template_areas": null,
      "grid_template_columns": null,
      "grid_template_rows": null,
      "height": null,
      "justify_content": null,
      "justify_items": null,
      "left": null,
      "margin": null,
      "max_height": null,
      "max_width": null,
      "min_height": null,
      "min_width": null,
      "object_fit": null,
      "object_position": null,
      "order": null,
      "overflow": null,
      "overflow_x": null,
      "overflow_y": null,
      "padding": null,
      "right": null,
      "top": null,
      "visibility": null,
      "width": null
     }
    },
    "690e0ea154114e85b7fdc43d44c1ff49": {
     "model_module": "@jupyter-widgets/controls",
     "model_name": "DescriptionStyleModel",
     "model_module_version": "1.5.0",
     "state": {
      "_model_module": "@jupyter-widgets/controls",
      "_model_module_version": "1.5.0",
      "_model_name": "DescriptionStyleModel",
      "_view_count": null,
      "_view_module": "@jupyter-widgets/base",
      "_view_module_version": "1.2.0",
      "_view_name": "StyleView",
      "description_width": ""
     }
    },
    "1f48b0c731c8491b847ec2a7804b414b": {
     "model_module": "@jupyter-widgets/controls",
     "model_name": "HBoxModel",
     "model_module_version": "1.5.0",
     "state": {
      "_dom_classes": [],
      "_model_module": "@jupyter-widgets/controls",
      "_model_module_version": "1.5.0",
      "_model_name": "HBoxModel",
      "_view_count": null,
      "_view_module": "@jupyter-widgets/controls",
      "_view_module_version": "1.5.0",
      "_view_name": "HBoxView",
      "box_style": "",
      "children": [
       "IPY_MODEL_403796b6f185498090139bfa49413e6f",
       "IPY_MODEL_65645798fe6a4b66b0ca4172285e6ff4",
       "IPY_MODEL_1a5f42613fa94602b4de50d6bc6f7366"
      ],
      "layout": "IPY_MODEL_36567adb394e4528aa2eeb0d7913d1b1"
     }
    },
    "403796b6f185498090139bfa49413e6f": {
     "model_module": "@jupyter-widgets/controls",
     "model_name": "HTMLModel",
     "model_module_version": "1.5.0",
     "state": {
      "_dom_classes": [],
      "_model_module": "@jupyter-widgets/controls",
      "_model_module_version": "1.5.0",
      "_model_name": "HTMLModel",
      "_view_count": null,
      "_view_module": "@jupyter-widgets/controls",
      "_view_module_version": "1.5.0",
      "_view_name": "HTMLView",
      "description": "",
      "description_tooltip": null,
      "layout": "IPY_MODEL_39639b521d294672b14f7a800e6c2f53",
      "placeholder": "​",
      "style": "IPY_MODEL_ec708be781cb42ccb6c3448bcf16b0a9",
      "value": "100%"
     }
    },
    "65645798fe6a4b66b0ca4172285e6ff4": {
     "model_module": "@jupyter-widgets/controls",
     "model_name": "FloatProgressModel",
     "model_module_version": "1.5.0",
     "state": {
      "_dom_classes": [],
      "_model_module": "@jupyter-widgets/controls",
      "_model_module_version": "1.5.0",
      "_model_name": "FloatProgressModel",
      "_view_count": null,
      "_view_module": "@jupyter-widgets/controls",
      "_view_module_version": "1.5.0",
      "_view_name": "ProgressView",
      "bar_style": "success",
      "description": "",
      "description_tooltip": null,
      "layout": "IPY_MODEL_476fa713dd2e42d88f491d59ad78b485",
      "max": 12,
      "min": 0,
      "orientation": "horizontal",
      "style": "IPY_MODEL_3e7b069d2c25436490c9fb48eaaf9d89",
      "value": 12
     }
    },
    "1a5f42613fa94602b4de50d6bc6f7366": {
     "model_module": "@jupyter-widgets/controls",
     "model_name": "HTMLModel",
     "model_module_version": "1.5.0",
     "state": {
      "_dom_classes": [],
      "_model_module": "@jupyter-widgets/controls",
      "_model_module_version": "1.5.0",
      "_model_name": "HTMLModel",
      "_view_count": null,
      "_view_module": "@jupyter-widgets/controls",
      "_view_module_version": "1.5.0",
      "_view_name": "HTMLView",
      "description": "",
      "description_tooltip": null,
      "layout": "IPY_MODEL_9d3f2a548f00435d9fd9ca43aa90112c",
      "placeholder": "​",
      "style": "IPY_MODEL_b16f69420ff9444cb815c3142eb48275",
      "value": " 12/12 [00:16&lt;00:00,  1.21s/it]"
     }
    },
    "36567adb394e4528aa2eeb0d7913d1b1": {
     "model_module": "@jupyter-widgets/base",
     "model_name": "LayoutModel",
     "model_module_version": "1.2.0",
     "state": {
      "_model_module": "@jupyter-widgets/base",
      "_model_module_version": "1.2.0",
      "_model_name": "LayoutModel",
      "_view_count": null,
      "_view_module": "@jupyter-widgets/base",
      "_view_module_version": "1.2.0",
      "_view_name": "LayoutView",
      "align_content": null,
      "align_items": null,
      "align_self": null,
      "border": null,
      "bottom": null,
      "display": null,
      "flex": null,
      "flex_flow": null,
      "grid_area": null,
      "grid_auto_columns": null,
      "grid_auto_flow": null,
      "grid_auto_rows": null,
      "grid_column": null,
      "grid_gap": null,
      "grid_row": null,
      "grid_template_areas": null,
      "grid_template_columns": null,
      "grid_template_rows": null,
      "height": null,
      "justify_content": null,
      "justify_items": null,
      "left": null,
      "margin": null,
      "max_height": null,
      "max_width": null,
      "min_height": null,
      "min_width": null,
      "object_fit": null,
      "object_position": null,
      "order": null,
      "overflow": null,
      "overflow_x": null,
      "overflow_y": null,
      "padding": null,
      "right": null,
      "top": null,
      "visibility": null,
      "width": null
     }
    },
    "39639b521d294672b14f7a800e6c2f53": {
     "model_module": "@jupyter-widgets/base",
     "model_name": "LayoutModel",
     "model_module_version": "1.2.0",
     "state": {
      "_model_module": "@jupyter-widgets/base",
      "_model_module_version": "1.2.0",
      "_model_name": "LayoutModel",
      "_view_count": null,
      "_view_module": "@jupyter-widgets/base",
      "_view_module_version": "1.2.0",
      "_view_name": "LayoutView",
      "align_content": null,
      "align_items": null,
      "align_self": null,
      "border": null,
      "bottom": null,
      "display": null,
      "flex": null,
      "flex_flow": null,
      "grid_area": null,
      "grid_auto_columns": null,
      "grid_auto_flow": null,
      "grid_auto_rows": null,
      "grid_column": null,
      "grid_gap": null,
      "grid_row": null,
      "grid_template_areas": null,
      "grid_template_columns": null,
      "grid_template_rows": null,
      "height": null,
      "justify_content": null,
      "justify_items": null,
      "left": null,
      "margin": null,
      "max_height": null,
      "max_width": null,
      "min_height": null,
      "min_width": null,
      "object_fit": null,
      "object_position": null,
      "order": null,
      "overflow": null,
      "overflow_x": null,
      "overflow_y": null,
      "padding": null,
      "right": null,
      "top": null,
      "visibility": null,
      "width": null
     }
    },
    "ec708be781cb42ccb6c3448bcf16b0a9": {
     "model_module": "@jupyter-widgets/controls",
     "model_name": "DescriptionStyleModel",
     "model_module_version": "1.5.0",
     "state": {
      "_model_module": "@jupyter-widgets/controls",
      "_model_module_version": "1.5.0",
      "_model_name": "DescriptionStyleModel",
      "_view_count": null,
      "_view_module": "@jupyter-widgets/base",
      "_view_module_version": "1.2.0",
      "_view_name": "StyleView",
      "description_width": ""
     }
    },
    "476fa713dd2e42d88f491d59ad78b485": {
     "model_module": "@jupyter-widgets/base",
     "model_name": "LayoutModel",
     "model_module_version": "1.2.0",
     "state": {
      "_model_module": "@jupyter-widgets/base",
      "_model_module_version": "1.2.0",
      "_model_name": "LayoutModel",
      "_view_count": null,
      "_view_module": "@jupyter-widgets/base",
      "_view_module_version": "1.2.0",
      "_view_name": "LayoutView",
      "align_content": null,
      "align_items": null,
      "align_self": null,
      "border": null,
      "bottom": null,
      "display": null,
      "flex": null,
      "flex_flow": null,
      "grid_area": null,
      "grid_auto_columns": null,
      "grid_auto_flow": null,
      "grid_auto_rows": null,
      "grid_column": null,
      "grid_gap": null,
      "grid_row": null,
      "grid_template_areas": null,
      "grid_template_columns": null,
      "grid_template_rows": null,
      "height": null,
      "justify_content": null,
      "justify_items": null,
      "left": null,
      "margin": null,
      "max_height": null,
      "max_width": null,
      "min_height": null,
      "min_width": null,
      "object_fit": null,
      "object_position": null,
      "order": null,
      "overflow": null,
      "overflow_x": null,
      "overflow_y": null,
      "padding": null,
      "right": null,
      "top": null,
      "visibility": null,
      "width": null
     }
    },
    "3e7b069d2c25436490c9fb48eaaf9d89": {
     "model_module": "@jupyter-widgets/controls",
     "model_name": "ProgressStyleModel",
     "model_module_version": "1.5.0",
     "state": {
      "_model_module": "@jupyter-widgets/controls",
      "_model_module_version": "1.5.0",
      "_model_name": "ProgressStyleModel",
      "_view_count": null,
      "_view_module": "@jupyter-widgets/base",
      "_view_module_version": "1.2.0",
      "_view_name": "StyleView",
      "bar_color": null,
      "description_width": ""
     }
    },
    "9d3f2a548f00435d9fd9ca43aa90112c": {
     "model_module": "@jupyter-widgets/base",
     "model_name": "LayoutModel",
     "model_module_version": "1.2.0",
     "state": {
      "_model_module": "@jupyter-widgets/base",
      "_model_module_version": "1.2.0",
      "_model_name": "LayoutModel",
      "_view_count": null,
      "_view_module": "@jupyter-widgets/base",
      "_view_module_version": "1.2.0",
      "_view_name": "LayoutView",
      "align_content": null,
      "align_items": null,
      "align_self": null,
      "border": null,
      "bottom": null,
      "display": null,
      "flex": null,
      "flex_flow": null,
      "grid_area": null,
      "grid_auto_columns": null,
      "grid_auto_flow": null,
      "grid_auto_rows": null,
      "grid_column": null,
      "grid_gap": null,
      "grid_row": null,
      "grid_template_areas": null,
      "grid_template_columns": null,
      "grid_template_rows": null,
      "height": null,
      "justify_content": null,
      "justify_items": null,
      "left": null,
      "margin": null,
      "max_height": null,
      "max_width": null,
      "min_height": null,
      "min_width": null,
      "object_fit": null,
      "object_position": null,
      "order": null,
      "overflow": null,
      "overflow_x": null,
      "overflow_y": null,
      "padding": null,
      "right": null,
      "top": null,
      "visibility": null,
      "width": null
     }
    },
    "b16f69420ff9444cb815c3142eb48275": {
     "model_module": "@jupyter-widgets/controls",
     "model_name": "DescriptionStyleModel",
     "model_module_version": "1.5.0",
     "state": {
      "_model_module": "@jupyter-widgets/controls",
      "_model_module_version": "1.5.0",
      "_model_name": "DescriptionStyleModel",
      "_view_count": null,
      "_view_module": "@jupyter-widgets/base",
      "_view_module_version": "1.2.0",
      "_view_name": "StyleView",
      "description_width": ""
     }
    },
    "8650df8b029640e7ac08e303f15b5b40": {
     "model_module": "@jupyter-widgets/controls",
     "model_name": "HBoxModel",
     "model_module_version": "1.5.0",
     "state": {
      "_dom_classes": [],
      "_model_module": "@jupyter-widgets/controls",
      "_model_module_version": "1.5.0",
      "_model_name": "HBoxModel",
      "_view_count": null,
      "_view_module": "@jupyter-widgets/controls",
      "_view_module_version": "1.5.0",
      "_view_name": "HBoxView",
      "box_style": "",
      "children": [
       "IPY_MODEL_42ea8cd690d444f5848cb5601d70dccf",
       "IPY_MODEL_2fc37a30813349658796a2d5fb2b186a",
       "IPY_MODEL_c21f1b7521af443897877405cef5831c"
      ],
      "layout": "IPY_MODEL_3b6e94b7d7a44fc1a835d11b869433df"
     }
    },
    "42ea8cd690d444f5848cb5601d70dccf": {
     "model_module": "@jupyter-widgets/controls",
     "model_name": "HTMLModel",
     "model_module_version": "1.5.0",
     "state": {
      "_dom_classes": [],
      "_model_module": "@jupyter-widgets/controls",
      "_model_module_version": "1.5.0",
      "_model_name": "HTMLModel",
      "_view_count": null,
      "_view_module": "@jupyter-widgets/controls",
      "_view_module_version": "1.5.0",
      "_view_name": "HTMLView",
      "description": "",
      "description_tooltip": null,
      "layout": "IPY_MODEL_27967907d6314f289d7990ce22c094a0",
      "placeholder": "​",
      "style": "IPY_MODEL_abea23fd48e74bb3ba432f3290e50353",
      "value": "100%"
     }
    },
    "2fc37a30813349658796a2d5fb2b186a": {
     "model_module": "@jupyter-widgets/controls",
     "model_name": "FloatProgressModel",
     "model_module_version": "1.5.0",
     "state": {
      "_dom_classes": [],
      "_model_module": "@jupyter-widgets/controls",
      "_model_module_version": "1.5.0",
      "_model_name": "FloatProgressModel",
      "_view_count": null,
      "_view_module": "@jupyter-widgets/controls",
      "_view_module_version": "1.5.0",
      "_view_name": "ProgressView",
      "bar_style": "success",
      "description": "",
      "description_tooltip": null,
      "layout": "IPY_MODEL_b5228581fa5f43329405302ef77d5247",
      "max": 3,
      "min": 0,
      "orientation": "horizontal",
      "style": "IPY_MODEL_b844645bb17449648012176f1594d30b",
      "value": 3
     }
    },
    "c21f1b7521af443897877405cef5831c": {
     "model_module": "@jupyter-widgets/controls",
     "model_name": "HTMLModel",
     "model_module_version": "1.5.0",
     "state": {
      "_dom_classes": [],
      "_model_module": "@jupyter-widgets/controls",
      "_model_module_version": "1.5.0",
      "_model_name": "HTMLModel",
      "_view_count": null,
      "_view_module": "@jupyter-widgets/controls",
      "_view_module_version": "1.5.0",
      "_view_name": "HTMLView",
      "description": "",
      "description_tooltip": null,
      "layout": "IPY_MODEL_2498cb51c5f84753907b9d16d5a06dee",
      "placeholder": "​",
      "style": "IPY_MODEL_1595b1217d6a47c28ab9b63d7d8ac9c3",
      "value": " 3/3 [01:07&lt;00:00, 19.44s/it]"
     }
    },
    "3b6e94b7d7a44fc1a835d11b869433df": {
     "model_module": "@jupyter-widgets/base",
     "model_name": "LayoutModel",
     "model_module_version": "1.2.0",
     "state": {
      "_model_module": "@jupyter-widgets/base",
      "_model_module_version": "1.2.0",
      "_model_name": "LayoutModel",
      "_view_count": null,
      "_view_module": "@jupyter-widgets/base",
      "_view_module_version": "1.2.0",
      "_view_name": "LayoutView",
      "align_content": null,
      "align_items": null,
      "align_self": null,
      "border": null,
      "bottom": null,
      "display": null,
      "flex": null,
      "flex_flow": null,
      "grid_area": null,
      "grid_auto_columns": null,
      "grid_auto_flow": null,
      "grid_auto_rows": null,
      "grid_column": null,
      "grid_gap": null,
      "grid_row": null,
      "grid_template_areas": null,
      "grid_template_columns": null,
      "grid_template_rows": null,
      "height": null,
      "justify_content": null,
      "justify_items": null,
      "left": null,
      "margin": null,
      "max_height": null,
      "max_width": null,
      "min_height": null,
      "min_width": null,
      "object_fit": null,
      "object_position": null,
      "order": null,
      "overflow": null,
      "overflow_x": null,
      "overflow_y": null,
      "padding": null,
      "right": null,
      "top": null,
      "visibility": null,
      "width": null
     }
    },
    "27967907d6314f289d7990ce22c094a0": {
     "model_module": "@jupyter-widgets/base",
     "model_name": "LayoutModel",
     "model_module_version": "1.2.0",
     "state": {
      "_model_module": "@jupyter-widgets/base",
      "_model_module_version": "1.2.0",
      "_model_name": "LayoutModel",
      "_view_count": null,
      "_view_module": "@jupyter-widgets/base",
      "_view_module_version": "1.2.0",
      "_view_name": "LayoutView",
      "align_content": null,
      "align_items": null,
      "align_self": null,
      "border": null,
      "bottom": null,
      "display": null,
      "flex": null,
      "flex_flow": null,
      "grid_area": null,
      "grid_auto_columns": null,
      "grid_auto_flow": null,
      "grid_auto_rows": null,
      "grid_column": null,
      "grid_gap": null,
      "grid_row": null,
      "grid_template_areas": null,
      "grid_template_columns": null,
      "grid_template_rows": null,
      "height": null,
      "justify_content": null,
      "justify_items": null,
      "left": null,
      "margin": null,
      "max_height": null,
      "max_width": null,
      "min_height": null,
      "min_width": null,
      "object_fit": null,
      "object_position": null,
      "order": null,
      "overflow": null,
      "overflow_x": null,
      "overflow_y": null,
      "padding": null,
      "right": null,
      "top": null,
      "visibility": null,
      "width": null
     }
    },
    "abea23fd48e74bb3ba432f3290e50353": {
     "model_module": "@jupyter-widgets/controls",
     "model_name": "DescriptionStyleModel",
     "model_module_version": "1.5.0",
     "state": {
      "_model_module": "@jupyter-widgets/controls",
      "_model_module_version": "1.5.0",
      "_model_name": "DescriptionStyleModel",
      "_view_count": null,
      "_view_module": "@jupyter-widgets/base",
      "_view_module_version": "1.2.0",
      "_view_name": "StyleView",
      "description_width": ""
     }
    },
    "b5228581fa5f43329405302ef77d5247": {
     "model_module": "@jupyter-widgets/base",
     "model_name": "LayoutModel",
     "model_module_version": "1.2.0",
     "state": {
      "_model_module": "@jupyter-widgets/base",
      "_model_module_version": "1.2.0",
      "_model_name": "LayoutModel",
      "_view_count": null,
      "_view_module": "@jupyter-widgets/base",
      "_view_module_version": "1.2.0",
      "_view_name": "LayoutView",
      "align_content": null,
      "align_items": null,
      "align_self": null,
      "border": null,
      "bottom": null,
      "display": null,
      "flex": null,
      "flex_flow": null,
      "grid_area": null,
      "grid_auto_columns": null,
      "grid_auto_flow": null,
      "grid_auto_rows": null,
      "grid_column": null,
      "grid_gap": null,
      "grid_row": null,
      "grid_template_areas": null,
      "grid_template_columns": null,
      "grid_template_rows": null,
      "height": null,
      "justify_content": null,
      "justify_items": null,
      "left": null,
      "margin": null,
      "max_height": null,
      "max_width": null,
      "min_height": null,
      "min_width": null,
      "object_fit": null,
      "object_position": null,
      "order": null,
      "overflow": null,
      "overflow_x": null,
      "overflow_y": null,
      "padding": null,
      "right": null,
      "top": null,
      "visibility": null,
      "width": null
     }
    },
    "b844645bb17449648012176f1594d30b": {
     "model_module": "@jupyter-widgets/controls",
     "model_name": "ProgressStyleModel",
     "model_module_version": "1.5.0",
     "state": {
      "_model_module": "@jupyter-widgets/controls",
      "_model_module_version": "1.5.0",
      "_model_name": "ProgressStyleModel",
      "_view_count": null,
      "_view_module": "@jupyter-widgets/base",
      "_view_module_version": "1.2.0",
      "_view_name": "StyleView",
      "bar_color": null,
      "description_width": ""
     }
    },
    "2498cb51c5f84753907b9d16d5a06dee": {
     "model_module": "@jupyter-widgets/base",
     "model_name": "LayoutModel",
     "model_module_version": "1.2.0",
     "state": {
      "_model_module": "@jupyter-widgets/base",
      "_model_module_version": "1.2.0",
      "_model_name": "LayoutModel",
      "_view_count": null,
      "_view_module": "@jupyter-widgets/base",
      "_view_module_version": "1.2.0",
      "_view_name": "LayoutView",
      "align_content": null,
      "align_items": null,
      "align_self": null,
      "border": null,
      "bottom": null,
      "display": null,
      "flex": null,
      "flex_flow": null,
      "grid_area": null,
      "grid_auto_columns": null,
      "grid_auto_flow": null,
      "grid_auto_rows": null,
      "grid_column": null,
      "grid_gap": null,
      "grid_row": null,
      "grid_template_areas": null,
      "grid_template_columns": null,
      "grid_template_rows": null,
      "height": null,
      "justify_content": null,
      "justify_items": null,
      "left": null,
      "margin": null,
      "max_height": null,
      "max_width": null,
      "min_height": null,
      "min_width": null,
      "object_fit": null,
      "object_position": null,
      "order": null,
      "overflow": null,
      "overflow_x": null,
      "overflow_y": null,
      "padding": null,
      "right": null,
      "top": null,
      "visibility": null,
      "width": null
     }
    },
    "1595b1217d6a47c28ab9b63d7d8ac9c3": {
     "model_module": "@jupyter-widgets/controls",
     "model_name": "DescriptionStyleModel",
     "model_module_version": "1.5.0",
     "state": {
      "_model_module": "@jupyter-widgets/controls",
      "_model_module_version": "1.5.0",
      "_model_name": "DescriptionStyleModel",
      "_view_count": null,
      "_view_module": "@jupyter-widgets/base",
      "_view_module_version": "1.2.0",
      "_view_name": "StyleView",
      "description_width": ""
     }
    },
    "79b775c058534b619dcf80f8db55401d": {
     "model_module": "@jupyter-widgets/controls",
     "model_name": "HBoxModel",
     "model_module_version": "1.5.0",
     "state": {
      "_dom_classes": [],
      "_model_module": "@jupyter-widgets/controls",
      "_model_module_version": "1.5.0",
      "_model_name": "HBoxModel",
      "_view_count": null,
      "_view_module": "@jupyter-widgets/controls",
      "_view_module_version": "1.5.0",
      "_view_name": "HBoxView",
      "box_style": "",
      "children": [
       "IPY_MODEL_a55cb58ba83d46f4a4a15c37313a8e98",
       "IPY_MODEL_a6e20a30a13348e1875c83954aa4c177",
       "IPY_MODEL_8c72a71300584a94a2a7e7fd24cb3ec1"
      ],
      "layout": "IPY_MODEL_8630b412937841f39359fd01d85894e3"
     }
    },
    "a55cb58ba83d46f4a4a15c37313a8e98": {
     "model_module": "@jupyter-widgets/controls",
     "model_name": "HTMLModel",
     "model_module_version": "1.5.0",
     "state": {
      "_dom_classes": [],
      "_model_module": "@jupyter-widgets/controls",
      "_model_module_version": "1.5.0",
      "_model_name": "HTMLModel",
      "_view_count": null,
      "_view_module": "@jupyter-widgets/controls",
      "_view_module_version": "1.5.0",
      "_view_name": "HTMLView",
      "description": "",
      "description_tooltip": null,
      "layout": "IPY_MODEL_26e7d7b2bba141ee8490e315104aab65",
      "placeholder": "​",
      "style": "IPY_MODEL_20c769ac9ca6490caf2529668dc1bc82",
      "value": "100%"
     }
    },
    "a6e20a30a13348e1875c83954aa4c177": {
     "model_module": "@jupyter-widgets/controls",
     "model_name": "FloatProgressModel",
     "model_module_version": "1.5.0",
     "state": {
      "_dom_classes": [],
      "_model_module": "@jupyter-widgets/controls",
      "_model_module_version": "1.5.0",
      "_model_name": "FloatProgressModel",
      "_view_count": null,
      "_view_module": "@jupyter-widgets/controls",
      "_view_module_version": "1.5.0",
      "_view_name": "ProgressView",
      "bar_style": "",
      "description": "",
      "description_tooltip": null,
      "layout": "IPY_MODEL_6b53e8f273544416a5762c4de9bc8dd9",
      "max": 12,
      "min": 0,
      "orientation": "horizontal",
      "style": "IPY_MODEL_10b154d98e98482f8799a7f2087a7989",
      "value": 12
     }
    },
    "8c72a71300584a94a2a7e7fd24cb3ec1": {
     "model_module": "@jupyter-widgets/controls",
     "model_name": "HTMLModel",
     "model_module_version": "1.5.0",
     "state": {
      "_dom_classes": [],
      "_model_module": "@jupyter-widgets/controls",
      "_model_module_version": "1.5.0",
      "_model_name": "HTMLModel",
      "_view_count": null,
      "_view_module": "@jupyter-widgets/controls",
      "_view_module_version": "1.5.0",
      "_view_name": "HTMLView",
      "description": "",
      "description_tooltip": null,
      "layout": "IPY_MODEL_3b8c5366f1a544f98d0dde89c4c9c162",
      "placeholder": "​",
      "style": "IPY_MODEL_16c5baf9ca644015bedf52c9140d14cb",
      "value": " 12/12 [00:41&lt;00:00,  3.49s/it]"
     }
    },
    "8630b412937841f39359fd01d85894e3": {
     "model_module": "@jupyter-widgets/base",
     "model_name": "LayoutModel",
     "model_module_version": "1.2.0",
     "state": {
      "_model_module": "@jupyter-widgets/base",
      "_model_module_version": "1.2.0",
      "_model_name": "LayoutModel",
      "_view_count": null,
      "_view_module": "@jupyter-widgets/base",
      "_view_module_version": "1.2.0",
      "_view_name": "LayoutView",
      "align_content": null,
      "align_items": null,
      "align_self": null,
      "border": null,
      "bottom": null,
      "display": null,
      "flex": null,
      "flex_flow": null,
      "grid_area": null,
      "grid_auto_columns": null,
      "grid_auto_flow": null,
      "grid_auto_rows": null,
      "grid_column": null,
      "grid_gap": null,
      "grid_row": null,
      "grid_template_areas": null,
      "grid_template_columns": null,
      "grid_template_rows": null,
      "height": null,
      "justify_content": null,
      "justify_items": null,
      "left": null,
      "margin": null,
      "max_height": null,
      "max_width": null,
      "min_height": null,
      "min_width": null,
      "object_fit": null,
      "object_position": null,
      "order": null,
      "overflow": null,
      "overflow_x": null,
      "overflow_y": null,
      "padding": null,
      "right": null,
      "top": null,
      "visibility": "hidden",
      "width": null
     }
    },
    "26e7d7b2bba141ee8490e315104aab65": {
     "model_module": "@jupyter-widgets/base",
     "model_name": "LayoutModel",
     "model_module_version": "1.2.0",
     "state": {
      "_model_module": "@jupyter-widgets/base",
      "_model_module_version": "1.2.0",
      "_model_name": "LayoutModel",
      "_view_count": null,
      "_view_module": "@jupyter-widgets/base",
      "_view_module_version": "1.2.0",
      "_view_name": "LayoutView",
      "align_content": null,
      "align_items": null,
      "align_self": null,
      "border": null,
      "bottom": null,
      "display": null,
      "flex": null,
      "flex_flow": null,
      "grid_area": null,
      "grid_auto_columns": null,
      "grid_auto_flow": null,
      "grid_auto_rows": null,
      "grid_column": null,
      "grid_gap": null,
      "grid_row": null,
      "grid_template_areas": null,
      "grid_template_columns": null,
      "grid_template_rows": null,
      "height": null,
      "justify_content": null,
      "justify_items": null,
      "left": null,
      "margin": null,
      "max_height": null,
      "max_width": null,
      "min_height": null,
      "min_width": null,
      "object_fit": null,
      "object_position": null,
      "order": null,
      "overflow": null,
      "overflow_x": null,
      "overflow_y": null,
      "padding": null,
      "right": null,
      "top": null,
      "visibility": null,
      "width": null
     }
    },
    "20c769ac9ca6490caf2529668dc1bc82": {
     "model_module": "@jupyter-widgets/controls",
     "model_name": "DescriptionStyleModel",
     "model_module_version": "1.5.0",
     "state": {
      "_model_module": "@jupyter-widgets/controls",
      "_model_module_version": "1.5.0",
      "_model_name": "DescriptionStyleModel",
      "_view_count": null,
      "_view_module": "@jupyter-widgets/base",
      "_view_module_version": "1.2.0",
      "_view_name": "StyleView",
      "description_width": ""
     }
    },
    "6b53e8f273544416a5762c4de9bc8dd9": {
     "model_module": "@jupyter-widgets/base",
     "model_name": "LayoutModel",
     "model_module_version": "1.2.0",
     "state": {
      "_model_module": "@jupyter-widgets/base",
      "_model_module_version": "1.2.0",
      "_model_name": "LayoutModel",
      "_view_count": null,
      "_view_module": "@jupyter-widgets/base",
      "_view_module_version": "1.2.0",
      "_view_name": "LayoutView",
      "align_content": null,
      "align_items": null,
      "align_self": null,
      "border": null,
      "bottom": null,
      "display": null,
      "flex": null,
      "flex_flow": null,
      "grid_area": null,
      "grid_auto_columns": null,
      "grid_auto_flow": null,
      "grid_auto_rows": null,
      "grid_column": null,
      "grid_gap": null,
      "grid_row": null,
      "grid_template_areas": null,
      "grid_template_columns": null,
      "grid_template_rows": null,
      "height": null,
      "justify_content": null,
      "justify_items": null,
      "left": null,
      "margin": null,
      "max_height": null,
      "max_width": null,
      "min_height": null,
      "min_width": null,
      "object_fit": null,
      "object_position": null,
      "order": null,
      "overflow": null,
      "overflow_x": null,
      "overflow_y": null,
      "padding": null,
      "right": null,
      "top": null,
      "visibility": null,
      "width": null
     }
    },
    "10b154d98e98482f8799a7f2087a7989": {
     "model_module": "@jupyter-widgets/controls",
     "model_name": "ProgressStyleModel",
     "model_module_version": "1.5.0",
     "state": {
      "_model_module": "@jupyter-widgets/controls",
      "_model_module_version": "1.5.0",
      "_model_name": "ProgressStyleModel",
      "_view_count": null,
      "_view_module": "@jupyter-widgets/base",
      "_view_module_version": "1.2.0",
      "_view_name": "StyleView",
      "bar_color": null,
      "description_width": ""
     }
    },
    "3b8c5366f1a544f98d0dde89c4c9c162": {
     "model_module": "@jupyter-widgets/base",
     "model_name": "LayoutModel",
     "model_module_version": "1.2.0",
     "state": {
      "_model_module": "@jupyter-widgets/base",
      "_model_module_version": "1.2.0",
      "_model_name": "LayoutModel",
      "_view_count": null,
      "_view_module": "@jupyter-widgets/base",
      "_view_module_version": "1.2.0",
      "_view_name": "LayoutView",
      "align_content": null,
      "align_items": null,
      "align_self": null,
      "border": null,
      "bottom": null,
      "display": null,
      "flex": null,
      "flex_flow": null,
      "grid_area": null,
      "grid_auto_columns": null,
      "grid_auto_flow": null,
      "grid_auto_rows": null,
      "grid_column": null,
      "grid_gap": null,
      "grid_row": null,
      "grid_template_areas": null,
      "grid_template_columns": null,
      "grid_template_rows": null,
      "height": null,
      "justify_content": null,
      "justify_items": null,
      "left": null,
      "margin": null,
      "max_height": null,
      "max_width": null,
      "min_height": null,
      "min_width": null,
      "object_fit": null,
      "object_position": null,
      "order": null,
      "overflow": null,
      "overflow_x": null,
      "overflow_y": null,
      "padding": null,
      "right": null,
      "top": null,
      "visibility": null,
      "width": null
     }
    },
    "16c5baf9ca644015bedf52c9140d14cb": {
     "model_module": "@jupyter-widgets/controls",
     "model_name": "DescriptionStyleModel",
     "model_module_version": "1.5.0",
     "state": {
      "_model_module": "@jupyter-widgets/controls",
      "_model_module_version": "1.5.0",
      "_model_name": "DescriptionStyleModel",
      "_view_count": null,
      "_view_module": "@jupyter-widgets/base",
      "_view_module_version": "1.2.0",
      "_view_name": "StyleView",
      "description_width": ""
     }
    },
    "6eb6904f893d45c1a63fe5c9f38a7bd4": {
     "model_module": "@jupyter-widgets/controls",
     "model_name": "HBoxModel",
     "model_module_version": "1.5.0",
     "state": {
      "_dom_classes": [],
      "_model_module": "@jupyter-widgets/controls",
      "_model_module_version": "1.5.0",
      "_model_name": "HBoxModel",
      "_view_count": null,
      "_view_module": "@jupyter-widgets/controls",
      "_view_module_version": "1.5.0",
      "_view_name": "HBoxView",
      "box_style": "",
      "children": [
       "IPY_MODEL_b2029e1a6513444ebf4ed24cd903e6a6",
       "IPY_MODEL_0ea81109be044f209a483f99f0cd9b32",
       "IPY_MODEL_cdba8b1ef66c4bd39d85b90e7bf70805"
      ],
      "layout": "IPY_MODEL_faedb3eb0b684d4daaffed60e399a91b"
     }
    },
    "b2029e1a6513444ebf4ed24cd903e6a6": {
     "model_module": "@jupyter-widgets/controls",
     "model_name": "HTMLModel",
     "model_module_version": "1.5.0",
     "state": {
      "_dom_classes": [],
      "_model_module": "@jupyter-widgets/controls",
      "_model_module_version": "1.5.0",
      "_model_name": "HTMLModel",
      "_view_count": null,
      "_view_module": "@jupyter-widgets/controls",
      "_view_module_version": "1.5.0",
      "_view_name": "HTMLView",
      "description": "",
      "description_tooltip": null,
      "layout": "IPY_MODEL_186b12b069fa4061bace7b5a05872712",
      "placeholder": "​",
      "style": "IPY_MODEL_b32b834ae1a2402cae39aceb6f3698fe",
      "value": "100%"
     }
    },
    "0ea81109be044f209a483f99f0cd9b32": {
     "model_module": "@jupyter-widgets/controls",
     "model_name": "FloatProgressModel",
     "model_module_version": "1.5.0",
     "state": {
      "_dom_classes": [],
      "_model_module": "@jupyter-widgets/controls",
      "_model_module_version": "1.5.0",
      "_model_name": "FloatProgressModel",
      "_view_count": null,
      "_view_module": "@jupyter-widgets/controls",
      "_view_module_version": "1.5.0",
      "_view_name": "ProgressView",
      "bar_style": "",
      "description": "",
      "description_tooltip": null,
      "layout": "IPY_MODEL_1ae5d18b75354c80a44065ed61c311b0",
      "max": 12,
      "min": 0,
      "orientation": "horizontal",
      "style": "IPY_MODEL_85e8453402bb4fc0b80703faf0148583",
      "value": 12
     }
    },
    "cdba8b1ef66c4bd39d85b90e7bf70805": {
     "model_module": "@jupyter-widgets/controls",
     "model_name": "HTMLModel",
     "model_module_version": "1.5.0",
     "state": {
      "_dom_classes": [],
      "_model_module": "@jupyter-widgets/controls",
      "_model_module_version": "1.5.0",
      "_model_name": "HTMLModel",
      "_view_count": null,
      "_view_module": "@jupyter-widgets/controls",
      "_view_module_version": "1.5.0",
      "_view_name": "HTMLView",
      "description": "",
      "description_tooltip": null,
      "layout": "IPY_MODEL_e0cf11c5af29436e94d0699894ce189c",
      "placeholder": "​",
      "style": "IPY_MODEL_b8c45810a920428aa59672b7624c34cf",
      "value": " 12/12 [00:11&lt;00:00,  1.91it/s]"
     }
    },
    "faedb3eb0b684d4daaffed60e399a91b": {
     "model_module": "@jupyter-widgets/base",
     "model_name": "LayoutModel",
     "model_module_version": "1.2.0",
     "state": {
      "_model_module": "@jupyter-widgets/base",
      "_model_module_version": "1.2.0",
      "_model_name": "LayoutModel",
      "_view_count": null,
      "_view_module": "@jupyter-widgets/base",
      "_view_module_version": "1.2.0",
      "_view_name": "LayoutView",
      "align_content": null,
      "align_items": null,
      "align_self": null,
      "border": null,
      "bottom": null,
      "display": null,
      "flex": null,
      "flex_flow": null,
      "grid_area": null,
      "grid_auto_columns": null,
      "grid_auto_flow": null,
      "grid_auto_rows": null,
      "grid_column": null,
      "grid_gap": null,
      "grid_row": null,
      "grid_template_areas": null,
      "grid_template_columns": null,
      "grid_template_rows": null,
      "height": null,
      "justify_content": null,
      "justify_items": null,
      "left": null,
      "margin": null,
      "max_height": null,
      "max_width": null,
      "min_height": null,
      "min_width": null,
      "object_fit": null,
      "object_position": null,
      "order": null,
      "overflow": null,
      "overflow_x": null,
      "overflow_y": null,
      "padding": null,
      "right": null,
      "top": null,
      "visibility": "hidden",
      "width": null
     }
    },
    "186b12b069fa4061bace7b5a05872712": {
     "model_module": "@jupyter-widgets/base",
     "model_name": "LayoutModel",
     "model_module_version": "1.2.0",
     "state": {
      "_model_module": "@jupyter-widgets/base",
      "_model_module_version": "1.2.0",
      "_model_name": "LayoutModel",
      "_view_count": null,
      "_view_module": "@jupyter-widgets/base",
      "_view_module_version": "1.2.0",
      "_view_name": "LayoutView",
      "align_content": null,
      "align_items": null,
      "align_self": null,
      "border": null,
      "bottom": null,
      "display": null,
      "flex": null,
      "flex_flow": null,
      "grid_area": null,
      "grid_auto_columns": null,
      "grid_auto_flow": null,
      "grid_auto_rows": null,
      "grid_column": null,
      "grid_gap": null,
      "grid_row": null,
      "grid_template_areas": null,
      "grid_template_columns": null,
      "grid_template_rows": null,
      "height": null,
      "justify_content": null,
      "justify_items": null,
      "left": null,
      "margin": null,
      "max_height": null,
      "max_width": null,
      "min_height": null,
      "min_width": null,
      "object_fit": null,
      "object_position": null,
      "order": null,
      "overflow": null,
      "overflow_x": null,
      "overflow_y": null,
      "padding": null,
      "right": null,
      "top": null,
      "visibility": null,
      "width": null
     }
    },
    "b32b834ae1a2402cae39aceb6f3698fe": {
     "model_module": "@jupyter-widgets/controls",
     "model_name": "DescriptionStyleModel",
     "model_module_version": "1.5.0",
     "state": {
      "_model_module": "@jupyter-widgets/controls",
      "_model_module_version": "1.5.0",
      "_model_name": "DescriptionStyleModel",
      "_view_count": null,
      "_view_module": "@jupyter-widgets/base",
      "_view_module_version": "1.2.0",
      "_view_name": "StyleView",
      "description_width": ""
     }
    },
    "1ae5d18b75354c80a44065ed61c311b0": {
     "model_module": "@jupyter-widgets/base",
     "model_name": "LayoutModel",
     "model_module_version": "1.2.0",
     "state": {
      "_model_module": "@jupyter-widgets/base",
      "_model_module_version": "1.2.0",
      "_model_name": "LayoutModel",
      "_view_count": null,
      "_view_module": "@jupyter-widgets/base",
      "_view_module_version": "1.2.0",
      "_view_name": "LayoutView",
      "align_content": null,
      "align_items": null,
      "align_self": null,
      "border": null,
      "bottom": null,
      "display": null,
      "flex": null,
      "flex_flow": null,
      "grid_area": null,
      "grid_auto_columns": null,
      "grid_auto_flow": null,
      "grid_auto_rows": null,
      "grid_column": null,
      "grid_gap": null,
      "grid_row": null,
      "grid_template_areas": null,
      "grid_template_columns": null,
      "grid_template_rows": null,
      "height": null,
      "justify_content": null,
      "justify_items": null,
      "left": null,
      "margin": null,
      "max_height": null,
      "max_width": null,
      "min_height": null,
      "min_width": null,
      "object_fit": null,
      "object_position": null,
      "order": null,
      "overflow": null,
      "overflow_x": null,
      "overflow_y": null,
      "padding": null,
      "right": null,
      "top": null,
      "visibility": null,
      "width": null
     }
    },
    "85e8453402bb4fc0b80703faf0148583": {
     "model_module": "@jupyter-widgets/controls",
     "model_name": "ProgressStyleModel",
     "model_module_version": "1.5.0",
     "state": {
      "_model_module": "@jupyter-widgets/controls",
      "_model_module_version": "1.5.0",
      "_model_name": "ProgressStyleModel",
      "_view_count": null,
      "_view_module": "@jupyter-widgets/base",
      "_view_module_version": "1.2.0",
      "_view_name": "StyleView",
      "bar_color": null,
      "description_width": ""
     }
    },
    "e0cf11c5af29436e94d0699894ce189c": {
     "model_module": "@jupyter-widgets/base",
     "model_name": "LayoutModel",
     "model_module_version": "1.2.0",
     "state": {
      "_model_module": "@jupyter-widgets/base",
      "_model_module_version": "1.2.0",
      "_model_name": "LayoutModel",
      "_view_count": null,
      "_view_module": "@jupyter-widgets/base",
      "_view_module_version": "1.2.0",
      "_view_name": "LayoutView",
      "align_content": null,
      "align_items": null,
      "align_self": null,
      "border": null,
      "bottom": null,
      "display": null,
      "flex": null,
      "flex_flow": null,
      "grid_area": null,
      "grid_auto_columns": null,
      "grid_auto_flow": null,
      "grid_auto_rows": null,
      "grid_column": null,
      "grid_gap": null,
      "grid_row": null,
      "grid_template_areas": null,
      "grid_template_columns": null,
      "grid_template_rows": null,
      "height": null,
      "justify_content": null,
      "justify_items": null,
      "left": null,
      "margin": null,
      "max_height": null,
      "max_width": null,
      "min_height": null,
      "min_width": null,
      "object_fit": null,
      "object_position": null,
      "order": null,
      "overflow": null,
      "overflow_x": null,
      "overflow_y": null,
      "padding": null,
      "right": null,
      "top": null,
      "visibility": null,
      "width": null
     }
    },
    "b8c45810a920428aa59672b7624c34cf": {
     "model_module": "@jupyter-widgets/controls",
     "model_name": "DescriptionStyleModel",
     "model_module_version": "1.5.0",
     "state": {
      "_model_module": "@jupyter-widgets/controls",
      "_model_module_version": "1.5.0",
      "_model_name": "DescriptionStyleModel",
      "_view_count": null,
      "_view_module": "@jupyter-widgets/base",
      "_view_module_version": "1.2.0",
      "_view_name": "StyleView",
      "description_width": ""
     }
    },
    "e1ded8368e474749b76adca878f2c9f6": {
     "model_module": "@jupyter-widgets/controls",
     "model_name": "HBoxModel",
     "model_module_version": "1.5.0",
     "state": {
      "_dom_classes": [],
      "_model_module": "@jupyter-widgets/controls",
      "_model_module_version": "1.5.0",
      "_model_name": "HBoxModel",
      "_view_count": null,
      "_view_module": "@jupyter-widgets/controls",
      "_view_module_version": "1.5.0",
      "_view_name": "HBoxView",
      "box_style": "",
      "children": [
       "IPY_MODEL_e4670080a3a04deda08b94324365ff4a",
       "IPY_MODEL_586427d5f10947679bce9c1b0345b68a",
       "IPY_MODEL_682be302d2d549e086706f1f959d5553"
      ],
      "layout": "IPY_MODEL_11cb31fe9847468b87d930606f56162e"
     }
    },
    "e4670080a3a04deda08b94324365ff4a": {
     "model_module": "@jupyter-widgets/controls",
     "model_name": "HTMLModel",
     "model_module_version": "1.5.0",
     "state": {
      "_dom_classes": [],
      "_model_module": "@jupyter-widgets/controls",
      "_model_module_version": "1.5.0",
      "_model_name": "HTMLModel",
      "_view_count": null,
      "_view_module": "@jupyter-widgets/controls",
      "_view_module_version": "1.5.0",
      "_view_name": "HTMLView",
      "description": "",
      "description_tooltip": null,
      "layout": "IPY_MODEL_550b34d3020c404a9c2c53e816397765",
      "placeholder": "​",
      "style": "IPY_MODEL_bfb8454520324df3b9ce04811675e0a9",
      "value": "100%"
     }
    },
    "586427d5f10947679bce9c1b0345b68a": {
     "model_module": "@jupyter-widgets/controls",
     "model_name": "FloatProgressModel",
     "model_module_version": "1.5.0",
     "state": {
      "_dom_classes": [],
      "_model_module": "@jupyter-widgets/controls",
      "_model_module_version": "1.5.0",
      "_model_name": "FloatProgressModel",
      "_view_count": null,
      "_view_module": "@jupyter-widgets/controls",
      "_view_module_version": "1.5.0",
      "_view_name": "ProgressView",
      "bar_style": "",
      "description": "",
      "description_tooltip": null,
      "layout": "IPY_MODEL_73533fd87bd6419fb4621d7de6b71e93",
      "max": 12,
      "min": 0,
      "orientation": "horizontal",
      "style": "IPY_MODEL_c0380f19b5ac4dd2825f01d05184de37",
      "value": 12
     }
    },
    "682be302d2d549e086706f1f959d5553": {
     "model_module": "@jupyter-widgets/controls",
     "model_name": "HTMLModel",
     "model_module_version": "1.5.0",
     "state": {
      "_dom_classes": [],
      "_model_module": "@jupyter-widgets/controls",
      "_model_module_version": "1.5.0",
      "_model_name": "HTMLModel",
      "_view_count": null,
      "_view_module": "@jupyter-widgets/controls",
      "_view_module_version": "1.5.0",
      "_view_name": "HTMLView",
      "description": "",
      "description_tooltip": null,
      "layout": "IPY_MODEL_a3600f296fd9403f9286c5db7c150de7",
      "placeholder": "​",
      "style": "IPY_MODEL_5bf020dc09a7453b822d978e0ceecafa",
      "value": " 12/12 [00:13&lt;00:00,  1.17s/it]"
     }
    },
    "11cb31fe9847468b87d930606f56162e": {
     "model_module": "@jupyter-widgets/base",
     "model_name": "LayoutModel",
     "model_module_version": "1.2.0",
     "state": {
      "_model_module": "@jupyter-widgets/base",
      "_model_module_version": "1.2.0",
      "_model_name": "LayoutModel",
      "_view_count": null,
      "_view_module": "@jupyter-widgets/base",
      "_view_module_version": "1.2.0",
      "_view_name": "LayoutView",
      "align_content": null,
      "align_items": null,
      "align_self": null,
      "border": null,
      "bottom": null,
      "display": null,
      "flex": null,
      "flex_flow": null,
      "grid_area": null,
      "grid_auto_columns": null,
      "grid_auto_flow": null,
      "grid_auto_rows": null,
      "grid_column": null,
      "grid_gap": null,
      "grid_row": null,
      "grid_template_areas": null,
      "grid_template_columns": null,
      "grid_template_rows": null,
      "height": null,
      "justify_content": null,
      "justify_items": null,
      "left": null,
      "margin": null,
      "max_height": null,
      "max_width": null,
      "min_height": null,
      "min_width": null,
      "object_fit": null,
      "object_position": null,
      "order": null,
      "overflow": null,
      "overflow_x": null,
      "overflow_y": null,
      "padding": null,
      "right": null,
      "top": null,
      "visibility": "hidden",
      "width": null
     }
    },
    "550b34d3020c404a9c2c53e816397765": {
     "model_module": "@jupyter-widgets/base",
     "model_name": "LayoutModel",
     "model_module_version": "1.2.0",
     "state": {
      "_model_module": "@jupyter-widgets/base",
      "_model_module_version": "1.2.0",
      "_model_name": "LayoutModel",
      "_view_count": null,
      "_view_module": "@jupyter-widgets/base",
      "_view_module_version": "1.2.0",
      "_view_name": "LayoutView",
      "align_content": null,
      "align_items": null,
      "align_self": null,
      "border": null,
      "bottom": null,
      "display": null,
      "flex": null,
      "flex_flow": null,
      "grid_area": null,
      "grid_auto_columns": null,
      "grid_auto_flow": null,
      "grid_auto_rows": null,
      "grid_column": null,
      "grid_gap": null,
      "grid_row": null,
      "grid_template_areas": null,
      "grid_template_columns": null,
      "grid_template_rows": null,
      "height": null,
      "justify_content": null,
      "justify_items": null,
      "left": null,
      "margin": null,
      "max_height": null,
      "max_width": null,
      "min_height": null,
      "min_width": null,
      "object_fit": null,
      "object_position": null,
      "order": null,
      "overflow": null,
      "overflow_x": null,
      "overflow_y": null,
      "padding": null,
      "right": null,
      "top": null,
      "visibility": null,
      "width": null
     }
    },
    "bfb8454520324df3b9ce04811675e0a9": {
     "model_module": "@jupyter-widgets/controls",
     "model_name": "DescriptionStyleModel",
     "model_module_version": "1.5.0",
     "state": {
      "_model_module": "@jupyter-widgets/controls",
      "_model_module_version": "1.5.0",
      "_model_name": "DescriptionStyleModel",
      "_view_count": null,
      "_view_module": "@jupyter-widgets/base",
      "_view_module_version": "1.2.0",
      "_view_name": "StyleView",
      "description_width": ""
     }
    },
    "73533fd87bd6419fb4621d7de6b71e93": {
     "model_module": "@jupyter-widgets/base",
     "model_name": "LayoutModel",
     "model_module_version": "1.2.0",
     "state": {
      "_model_module": "@jupyter-widgets/base",
      "_model_module_version": "1.2.0",
      "_model_name": "LayoutModel",
      "_view_count": null,
      "_view_module": "@jupyter-widgets/base",
      "_view_module_version": "1.2.0",
      "_view_name": "LayoutView",
      "align_content": null,
      "align_items": null,
      "align_self": null,
      "border": null,
      "bottom": null,
      "display": null,
      "flex": null,
      "flex_flow": null,
      "grid_area": null,
      "grid_auto_columns": null,
      "grid_auto_flow": null,
      "grid_auto_rows": null,
      "grid_column": null,
      "grid_gap": null,
      "grid_row": null,
      "grid_template_areas": null,
      "grid_template_columns": null,
      "grid_template_rows": null,
      "height": null,
      "justify_content": null,
      "justify_items": null,
      "left": null,
      "margin": null,
      "max_height": null,
      "max_width": null,
      "min_height": null,
      "min_width": null,
      "object_fit": null,
      "object_position": null,
      "order": null,
      "overflow": null,
      "overflow_x": null,
      "overflow_y": null,
      "padding": null,
      "right": null,
      "top": null,
      "visibility": null,
      "width": null
     }
    },
    "c0380f19b5ac4dd2825f01d05184de37": {
     "model_module": "@jupyter-widgets/controls",
     "model_name": "ProgressStyleModel",
     "model_module_version": "1.5.0",
     "state": {
      "_model_module": "@jupyter-widgets/controls",
      "_model_module_version": "1.5.0",
      "_model_name": "ProgressStyleModel",
      "_view_count": null,
      "_view_module": "@jupyter-widgets/base",
      "_view_module_version": "1.2.0",
      "_view_name": "StyleView",
      "bar_color": null,
      "description_width": ""
     }
    },
    "a3600f296fd9403f9286c5db7c150de7": {
     "model_module": "@jupyter-widgets/base",
     "model_name": "LayoutModel",
     "model_module_version": "1.2.0",
     "state": {
      "_model_module": "@jupyter-widgets/base",
      "_model_module_version": "1.2.0",
      "_model_name": "LayoutModel",
      "_view_count": null,
      "_view_module": "@jupyter-widgets/base",
      "_view_module_version": "1.2.0",
      "_view_name": "LayoutView",
      "align_content": null,
      "align_items": null,
      "align_self": null,
      "border": null,
      "bottom": null,
      "display": null,
      "flex": null,
      "flex_flow": null,
      "grid_area": null,
      "grid_auto_columns": null,
      "grid_auto_flow": null,
      "grid_auto_rows": null,
      "grid_column": null,
      "grid_gap": null,
      "grid_row": null,
      "grid_template_areas": null,
      "grid_template_columns": null,
      "grid_template_rows": null,
      "height": null,
      "justify_content": null,
      "justify_items": null,
      "left": null,
      "margin": null,
      "max_height": null,
      "max_width": null,
      "min_height": null,
      "min_width": null,
      "object_fit": null,
      "object_position": null,
      "order": null,
      "overflow": null,
      "overflow_x": null,
      "overflow_y": null,
      "padding": null,
      "right": null,
      "top": null,
      "visibility": null,
      "width": null
     }
    },
    "5bf020dc09a7453b822d978e0ceecafa": {
     "model_module": "@jupyter-widgets/controls",
     "model_name": "DescriptionStyleModel",
     "model_module_version": "1.5.0",
     "state": {
      "_model_module": "@jupyter-widgets/controls",
      "_model_module_version": "1.5.0",
      "_model_name": "DescriptionStyleModel",
      "_view_count": null,
      "_view_module": "@jupyter-widgets/base",
      "_view_module_version": "1.2.0",
      "_view_name": "StyleView",
      "description_width": ""
     }
    }
   }
  }
 },
 "nbformat": 4,
 "nbformat_minor": 5
}
